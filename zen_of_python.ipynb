{
 "cells": [
  {
   "cell_type": "code",
   "execution_count": 1,
   "id": "b6c1e969-bed1-4268-8eb9-f1931cd20948",
   "metadata": {},
   "outputs": [
    {
     "name": "stdout",
     "output_type": "stream",
     "text": [
      "The Zen of Python, by Tim Peters\n",
      "\n",
      "Beautiful is better than ugly.\n",
      "Explicit is better than implicit.\n",
      "Simple is better than complex.\n",
      "Complex is better than complicated.\n",
      "Flat is better than nested.\n",
      "Sparse is better than dense.\n",
      "Readability counts.\n",
      "Special cases aren't special enough to break the rules.\n",
      "Although practicality beats purity.\n",
      "Errors should never pass silently.\n",
      "Unless explicitly silenced.\n",
      "In the face of ambiguity, refuse the temptation to guess.\n",
      "There should be one-- and preferably only one --obvious way to do it.\n",
      "Although that way may not be obvious at first unless you're Dutch.\n",
      "Now is better than never.\n",
      "Although never is often better than *right* now.\n",
      "If the implementation is hard to explain, it's a bad idea.\n",
      "If the implementation is easy to explain, it may be a good idea.\n",
      "Namespaces are one honking great idea -- let's do more of those!\n"
     ]
    }
   ],
   "source": [
    "import this"
   ]
  },
  {
   "cell_type": "markdown",
   "id": "6b685956-50fe-4489-922f-94bcda5bade7",
   "metadata": {},
   "source": [
    "# String Manipulation"
   ]
  },
  {
   "cell_type": "markdown",
   "id": "6b36e50c-53dc-4a6e-b2d5-017c89147f13",
   "metadata": {},
   "source": [
    "We can indexing strings like a list."
   ]
  },
  {
   "cell_type": "code",
   "execution_count": 9,
   "id": "b821a445-a641-41ab-8ee3-a51190963f74",
   "metadata": {},
   "outputs": [
    {
     "name": "stdout",
     "output_type": "stream",
     "text": [
      "length of a string is 31\n",
      "'un\n",
      "? royitsi en nugub inac nu'tumU\n"
     ]
    }
   ],
   "source": [
    "string = \"Umut'un cani bugun ne istiyor ?\"\n",
    "\n",
    "print('length of a string is',len(string))\n",
    "print(string[4:7]) # include - exclude.\n",
    "print(string[::-1]) # reverse the string."
   ]
  },
  {
   "cell_type": "code",
   "execution_count": 10,
   "id": "71f93b59-ec25-4642-8ef0-aa168efcd695",
   "metadata": {},
   "outputs": [],
   "source": [
    "movie = 'the most significant tension of _election_ is the potential relationship between a teacher and his student .'"
   ]
  },
  {
   "cell_type": "code",
   "execution_count": 11,
   "id": "7e68649f-2c4c-4421-b8e9-d0f873be9e84",
   "metadata": {},
   "outputs": [
    {
     "data": {
      "text/plain": [
       "108"
      ]
     },
     "execution_count": 11,
     "metadata": {},
     "output_type": "execute_result"
    }
   ],
   "source": [
    "len(movie)"
   ]
  },
  {
   "cell_type": "code",
   "execution_count": 12,
   "id": "eecfe281-d8b4-40f9-85a5-43ba4160b46d",
   "metadata": {},
   "outputs": [
    {
     "data": {
      "text/plain": [
       "'i'"
      ]
     },
     "execution_count": 12,
     "metadata": {},
     "output_type": "execute_result"
    }
   ],
   "source": [
    "movie[-43]"
   ]
  },
  {
   "cell_type": "markdown",
   "id": "6a6c7311-9086-40c6-97ad-6a30be252638",
   "metadata": {},
   "source": [
    "## String Operations\n"
   ]
  },
  {
   "cell_type": "code",
   "execution_count": 13,
   "id": "b0450cd6-e4f9-452e-81c3-488f490a2254",
   "metadata": {},
   "outputs": [],
   "source": [
    "sentence = \"tHIs is THE stRiNG We wILl make ChangES tO.\""
   ]
  },
  {
   "cell_type": "code",
   "execution_count": 14,
   "id": "4a47c00e-8ee4-4f1e-9a2d-e95052507ef6",
   "metadata": {},
   "outputs": [
    {
     "data": {
      "text/plain": [
       "'this is the string we will make changes to.'"
      ]
     },
     "execution_count": 14,
     "metadata": {},
     "output_type": "execute_result"
    }
   ],
   "source": [
    "sentence.lower()"
   ]
  },
  {
   "cell_type": "code",
   "execution_count": 15,
   "id": "b5f18dd7-8cb1-407a-b192-4cd82dda431f",
   "metadata": {},
   "outputs": [
    {
     "data": {
      "text/plain": [
       "'THIS IS THE STRING WE WILL MAKE CHANGES TO.'"
      ]
     },
     "execution_count": 15,
     "metadata": {},
     "output_type": "execute_result"
    }
   ],
   "source": [
    "sentence.upper()"
   ]
  },
  {
   "cell_type": "code",
   "execution_count": 16,
   "id": "5aee228c-b951-4c54-85a5-ca66080ef560",
   "metadata": {},
   "outputs": [
    {
     "data": {
      "text/plain": [
       "'This Is The String We Will Make Changes To.'"
      ]
     },
     "execution_count": 16,
     "metadata": {},
     "output_type": "execute_result"
    }
   ],
   "source": [
    "sentence.title()"
   ]
  },
  {
   "cell_type": "code",
   "execution_count": 17,
   "id": "eb5ecfa0-85cd-42d5-bfd0-fda003833ff1",
   "metadata": {},
   "outputs": [
    {
     "data": {
      "text/plain": [
       "'This is the string we will make changes to.'"
      ]
     },
     "execution_count": 17,
     "metadata": {},
     "output_type": "execute_result"
    }
   ],
   "source": [
    "sentence.capitalize()"
   ]
  },
  {
   "cell_type": "markdown",
   "id": "d3d4407a-f94d-4936-8f71-f3f9ffb30b63",
   "metadata": {},
   "source": [
    "**SPLITTING**"
   ]
  },
  {
   "cell_type": "markdown",
   "id": "d34ca74e-c385-40f4-9caa-20a3c2ed52ed",
   "metadata": {},
   "source": [
    "**split():**\n",
    "\n",
    "    split() is a method that splits a string from the left (beginning) and separates it into substrings based on a specified delimiter.\n",
    "    By default, if you don't provide a delimiter as an argument, it splits the string using whitespace characters (spaces, tabs, and newlines) as the delimiter.\n",
    "    You can specify a custom delimiter as an argument to split() to split the string based on that delimiter."
   ]
  },
  {
   "cell_type": "code",
   "execution_count": 18,
   "id": "e9957fc1-c585-416a-bd76-66766fae2999",
   "metadata": {},
   "outputs": [
    {
     "data": {
      "text/plain": [
       "['tHIs', 'is', 'THE', 'stRiNG We wILl make ChangES tO.']"
      ]
     },
     "execution_count": 18,
     "metadata": {},
     "output_type": "execute_result"
    }
   ],
   "source": [
    "sentence.split(sep=' ', maxsplit=3)"
   ]
  },
  {
   "cell_type": "markdown",
   "id": "16a1d940-0a22-4b6f-a9af-d41df40a38c4",
   "metadata": {},
   "source": [
    "**rsplit():**\n",
    "\n",
    "    rsplit() is similar to split(), but it splits the string from the right (end) and separates it into substrings based on a specified delimiter.\n",
    "    Like split(), it also uses whitespace characters as the default delimiter if none is provided.\n",
    "    You can specify a custom delimiter as an argument to rsplit() to split the string based on that delimiter."
   ]
  },
  {
   "cell_type": "code",
   "execution_count": 19,
   "id": "5a17915a-53fa-46df-9ab0-da473fa00579",
   "metadata": {},
   "outputs": [
    {
     "data": {
      "text/plain": [
       "['tHIs is THE stRiNG We wILl', 'make', 'ChangES', 'tO.']"
      ]
     },
     "execution_count": 19,
     "metadata": {},
     "output_type": "execute_result"
    }
   ],
   "source": [
    "sentence.rsplit(sep=' ', maxsplit=3)"
   ]
  },
  {
   "cell_type": "markdown",
   "id": "06869ac5-82ec-4687-8429-54077136ebff",
   "metadata": {},
   "source": [
    "**splitlines**\n",
    "\n",
    "    method in Python is a string method that is used to split a string into a list of substrings based on line breaks or newline characters ('\\n' or '\\r\\n'). This method is particularly useful when dealing with text files or multi-line strings and allows you to break the input string into individual lines."
   ]
  },
  {
   "cell_type": "code",
   "execution_count": 20,
   "id": "d2881af8-2079-40ba-af3a-68c1218ce322",
   "metadata": {},
   "outputs": [
    {
     "name": "stdout",
     "output_type": "stream",
     "text": [
      "['Line 1', 'Line 2', 'Line 3']\n"
     ]
    }
   ],
   "source": [
    "text = \"Line 1\\nLine 2\\r\\nLine 3\"\n",
    "result = text.splitlines()\n",
    "print(result)"
   ]
  },
  {
   "cell_type": "code",
   "execution_count": 21,
   "id": "891a68b7-a6c4-4381-8c82-d6870917c14a",
   "metadata": {},
   "outputs": [
    {
     "name": "stdout",
     "output_type": "stream",
     "text": [
      "['Line 1\\n', 'Line 2\\r\\n', 'Line 3']\n"
     ]
    }
   ],
   "source": [
    "text = \"Line 1\\nLine 2\\r\\nLine 3\"\n",
    "result = text.splitlines(keepends=True)\n",
    "print(result)"
   ]
  },
  {
   "cell_type": "code",
   "execution_count": 27,
   "id": "42132578-1a86-4f92-bf6c-d3d1a2e4297f",
   "metadata": {},
   "outputs": [
    {
     "data": {
      "text/plain": [
       "19"
      ]
     },
     "execution_count": 27,
     "metadata": {},
     "output_type": "execute_result"
    }
   ],
   "source": [
    "string.find('ne')"
   ]
  },
  {
   "cell_type": "code",
   "execution_count": 28,
   "id": "3c74ac3c-4b83-497a-8df0-3f1250befd7f",
   "metadata": {},
   "outputs": [
    {
     "data": {
      "text/plain": [
       "-1"
      ]
     },
     "execution_count": 28,
     "metadata": {},
     "output_type": "execute_result"
    }
   ],
   "source": [
    "string.find('en')"
   ]
  },
  {
   "cell_type": "code",
   "execution_count": 30,
   "id": "bc09a0e2-ded9-4021-bc2f-42823318c0d4",
   "metadata": {},
   "outputs": [
    {
     "name": "stdout",
     "output_type": "stream",
     "text": [
      "not found\n"
     ]
    }
   ],
   "source": [
    "try:\n",
    "    string.index('en')\n",
    "except ValueError:\n",
    "    print('not found')"
   ]
  },
  {
   "cell_type": "code",
   "execution_count": 37,
   "id": "8a2ec37f-eac2-40ed-a842-67ca7a6e7438",
   "metadata": {},
   "outputs": [
    {
     "data": {
      "text/plain": [
       "datetime.datetime(2023, 9, 23, 7, 7, 56, 655912)"
      ]
     },
     "execution_count": 37,
     "metadata": {},
     "output_type": "execute_result"
    }
   ],
   "source": [
    "import datetime\n",
    "datetime.datetime.now()"
   ]
  },
  {
   "cell_type": "code",
   "execution_count": null,
   "id": "3699cc9f-e835-4195-9def-cd7476604ff4",
   "metadata": {},
   "outputs": [],
   "source": []
  }
 ],
 "metadata": {
  "kernelspec": {
   "display_name": "Python 3 (ipykernel)",
   "language": "python",
   "name": "python3"
  },
  "language_info": {
   "codemirror_mode": {
    "name": "ipython",
    "version": 3
   },
   "file_extension": ".py",
   "mimetype": "text/x-python",
   "name": "python",
   "nbconvert_exporter": "python",
   "pygments_lexer": "ipython3",
   "version": "3.10.12"
  }
 },
 "nbformat": 4,
 "nbformat_minor": 5
}
