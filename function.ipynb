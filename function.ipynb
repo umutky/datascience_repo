{
 "cells": [
  {
   "attachments": {},
   "cell_type": "markdown",
   "metadata": {},
   "source": [
    "# Fonksiyonlar\n",
    "\n",
    "- \"DO ONE THING\"\n",
    "- \"DontRepeatYourself\""
   ]
  },
  {
   "cell_type": "code",
   "execution_count": 2,
   "metadata": {
    "ExecuteTime": {
     "end_time": "2023-12-24T01:26:58.718356682Z",
     "start_time": "2023-12-24T01:26:58.514975213Z"
    }
   },
   "outputs": [],
   "source": [
    "import numpy as np\n",
    "import pandas as pd\n",
    "import inspect"
   ]
  },
  {
   "cell_type": "code",
   "execution_count": 3,
   "metadata": {
    "ExecuteTime": {
     "end_time": "2023-12-24T01:27:00.490578050Z",
     "start_time": "2023-12-24T01:27:00.484194276Z"
    }
   },
   "outputs": [
    {
     "name": "stdout",
     "output_type": "stream",
     "text": [
      "\n",
      "    Compute the arithmetic mean along the specified axis.\n",
      "\n",
      "    Returns the average of the array elements.  The average is taken over\n",
      "    the flattened array by default, otherwise over the specified axis.\n",
      "    `float64` intermediate and return values are used for integer inputs.\n",
      "\n",
      "    Parameters\n",
      "    ----------\n",
      "    a : array_like\n",
      "        Array containing numbers whose mean is desired. If `a` is not an\n",
      "        array, a conversion is attempted.\n",
      "    axis : None or int or tuple of ints, optional\n",
      "        Axis or axes along which the means are computed. The default is to\n",
      "        compute the mean of the flattened array.\n",
      "\n",
      "        .. versionadded:: 1.7.0\n",
      "\n",
      "        If this is a tuple of ints, a mean is performed over multiple axes,\n",
      "        instead of a single axis or all the axes as before.\n",
      "    dtype : data-type, optional\n",
      "        Type to use in computing the mean.  For integer inputs, the default\n",
      "        is `float64`; for floating point inputs, it is the same as the\n",
      "        input dtype.\n",
      "    out : ndarray, optional\n",
      "        Alternate output array in which to place the result.  The default\n",
      "        is ``None``; if provided, it must have the same shape as the\n",
      "        expected output, but the type will be cast if necessary.\n",
      "        See :ref:`ufuncs-output-type` for more details.\n",
      "\n",
      "    keepdims : bool, optional\n",
      "        If this is set to True, the axes which are reduced are left\n",
      "        in the result as dimensions with size one. With this option,\n",
      "        the result will broadcast correctly against the input array.\n",
      "\n",
      "        If the default value is passed, then `keepdims` will not be\n",
      "        passed through to the `mean` method of sub-classes of\n",
      "        `ndarray`, however any non-default value will be.  If the\n",
      "        sub-class' method does not implement `keepdims` any\n",
      "        exceptions will be raised.\n",
      "\n",
      "    where : array_like of bool, optional\n",
      "        Elements to include in the mean. See `~numpy.ufunc.reduce` for details.\n",
      "\n",
      "        .. versionadded:: 1.20.0\n",
      "\n",
      "    Returns\n",
      "    -------\n",
      "    m : ndarray, see dtype parameter above\n",
      "        If `out=None`, returns a new array containing the mean values,\n",
      "        otherwise a reference to the output array is returned.\n",
      "\n",
      "    See Also\n",
      "    --------\n",
      "    average : Weighted average\n",
      "    std, var, nanmean, nanstd, nanvar\n",
      "\n",
      "    Notes\n",
      "    -----\n",
      "    The arithmetic mean is the sum of the elements along the axis divided\n",
      "    by the number of elements.\n",
      "\n",
      "    Note that for floating-point input, the mean is computed using the\n",
      "    same precision the input has.  Depending on the input data, this can\n",
      "    cause the results to be inaccurate, especially for `float32` (see\n",
      "    example below).  Specifying a higher-precision accumulator using the\n",
      "    `dtype` keyword can alleviate this issue.\n",
      "\n",
      "    By default, `float16` results are computed using `float32` intermediates\n",
      "    for extra precision.\n",
      "\n",
      "    Examples\n",
      "    --------\n",
      "    >>> a = np.array([[1, 2], [3, 4]])\n",
      "    >>> np.mean(a)\n",
      "    2.5\n",
      "    >>> np.mean(a, axis=0)\n",
      "    array([2., 3.])\n",
      "    >>> np.mean(a, axis=1)\n",
      "    array([1.5, 3.5])\n",
      "\n",
      "    In single precision, `mean` can be inaccurate:\n",
      "\n",
      "    >>> a = np.zeros((2, 512*512), dtype=np.float32)\n",
      "    >>> a[0, :] = 1.0\n",
      "    >>> a[1, :] = 0.1\n",
      "    >>> np.mean(a)\n",
      "    0.54999924\n",
      "\n",
      "    Computing the mean in float64 is more accurate:\n",
      "\n",
      "    >>> np.mean(a, dtype=np.float64)\n",
      "    0.55000000074505806 # may vary\n",
      "\n",
      "    Specifying a where argument:\n",
      "\n",
      "    >>> a = np.array([[5, 9, 13], [14, 10, 12], [11, 15, 19]])\n",
      "    >>> np.mean(a)\n",
      "    12.0\n",
      "    >>> np.mean(a, where=[[True], [False], [False]])\n",
      "    9.0\n",
      "\n",
      "    \n"
     ]
    }
   ],
   "source": [
    "print(np.mean.__doc__)"
   ]
  },
  {
   "cell_type": "code",
   "execution_count": 4,
   "metadata": {
    "ExecuteTime": {
     "end_time": "2023-12-24T01:27:03.804791205Z",
     "start_time": "2023-12-24T01:27:03.788946125Z"
    }
   },
   "outputs": [
    {
     "name": "stdout",
     "output_type": "stream",
     "text": [
      "Compute the standard deviation along the specified axis.\n",
      "\n",
      "Returns the standard deviation, a measure of the spread of a distribution,\n",
      "of the array elements. The standard deviation is computed for the\n",
      "flattened array by default, otherwise over the specified axis.\n",
      "\n",
      "Parameters\n",
      "----------\n",
      "a : array_like\n",
      "    Calculate the standard deviation of these values.\n",
      "axis : None or int or tuple of ints, optional\n",
      "    Axis or axes along which the standard deviation is computed. The\n",
      "    default is to compute the standard deviation of the flattened array.\n",
      "\n",
      "    .. versionadded:: 1.7.0\n",
      "\n",
      "    If this is a tuple of ints, a standard deviation is performed over\n",
      "    multiple axes, instead of a single axis or all the axes as before.\n",
      "dtype : dtype, optional\n",
      "    Type to use in computing the standard deviation. For arrays of\n",
      "    integer type the default is float64, for arrays of float types it is\n",
      "    the same as the array type.\n",
      "out : ndarray, optional\n",
      "    Alternative output array in which to place the result. It must have\n",
      "    the same shape as the expected output but the type (of the calculated\n",
      "    values) will be cast if necessary.\n",
      "ddof : int, optional\n",
      "    Means Delta Degrees of Freedom.  The divisor used in calculations\n",
      "    is ``N - ddof``, where ``N`` represents the number of elements.\n",
      "    By default `ddof` is zero.\n",
      "keepdims : bool, optional\n",
      "    If this is set to True, the axes which are reduced are left\n",
      "    in the result as dimensions with size one. With this option,\n",
      "    the result will broadcast correctly against the input array.\n",
      "\n",
      "    If the default value is passed, then `keepdims` will not be\n",
      "    passed through to the `std` method of sub-classes of\n",
      "    `ndarray`, however any non-default value will be.  If the\n",
      "    sub-class' method does not implement `keepdims` any\n",
      "    exceptions will be raised.\n",
      "\n",
      "where : array_like of bool, optional\n",
      "    Elements to include in the standard deviation.\n",
      "    See `~numpy.ufunc.reduce` for details.\n",
      "\n",
      "    .. versionadded:: 1.20.0\n",
      "\n",
      "Returns\n",
      "-------\n",
      "standard_deviation : ndarray, see dtype parameter above.\n",
      "    If `out` is None, return a new array containing the standard deviation,\n",
      "    otherwise return a reference to the output array.\n",
      "\n",
      "See Also\n",
      "--------\n",
      "var, mean, nanmean, nanstd, nanvar\n",
      ":ref:`ufuncs-output-type`\n",
      "\n",
      "Notes\n",
      "-----\n",
      "The standard deviation is the square root of the average of the squared\n",
      "deviations from the mean, i.e., ``std = sqrt(mean(x))``, where\n",
      "``x = abs(a - a.mean())**2``.\n",
      "\n",
      "The average squared deviation is typically calculated as ``x.sum() / N``,\n",
      "where ``N = len(x)``. If, however, `ddof` is specified, the divisor\n",
      "``N - ddof`` is used instead. In standard statistical practice, ``ddof=1``\n",
      "provides an unbiased estimator of the variance of the infinite population.\n",
      "``ddof=0`` provides a maximum likelihood estimate of the variance for\n",
      "normally distributed variables. The standard deviation computed in this\n",
      "function is the square root of the estimated variance, so even with\n",
      "``ddof=1``, it will not be an unbiased estimate of the standard deviation\n",
      "per se.\n",
      "\n",
      "Note that, for complex numbers, `std` takes the absolute\n",
      "value before squaring, so that the result is always real and nonnegative.\n",
      "\n",
      "For floating-point input, the *std* is computed using the same\n",
      "precision the input has. Depending on the input data, this can cause\n",
      "the results to be inaccurate, especially for float32 (see example below).\n",
      "Specifying a higher-accuracy accumulator using the `dtype` keyword can\n",
      "alleviate this issue.\n",
      "\n",
      "Examples\n",
      "--------\n",
      ">>> a = np.array([[1, 2], [3, 4]])\n",
      ">>> np.std(a)\n",
      "1.1180339887498949 # may vary\n",
      ">>> np.std(a, axis=0)\n",
      "array([1.,  1.])\n",
      ">>> np.std(a, axis=1)\n",
      "array([0.5,  0.5])\n",
      "\n",
      "In single precision, std() can be inaccurate:\n",
      "\n",
      ">>> a = np.zeros((2, 512*512), dtype=np.float32)\n",
      ">>> a[0, :] = 1.0\n",
      ">>> a[1, :] = 0.1\n",
      ">>> np.std(a)\n",
      "0.45000005\n",
      "\n",
      "Computing the standard deviation in float64 is more accurate:\n",
      "\n",
      ">>> np.std(a, dtype=np.float64)\n",
      "0.44999999925494177 # may vary\n",
      "\n",
      "Specifying a where argument:\n",
      "\n",
      ">>> a = np.array([[14, 8, 11, 10], [7, 9, 10, 11], [10, 15, 5, 10]])\n",
      ">>> np.std(a)\n",
      "2.614064523559687 # may vary\n",
      ">>> np.std(a, where=[[True], [True], [False]])\n",
      "2.0\n"
     ]
    }
   ],
   "source": [
    "print(inspect.getdoc(np.std))"
   ]
  },
  {
   "attachments": {},
   "cell_type": "markdown",
   "metadata": {},
   "source": [
    "# Using Context Manager"
   ]
  },
  {
   "cell_type": "code",
   "execution_count": 5,
   "metadata": {
    "ExecuteTime": {
     "end_time": "2023-12-24T01:27:07.119707917Z",
     "start_time": "2023-12-24T01:27:07.110262087Z"
    }
   },
   "outputs": [
    {
     "name": "stdout",
     "output_type": "stream",
     "text": [
      "The file is 96 characters long\n"
     ]
    }
   ],
   "source": [
    "with open(\"hello.txt\") as hello:\n",
    "\n",
    "    #Run your code hear.\n",
    "    #This code is running inside the context.\n",
    "\n",
    "    text = hello.read()\n",
    "    length = len(text)\n",
    "\n",
    "print(\"The file is {} characters long\". format(length))"
   ]
  },
  {
   "attachments": {},
   "cell_type": "markdown",
   "metadata": {},
   "source": [
    "# Closure"
   ]
  },
  {
   "cell_type": "code",
   "execution_count": 6,
   "metadata": {
    "ExecuteTime": {
     "end_time": "2023-12-24T01:27:10.735977400Z",
     "start_time": "2023-12-24T01:27:10.718083541Z"
    }
   },
   "outputs": [
    {
     "name": "stdout",
     "output_type": "stream",
     "text": [
      "True\n",
      "True\n",
      "True\n"
     ]
    }
   ],
   "source": [
    "def return_a_func(arg1, arg2):\n",
    "  def new_func():\n",
    "    print('arg1 was {}'.format(arg1))\n",
    "    print('arg2 was {}'.format(arg2))\n",
    "  return new_func\n",
    "    \n",
    "my_func = return_a_func(2, 17)\n",
    "\n",
    "print(my_func.__closure__ is not None)\n",
    "print(len(my_func.__closure__) == 2)\n",
    "\n",
    "# Get the values of the variables in the closure\n",
    "closure_values = [\n",
    "  my_func.__closure__[i].cell_contents for i in range(2)\n",
    "]\n",
    "print(closure_values == [2, 17])"
   ]
  },
  {
   "attachments": {},
   "cell_type": "markdown",
   "metadata": {},
   "source": [
    "# Decorators\n",
    "\n",
    "A decorator is a wrapper that you can place around a function that changes that function's behavior."
   ]
  },
  {
   "cell_type": "code",
   "execution_count": 5,
   "metadata": {},
   "outputs": [],
   "source": [
    "def double_args(func):\n",
    "    def wrapper(a,b):\n",
    "        return func(2*a, 2*b)\n",
    "    return wrapper"
   ]
  },
  {
   "cell_type": "code",
   "execution_count": 8,
   "metadata": {},
   "outputs": [
    {
     "name": "stdout",
     "output_type": "stream",
     "text": [
      "40\n"
     ]
    }
   ],
   "source": [
    "@double_args\n",
    "def multiply(a,b):\n",
    "    return(a*b)\n",
    "\n",
    "print(multiply(2,5))"
   ]
  },
  {
   "cell_type": "code",
   "execution_count": 12,
   "metadata": {},
   "outputs": [
    {
     "name": "stdout",
     "output_type": "stream",
     "text": [
      "foo() returned type <class 'int'>\n",
      "42\n",
      "foo() returned type <class 'list'>\n",
      "[1, 2, 3]\n",
      "foo() returned type <class 'dict'>\n",
      "{'a': 42}\n"
     ]
    }
   ],
   "source": [
    "def print_return_type(func):\n",
    "  # Define wrapper(), the decorated function\n",
    "  def wrapper(*args, **kwargs):\n",
    "    # Call the function being decorated\n",
    "    result = func(*args, **kwargs)\n",
    "    print('{}() returned type {}'.format(\n",
    "      func.__name__, type(result)\n",
    "    ))\n",
    "    return result\n",
    "  # Return the decorated function\n",
    "  return wrapper\n",
    "  \n",
    "@print_return_type\n",
    "def foo(value):\n",
    "  return value\n",
    "  \n",
    "print(foo(42))\n",
    "print(foo([1, 2, 3]))\n",
    "print(foo({'a': 42}))"
   ]
  },
  {
   "cell_type": "code",
   "execution_count": 22,
   "metadata": {},
   "outputs": [
    {
     "name": "stdout",
     "output_type": "stream",
     "text": [
      "Hello\n",
      "30\n",
      "None\n"
     ]
    }
   ],
   "source": [
    "# Burada asıl fonksiyonumuzun doc'unu alamadık çünkü bu şekilde yaparsan wrapper'ın attributes'lerini arar.\n",
    "\n",
    "def add_hello(func):\n",
    "  def wrapper(*args, **kwargs):\n",
    "    print('Hello')\n",
    "    return func(*args, **kwargs)\n",
    "  return wrapper\n",
    "\n",
    "# Decorate print_sum() with the add_hello() decorator\n",
    "@add_hello\n",
    "def print_sum(a, b):\n",
    "  \"\"\"Adds two numbers and prints the sum\"\"\"\n",
    "  print(a + b)\n",
    "  \n",
    "print_sum(10, 20)\n",
    "print_sum_docstring = print_sum.__doc__\n",
    "print(print_sum_docstring)"
   ]
  },
  {
   "cell_type": "code",
   "execution_count": 23,
   "metadata": {},
   "outputs": [
    {
     "name": "stdout",
     "output_type": "stream",
     "text": [
      "Hello\n",
      "30\n",
      "Adds two numbers and prints the sum\n"
     ]
    }
   ],
   "source": [
    "# Bu şekilde bu sorunu çözdük\n",
    "from functools import wraps\n",
    "\n",
    "def add_hello(func):\n",
    "  # Decorate wrapper() so that it keeps func()'s metadata\n",
    "  @wraps(func)\n",
    "  def wrapper(*args, **kwargs):\n",
    "    \"\"\"Print 'hello' and then call the decorated function.\"\"\"\n",
    "    print('Hello')\n",
    "    return func(*args, **kwargs)\n",
    "  return wrapper\n",
    "  \n",
    "@add_hello\n",
    "def print_sum(a, b):\n",
    "  \"\"\"Adds two numbers and prints the sum\"\"\"\n",
    "  print(a + b)\n",
    "  \n",
    "print_sum(10, 20)\n",
    "print_sum_docstring = print_sum.__doc__\n",
    "print(print_sum_docstring)"
   ]
  },
  {
   "attachments": {},
   "cell_type": "markdown",
   "metadata": {},
   "source": [
    "# How to use decorators in real world."
   ]
  },
  {
   "cell_type": "code",
   "execution_count": 2,
   "metadata": {},
   "outputs": [
    {
     "data": {
      "text/plain": [
       "5"
      ]
     },
     "execution_count": 2,
     "metadata": {},
     "output_type": "execute_result"
    }
   ],
   "source": [
    "import signal\n",
    "from functools import wraps\n",
    "import time\n",
    "\n",
    "def raise_timeout(*args,**kwargs):\n",
    "    raise TimeoutError()\n",
    "\n",
    "signal.signal(signalnum=signal.SIGALRM, handler=raise_timeout)\n",
    "signal.alarm(5)\n",
    "signal.alarm(0)"
   ]
  },
  {
   "cell_type": "code",
   "execution_count": 3,
   "metadata": {},
   "outputs": [],
   "source": [
    "# Timeout function\n",
    "def timeout(n_seconds):\n",
    "    def decorator(func):\n",
    "        @wraps(func)\n",
    "        def wrapper(*args,**kwargs):\n",
    "            # Set an alarm for n seconds\n",
    "            signal.alarm(n_seconds)\n",
    "            try:\n",
    "                # Call the decorated func\n",
    "                return func(*args,**kwargs)\n",
    "            finally:\n",
    "                # Cancel alarm\n",
    "                signal.alarm(0)\n",
    "        return wrapper\n",
    "    return decorator"
   ]
  },
  {
   "cell_type": "code",
   "execution_count": 4,
   "metadata": {},
   "outputs": [
    {
     "ename": "TimeoutError",
     "evalue": "",
     "output_type": "error",
     "traceback": [
      "\u001B[0;31m---------------------------------------------------------------------------\u001B[0m",
      "\u001B[0;31mTimeoutError\u001B[0m                              Traceback (most recent call last)",
      "\u001B[1;32m/home/umut/datascience_repo/function.ipynb Cell 17\u001B[0m in \u001B[0;36m1\n\u001B[1;32m      <a href='vscode-notebook-cell:/home/umut/datascience_repo/function.ipynb#X31sZmlsZQ%3D%3D?line=7'>8</a>\u001B[0m     time\u001B[39m.\u001B[39msleep(\u001B[39m10\u001B[39m)\n\u001B[1;32m      <a href='vscode-notebook-cell:/home/umut/datascience_repo/function.ipynb#X31sZmlsZQ%3D%3D?line=8'>9</a>\u001B[0m     \u001B[39mprint\u001B[39m(\u001B[39m\"\u001B[39m\u001B[39mbar!\u001B[39m\u001B[39m\"\u001B[39m)\n\u001B[0;32m---> <a href='vscode-notebook-cell:/home/umut/datascience_repo/function.ipynb#X31sZmlsZQ%3D%3D?line=10'>11</a>\u001B[0m foo()\n",
      "\u001B[1;32m/home/umut/datascience_repo/function.ipynb Cell 17\u001B[0m in \u001B[0;36m1\n\u001B[1;32m      <a href='vscode-notebook-cell:/home/umut/datascience_repo/function.ipynb#X31sZmlsZQ%3D%3D?line=6'>7</a>\u001B[0m signal\u001B[39m.\u001B[39malarm(n_seconds)\n\u001B[1;32m      <a href='vscode-notebook-cell:/home/umut/datascience_repo/function.ipynb#X31sZmlsZQ%3D%3D?line=7'>8</a>\u001B[0m \u001B[39mtry\u001B[39;00m:\n\u001B[1;32m      <a href='vscode-notebook-cell:/home/umut/datascience_repo/function.ipynb#X31sZmlsZQ%3D%3D?line=8'>9</a>\u001B[0m     \u001B[39m# Call the decorated func\u001B[39;00m\n\u001B[0;32m---> <a href='vscode-notebook-cell:/home/umut/datascience_repo/function.ipynb#X31sZmlsZQ%3D%3D?line=9'>10</a>\u001B[0m     \u001B[39mreturn\u001B[39;00m func(\u001B[39m*\u001B[39;49margs,\u001B[39m*\u001B[39;49m\u001B[39m*\u001B[39;49mkwargs)\n\u001B[1;32m     <a href='vscode-notebook-cell:/home/umut/datascience_repo/function.ipynb#X31sZmlsZQ%3D%3D?line=10'>11</a>\u001B[0m \u001B[39mfinally\u001B[39;00m:\n\u001B[1;32m     <a href='vscode-notebook-cell:/home/umut/datascience_repo/function.ipynb#X31sZmlsZQ%3D%3D?line=11'>12</a>\u001B[0m     \u001B[39m# Cancel alarm\u001B[39;00m\n\u001B[1;32m     <a href='vscode-notebook-cell:/home/umut/datascience_repo/function.ipynb#X31sZmlsZQ%3D%3D?line=12'>13</a>\u001B[0m     signal\u001B[39m.\u001B[39malarm(\u001B[39m0\u001B[39m)\n",
      "\u001B[1;32m/home/umut/datascience_repo/function.ipynb Cell 17\u001B[0m in \u001B[0;36m3\n\u001B[1;32m      <a href='vscode-notebook-cell:/home/umut/datascience_repo/function.ipynb#X31sZmlsZQ%3D%3D?line=0'>1</a>\u001B[0m \u001B[39m@timeout\u001B[39m(\u001B[39m5\u001B[39m)\n\u001B[1;32m      <a href='vscode-notebook-cell:/home/umut/datascience_repo/function.ipynb#X31sZmlsZQ%3D%3D?line=1'>2</a>\u001B[0m \u001B[39mdef\u001B[39;00m \u001B[39mfoo\u001B[39m():\n\u001B[0;32m----> <a href='vscode-notebook-cell:/home/umut/datascience_repo/function.ipynb#X31sZmlsZQ%3D%3D?line=2'>3</a>\u001B[0m     time\u001B[39m.\u001B[39;49msleep(\u001B[39m10\u001B[39;49m)\n\u001B[1;32m      <a href='vscode-notebook-cell:/home/umut/datascience_repo/function.ipynb#X31sZmlsZQ%3D%3D?line=3'>4</a>\u001B[0m     \u001B[39mprint\u001B[39m(\u001B[39m\"\u001B[39m\u001B[39mfoo!\u001B[39m\u001B[39m\"\u001B[39m)\n",
      "\u001B[1;32m/home/umut/datascience_repo/function.ipynb Cell 17\u001B[0m in \u001B[0;36m6\n\u001B[1;32m      <a href='vscode-notebook-cell:/home/umut/datascience_repo/function.ipynb#X31sZmlsZQ%3D%3D?line=4'>5</a>\u001B[0m \u001B[39mdef\u001B[39;00m \u001B[39mraise_timeout\u001B[39m(\u001B[39m*\u001B[39margs,\u001B[39m*\u001B[39m\u001B[39m*\u001B[39mkwargs):\n\u001B[0;32m----> <a href='vscode-notebook-cell:/home/umut/datascience_repo/function.ipynb#X31sZmlsZQ%3D%3D?line=5'>6</a>\u001B[0m     \u001B[39mraise\u001B[39;00m \u001B[39mTimeoutError\u001B[39;00m()\n",
      "\u001B[0;31mTimeoutError\u001B[0m: "
     ]
    }
   ],
   "source": [
    "@timeout(5)\n",
    "def foo():\n",
    "    time.sleep(10)\n",
    "    print(\"foo!\")\n",
    "\n",
    "@timeout(20)\n",
    "def bar():\n",
    "    time.sleep(10)\n",
    "    print(\"bar!\")\n",
    "\n",
    "foo()\n"
   ]
  },
  {
   "cell_type": "code",
   "execution_count": 5,
   "metadata": {},
   "outputs": [
    {
     "name": "stdout",
     "output_type": "stream",
     "text": [
      "bar!\n"
     ]
    }
   ],
   "source": [
    "bar()\n"
   ]
  },
  {
   "cell_type": "code",
   "execution_count": null,
   "metadata": {},
   "outputs": [],
   "source": []
  }
 ],
 "metadata": {
  "kernelspec": {
   "display_name": "Python 3",
   "language": "python",
   "name": "python3"
  },
  "language_info": {
   "codemirror_mode": {
    "name": "ipython",
    "version": 3
   },
   "file_extension": ".py",
   "mimetype": "text/x-python",
   "name": "python",
   "nbconvert_exporter": "python",
   "pygments_lexer": "ipython3",
   "version": "3.11.2"
  },
  "orig_nbformat": 4
 },
 "nbformat": 4,
 "nbformat_minor": 2
}
