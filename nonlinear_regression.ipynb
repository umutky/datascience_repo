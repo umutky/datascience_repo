{
 "cells": [
  {
   "cell_type": "markdown",
   "id": "49ea15cd-7b43-4e99-bd9f-68955bc13542",
   "metadata": {},
   "source": [
    "# Non Linear Regression"
   ]
  },
  {
   "cell_type": "code",
   "execution_count": 1,
   "id": "9028927c-1976-4dcd-b17a-2c3273607015",
   "metadata": {},
   "outputs": [],
   "source": [
    "import numpy as np\n",
    "import pandas as pd \n",
    "from sklearn.model_selection import train_test_split, GridSearchCV,cross_val_score\n",
    "from sklearn.metrics import mean_squared_error, r2_score\n",
    "import matplotlib.pyplot as plt\n",
    "from sklearn.preprocessing import scale \n",
    "from sklearn import model_selection\n",
    "from sklearn.tree import DecisionTreeRegressor, DecisionTreeClassifier\n",
    "from sklearn.neighbors import KNeighborsRegressor\n",
    "from sklearn.ensemble import BaggingRegressor\n",
    "\n",
    "from warnings import filterwarnings\n",
    "filterwarnings('ignore')"
   ]
  },
  {
   "cell_type": "markdown",
   "id": "497dc527-d49d-40fc-b049-274d99b9819e",
   "metadata": {},
   "source": [
    "# KNN"
   ]
  },
  {
   "cell_type": "code",
   "execution_count": 2,
   "id": "9c811d3e-2763-49d0-ae7a-e0a3149cc1bc",
   "metadata": {
    "scrolled": true
   },
   "outputs": [
    {
     "name": "stdout",
     "output_type": "stream",
     "text": [
      "df\n",
      "    AtBat  Hits  HmRun  Runs  RBI  Walks  Years  CAtBat  CHits  CHmRun  CRuns  \\\n",
      "0    315    81      7    24   38     39     14    3449    835      69    321   \n",
      "1    479   130     18    66   72     76      3    1624    457      63    224   \n",
      "2    496   141     20    65   78     37     11    5628   1575     225    828   \n",
      "3    321    87     10    39   42     30      2     396    101      12     48   \n",
      "4    594   169      4    74   51     35     11    4408   1133      19    501   \n",
      "\n",
      "   CRBI  CWalks League Division  PutOuts  Assists  Errors  Salary NewLeague  \n",
      "0   414     375      N        W      632       43      10   475.0         N  \n",
      "1   266     263      A        W      880       82      14   480.0         A  \n",
      "2   838     354      N        E      200       11       3   500.0         N  \n",
      "3    46      33      N        E      805       40       4    91.5         N  \n",
      "4   336     194      A        W      282      421      25   750.0         A   \n",
      "\n",
      "df_dummies\n",
      "    AtBat  Hits  HmRun  Runs  RBI  Walks  Years  CAtBat  CHits  CHmRun  CRuns  \\\n",
      "0    315    81      7    24   38     39     14    3449    835      69    321   \n",
      "1    479   130     18    66   72     76      3    1624    457      63    224   \n",
      "2    496   141     20    65   78     37     11    5628   1575     225    828   \n",
      "3    321    87     10    39   42     30      2     396    101      12     48   \n",
      "4    594   169      4    74   51     35     11    4408   1133      19    501   \n",
      "\n",
      "   CRBI  CWalks  PutOuts  Assists  Errors  Salary  League_N  Division_W  \\\n",
      "0   414     375      632       43      10   475.0      True        True   \n",
      "1   266     263      880       82      14   480.0     False        True   \n",
      "2   838     354      200       11       3   500.0      True       False   \n",
      "3    46      33      805       40       4    91.5      True       False   \n",
      "4   336     194      282      421      25   750.0     False        True   \n",
      "\n",
      "   NewLeague_N  \n",
      "0         True  \n",
      "1        False  \n",
      "2         True  \n",
      "3         True  \n",
      "4        False  \n",
      "y\n",
      " 0    475.0\n",
      "1    480.0\n",
      "2    500.0\n",
      "3     91.5\n",
      "4    750.0\n",
      "Name: Salary, dtype: float64 \n",
      "\n",
      "X\n",
      "    AtBat  Hits  HmRun  Runs  RBI  Walks  Years  CAtBat  CHits  CHmRun  CRuns  \\\n",
      "0    315    81      7    24   38     39     14    3449    835      69    321   \n",
      "1    479   130     18    66   72     76      3    1624    457      63    224   \n",
      "2    496   141     20    65   78     37     11    5628   1575     225    828   \n",
      "3    321    87     10    39   42     30      2     396    101      12     48   \n",
      "4    594   169      4    74   51     35     11    4408   1133      19    501   \n",
      "\n",
      "   CRBI  CWalks  PutOuts  Assists  Errors  League_N  Division_W  NewLeague_N  \n",
      "0   414     375      632       43      10      True        True         True  \n",
      "1   266     263      880       82      14     False        True        False  \n",
      "2   838     354      200       11       3      True       False         True  \n",
      "3    46      33      805       40       4      True       False         True  \n",
      "4   336     194      282      421      25     False        True        False  \n"
     ]
    }
   ],
   "source": [
    "hitters = pd.read_csv('C:/Users/umutk/Documents/python_calismalar/Hitters.csv')\n",
    "df = hitters.copy()\n",
    "df = df.dropna().reset_index(drop=True)\n",
    "print('df\\n',df.head(),'\\n')\n",
    "\n",
    "df_dummies = pd.get_dummies(df, drop_first=True)\n",
    "print('df_dummies\\n',df_dummies.head())\n",
    "\n",
    "y = df['Salary']\n",
    "X = df_dummies.drop('Salary', axis = 1)\n",
    "print('y\\n', y[:5],'\\n')\n",
    "print('X\\n', X[:5])\n",
    "\n",
    "X_train, X_test, y_train, y_test = train_test_split(X, y, test_size=0.25, random_state=42)\n"
   ]
  },
  {
   "cell_type": "code",
   "execution_count": 3,
   "id": "184a11c8-5ca4-48f2-a4b1-ced499614570",
   "metadata": {},
   "outputs": [
    {
     "name": "stdout",
     "output_type": "stream",
     "text": [
      "5\n"
     ]
    }
   ],
   "source": [
    "knn_model = KNeighborsRegressor(n_neighbors=5).fit(X_train, y_train)\n",
    "print(knn_model.n_neighbors)"
   ]
  },
  {
   "cell_type": "markdown",
   "id": "b9f0062a-5b52-42a4-8999-686da186df04",
   "metadata": {},
   "source": [
    "## Tahmin"
   ]
  },
  {
   "cell_type": "code",
   "execution_count": 4,
   "id": "78fcc941-9569-48fe-b17c-9bae0fc9003d",
   "metadata": {},
   "outputs": [
    {
     "name": "stdout",
     "output_type": "stream",
     "text": [
      "Test Hatasi: 426.6570764525201\n"
     ]
    }
   ],
   "source": [
    "y_pred = knn_model.predict(X_test)\n",
    "\n",
    "#Test Hatasi.\n",
    "print('Test Hatasi:',np.sqrt(mean_squared_error(y_test, y_pred)))"
   ]
  },
  {
   "cell_type": "code",
   "execution_count": 5,
   "id": "a6d81347-a2cb-4cbe-96fc-8da94d58e773",
   "metadata": {},
   "outputs": [
    {
     "name": "stdout",
     "output_type": "stream",
     "text": [
      "k = 1 için RMSE değeri:  0.0\n",
      "k = 2 için RMSE değeri:  179.52761335480352\n",
      "k = 3 için RMSE değeri:  205.20157172291863\n",
      "k = 4 için RMSE değeri:  220.5139794876305\n",
      "k = 5 için RMSE değeri:  239.6467132541376\n",
      "k = 6 için RMSE değeri:  243.5904190007242\n",
      "k = 7 için RMSE değeri:  258.1478781634636\n",
      "k = 8 için RMSE değeri:  266.05374203349805\n",
      "k = 9 için RMSE değeri:  269.73782093553376\n",
      "k = 10 için RMSE değeri:  271.2798300436963\n"
     ]
    }
   ],
   "source": [
    "# Egitim veri seti uzerinde k hyperparameter'e gore hata analizi yapiyoruz.\n",
    "RMSE = [] \n",
    "\n",
    "for k in range(10):\n",
    "    k = k+1\n",
    "    knn_model = KNeighborsRegressor(n_neighbors = k).fit(X_train, y_train)\n",
    "    y_pred = knn_model.predict(X_train) \n",
    "    rmse = np.sqrt(mean_squared_error(y_train,y_pred)) \n",
    "    RMSE.append(rmse) \n",
    "    print(\"k =\" , k , \"için RMSE değeri: \", rmse)"
   ]
  },
  {
   "cell_type": "markdown",
   "id": "15591692-3fb9-484e-924b-eda73fc3baa2",
   "metadata": {},
   "source": [
    "## Model Tuning"
   ]
  },
  {
   "cell_type": "code",
   "execution_count": 6,
   "id": "c0b7439f-623d-481b-9dcf-72351456c5c8",
   "metadata": {},
   "outputs": [
    {
     "name": "stdout",
     "output_type": "stream",
     "text": [
      "8\n",
      "0.5591141972291036\n"
     ]
    }
   ],
   "source": [
    "from sklearn.model_selection import GridSearchCV\n",
    "\n",
    "# Burada fonksiyon icerisinde gecerli olan parametre adinin girilmesi gerekir.\n",
    "knn_params = {'n_neighbors': np.arange(1,31,1)}\n",
    "\n",
    "# Modelimizi olusturuyoruz.\n",
    "knn_model = KNeighborsRegressor()\n",
    "\n",
    "# Cross validation kismi.\n",
    "knn_cv_model = GridSearchCV(knn_model, knn_params, cv=10)\n",
    "\n",
    "print(knn_cv_model.fit(X_train, y_train).best_params_['n_neighbors'])\n",
    "print(knn_cv_model.best_score_)"
   ]
  },
  {
   "cell_type": "code",
   "execution_count": 7,
   "id": "f3c3b888-a6e6-4694-b989-c6625016f460",
   "metadata": {},
   "outputs": [
    {
     "name": "stdout",
     "output_type": "stream",
     "text": [
      "k = 1 için RMSE değeri:  0.0 RMSE_CV değeri:  325.3947514706382\n",
      "k = 2 için RMSE değeri:  179.52761335480352 RMSE_CV değeri:  293.24000183333817\n",
      "k = 3 için RMSE değeri:  205.20157172291863 RMSE_CV değeri:  283.7486667487823\n",
      "k = 4 için RMSE değeri:  220.5139794876305 RMSE_CV değeri:  286.3240222024089\n",
      "k = 5 için RMSE değeri:  239.6467132541376 RMSE_CV değeri:  290.0705466132226\n",
      "k = 6 için RMSE değeri:  243.5904190007242 RMSE_CV değeri:  298.1263115575851\n",
      "k = 7 için RMSE değeri:  258.1478781634636 RMSE_CV değeri:  294.77070479194987\n",
      "k = 8 için RMSE değeri:  266.05374203349805 RMSE_CV değeri:  291.98672028891235\n",
      "k = 9 için RMSE değeri:  269.73782093553376 RMSE_CV değeri:  295.7162739573105\n",
      "k = 10 için RMSE değeri:  271.2798300436963 RMSE_CV değeri:  301.31047022701154\n"
     ]
    }
   ],
   "source": [
    "# Modelin Valide edilmeden onceki hatasini ve valide edildikten sonraki hatasini kiyaslayalim.\n",
    "RMSE = [] \n",
    "RMSE_CV = []\n",
    "for k in range(10):\n",
    "    k = k+1\n",
    "    knn_model = KNeighborsRegressor(n_neighbors = k).fit(X_train, y_train)\n",
    "    y_pred = knn_model.predict(X_train) \n",
    "    rmse = np.sqrt(mean_squared_error(y_train,y_pred)) \n",
    "    rmse_cv = np.sqrt(-1*cross_val_score(knn_model, X_train, y_train, cv=10, \n",
    "                                         scoring = \"neg_mean_squared_error\").mean())\n",
    "    RMSE.append(rmse) \n",
    "    RMSE_CV.append(rmse_cv)\n",
    "    print(\"k =\" , k , \"için RMSE değeri: \", rmse, \"RMSE_CV değeri: \", rmse_cv )"
   ]
  },
  {
   "cell_type": "markdown",
   "id": "b2a65272-edcc-4287-8b8c-fe33a836d5ad",
   "metadata": {},
   "source": [
    "**Burada onemli husus valide edilmeden onceki haline bakip aa en az hata k=2'de var o zaman 2 yapalim demek degildir. Asil husus bunlarin valide edildikten sonraki degerlerine  bakmaktir. Cunku valide edilmeden once verisetimizden 2 parca ayrildi ve bunlar uzerinde deneme yapmis olduk, fakat bu is bu kadar cabuk bitemez bu modelin genellenebilirligi cok az olur. Bu yuzden genellenebilirligi artirmak ve garanti altina almak icin Cross Validation islemi yapiyoruz.**"
   ]
  },
  {
   "cell_type": "code",
   "execution_count": 8,
   "id": "6c23a31e-8a22-4671-8996-9b21dba413cd",
   "metadata": {},
   "outputs": [
    {
     "data": {
      "text/plain": [
       "413.7094731463598"
      ]
     },
     "execution_count": 8,
     "metadata": {},
     "output_type": "execute_result"
    }
   ],
   "source": [
    "# Knn_tuned\n",
    "knn_tuned = KNeighborsRegressor(n_neighbors=8)\n",
    "\n",
    "knn_tuned.fit(X_train, y_train)\n",
    "\n",
    "#Tune edilmis modelin RMSE degeri\n",
    "np.sqrt(mean_squared_error(y_test, knn_tuned.predict(X_test)))"
   ]
  },
  {
   "cell_type": "markdown",
   "id": "97419b9c-ab56-4536-9ae9-03e5376beabf",
   "metadata": {},
   "source": [
    "# Dogrusal SVR"
   ]
  },
  {
   "cell_type": "markdown",
   "id": "b82abc85-1532-4a58-864d-36e880d445f0",
   "metadata": {},
   "source": [
    "## Model"
   ]
  },
  {
   "cell_type": "code",
   "execution_count": 32,
   "id": "20fc2aed-c747-47e8-b9e6-d1a699905560",
   "metadata": {},
   "outputs": [
    {
     "name": "stdout",
     "output_type": "stream",
     "text": [
      "   AtBat  Hits  HmRun  Runs  RBI  Walks  Years  CAtBat  CHits  CHmRun  CRuns  \\\n",
      "0    315    81      7    24   38     39     14    3449    835      69    321   \n",
      "1    479   130     18    66   72     76      3    1624    457      63    224   \n",
      "2    496   141     20    65   78     37     11    5628   1575     225    828   \n",
      "3    321    87     10    39   42     30      2     396    101      12     48   \n",
      "4    594   169      4    74   51     35     11    4408   1133      19    501   \n",
      "\n",
      "   CRBI  CWalks  PutOuts  Assists  Errors  Salary  League_N  Division_W  \\\n",
      "0   414     375      632       43      10   475.0      True        True   \n",
      "1   266     263      880       82      14   480.0     False        True   \n",
      "2   838     354      200       11       3   500.0      True       False   \n",
      "3    46      33      805       40       4    91.5      True       False   \n",
      "4   336     194      282      421      25   750.0     False        True   \n",
      "\n",
      "   NewLeague_N  \n",
      "0         True  \n",
      "1        False  \n",
      "2         True  \n",
      "3         True  \n",
      "4        False  \n"
     ]
    }
   ],
   "source": [
    "hitters = pd.read_csv('C:/Users/umutk/Documents/python_calismalar/Hitters.csv')\n",
    "df = hitters.copy()\n",
    "df = df.dropna().reset_index(drop=True)\n",
    "\n",
    "df_dummies = pd.get_dummies(df, drop_first=True)\n",
    "print(df_dummies.head())\n",
    "\n",
    "X = df_dummies.drop('Salary', axis=1)\n",
    "y = df['Salary']\n",
    "X_train, X_test, y_train, y_test = train_test_split(X, y, \n",
    "                                                    test_size=0.25, \n",
    "                                                    random_state=42)"
   ]
  },
  {
   "cell_type": "markdown",
   "id": "96f06e8a-c84c-4964-9e01-8b2d14f1f4d4",
   "metadata": {
    "jp-MarkdownHeadingCollapsed": true
   },
   "source": [
    "Dogrusal regresyon ile arasindaki durumu degerlendirmek icin 2 degiskenli olarak yapacagiz."
   ]
  },
  {
   "cell_type": "code",
   "execution_count": 33,
   "id": "1097a156-2eed-40c7-87f9-0077c3a8dec1",
   "metadata": {},
   "outputs": [],
   "source": [
    "X_train = pd.DataFrame(X_train['Hits'])\n",
    "X_test = pd.DataFrame(X_test['Hits'])"
   ]
  },
  {
   "cell_type": "code",
   "execution_count": 34,
   "id": "ffc20c16-1227-475f-a068-d7d8aabb197a",
   "metadata": {},
   "outputs": [],
   "source": [
    "from sklearn.svm import SVR\n",
    "\n",
    "svr_model = SVR(kernel='linear').fit(X_train, y_train)"
   ]
  },
  {
   "cell_type": "code",
   "execution_count": 37,
   "id": "5acd0067-ed7f-47c6-86bd-dbb6743e6b7b",
   "metadata": {},
   "outputs": [
    {
     "data": {
      "text/plain": [
       "array([403.52804878, 666.91219512, 706.66829268, 194.80853659,\n",
       "       423.40609756])"
      ]
     },
     "execution_count": 37,
     "metadata": {},
     "output_type": "execute_result"
    }
   ],
   "source": [
    "svr_model.predict(X_train)[:5]"
   ]
  },
  {
   "cell_type": "code",
   "execution_count": 63,
   "id": "e0c3ba21-9274-4ee2-bd92-ff1322961a13",
   "metadata": {},
   "outputs": [
    {
     "name": "stdout",
     "output_type": "stream",
     "text": [
      "y = -48.69756097561513 + 4.969512195122093x\n"
     ]
    }
   ],
   "source": [
    "# Denklemin formulu\n",
    "print(f'y = {svr_model.intercept_[0]} + {svr_model.coef_[0][0]}x')"
   ]
  },
  {
   "cell_type": "code",
   "execution_count": 55,
   "id": "328de96d-8010-4fe5-9c94-12c3e7248f6d",
   "metadata": {},
   "outputs": [
    {
     "data": {
      "image/png": "[encoded data removed]",
      "text/plain": [
       "<Figure size 640x480 with 1 Axes>"
      ]
     },
     "metadata": {},
     "output_type": "display_data"
    }
   ],
   "source": [
    "svr_train_pred = svr_model.predict(X_train)\n",
    "plt.scatter(X_train, y_train)\n",
    "plt.plot(X_train, svr_train_pred, color='r')\n",
    "plt.show()"
   ]
  },
  {
   "cell_type": "markdown",
   "id": "1dc1ae9d-0b56-4388-83d7-0000b77d6b49",
   "metadata": {},
   "source": [
    "### SVR ve Linear Regresyon modeli kiyaslama yapalim."
   ]
  },
  {
   "cell_type": "code",
   "execution_count": 59,
   "id": "de1dc58e-84a8-4a1e-85fc-bf52269ccff3",
   "metadata": {},
   "outputs": [
    {
     "name": "stdout",
     "output_type": "stream",
     "text": [
      "y = -8.814095480334345 + 5.172456135470686x\n"
     ]
    }
   ],
   "source": [
    "# Linear Regression modeli\n",
    "from sklearn.linear_model import LinearRegression\n",
    "lm_model = LinearRegression().fit(X_train, y_train)\n",
    "lm_train_pred = lm_model.predict(X_train)\n",
    "print('y = {0} + {1}x'.format(lm_model.intercept_, lm_model.coef_[0]))"
   ]
  },
  {
   "cell_type": "code",
   "execution_count": 60,
   "id": "05d60579-c21a-447b-a368-4b108b50e357",
   "metadata": {},
   "outputs": [
    {
     "name": "stdout",
     "output_type": "stream",
     "text": [
      "[403.52804878 666.91219512] \n",
      " [461.87941285 736.01958803]\n"
     ]
    }
   ],
   "source": [
    "# Ilk deger kiyaslamasi\n",
    "print(svr_train_pred[:2],'\\n',lm_train_pred[:2])"
   ]
  },
  {
   "cell_type": "code",
   "execution_count": 61,
   "id": "e01113d6-0f5d-4ea4-af32-8af7ab505fa7",
   "metadata": {},
   "outputs": [
    {
     "data": {
      "text/plain": [
       "Text(0, 0.5, 'Maaş (Salary)')"
      ]
     },
     "execution_count": 61,
     "metadata": {},
     "output_type": "execute_result"
    },
    {
     "data": {
      "image/png": "[encoded data removed]",
      "text/plain": [
       "<Figure size 640x480 with 1 Axes>"
      ]
     },
     "metadata": {},
     "output_type": "display_data"
    }
   ],
   "source": [
    "plt.scatter(X_train, y_train, alpha=0.5, s=23)\n",
    "plt.plot(X_train, lm_train_pred, 'g')\n",
    "plt.plot(X_train, svr_train_pred, color='r')\n",
    "\n",
    "plt.xlabel(\"Atış Sayısı(Hits)\")\n",
    "plt.ylabel(\"Maaş (Salary)\")"
   ]
  },
  {
   "cell_type": "markdown",
   "id": "347eef05-97c2-428e-8c64-081f9abc1ae3",
   "metadata": {},
   "source": [
    "## Tahmin"
   ]
  },
  {
   "cell_type": "code",
   "execution_count": 64,
   "id": "68ed6f8e-ec4e-4100-a42c-182878a93d99",
   "metadata": {},
   "outputs": [
    {
     "name": "stdout",
     "output_type": "stream",
     "text": [
      "y = -48.69756097561513 + 4.969512195122093x\n"
     ]
    }
   ],
   "source": [
    "# Tahmin denklemi\n",
    "print(f'y = {svr_model.intercept_[0]} + {svr_model.coef_[0][0]}x')"
   ]
  },
  {
   "cell_type": "code",
   "execution_count": 68,
   "id": "0eefb77c-a1e7-49c3-91b3-925c2c560bb8",
   "metadata": {},
   "outputs": [
    {
     "data": {
      "text/plain": [
       "array([403.52804878])"
      ]
     },
     "execution_count": 68,
     "metadata": {},
     "output_type": "execute_result"
    }
   ],
   "source": [
    "# x=91'ken modelin alacagi deger.\n",
    "svr_model.predict([[91]])"
   ]
  },
  {
   "cell_type": "code",
   "execution_count": 77,
   "id": "128ab0cf-efbe-417f-a270-9226a92143d3",
   "metadata": {},
   "outputs": [
    {
     "name": "stdout",
     "output_type": "stream",
     "text": [
      "modelin test hatasi 459.0187960365147\n"
     ]
    }
   ],
   "source": [
    "# Test hatasi hesaplama\n",
    "svr_test_pred = svr_model.predict(X_test)\n",
    "print('modelin test hatasi', np.sqrt(mean_squared_error(y_test, svr_test_pred)))"
   ]
  },
  {
   "cell_type": "markdown",
   "id": "6538894c-db09-4361-86e0-1dca28a2acd5",
   "metadata": {},
   "source": [
    "## Model Tuning"
   ]
  },
  {
   "cell_type": "markdown",
   "id": "85ccbcba-01fa-49be-bdb2-aaa477f5937b",
   "metadata": {},
   "source": [
    "SVR modelinde C karisiklik katsayisini tune edebiliriz."
   ]
  },
  {
   "cell_type": "code",
   "execution_count": 71,
   "id": "f4b2e2eb-b499-41cf-a05f-9bd017670f85",
   "metadata": {},
   "outputs": [],
   "source": [
    "svr_params = {'C' : np.arange(0.1, 2, 0.1)}\n",
    "svr_cv_model = GridSearchCV(svr_model, svr_params, cv=10).fit(X_train, y_train)"
   ]
  },
  {
   "cell_type": "code",
   "execution_count": 73,
   "id": "73ab50f7-3f99-45e9-9d8d-a4697b150672",
   "metadata": {},
   "outputs": [
    {
     "data": {
      "text/plain": [
       "{'C': 0.1}"
      ]
     },
     "execution_count": 73,
     "metadata": {},
     "output_type": "execute_result"
    }
   ],
   "source": [
    "svr_cv_model.best_params_"
   ]
  },
  {
   "cell_type": "code",
   "execution_count": 76,
   "id": "f692c220-94d6-43e5-8aae-510ae36970ba",
   "metadata": {},
   "outputs": [
    {
     "name": "stdout",
     "output_type": "stream",
     "text": [
      "Modelin test hatasi :  458.198966781116\n"
     ]
    }
   ],
   "source": [
    "# Tune edilmis modelimiz.\n",
    "svr_model_tuned = SVR(C=svr_cv_model.best_params_['C'], kernel='linear').fit(X_train, y_train)\n",
    "\n",
    "y_pred = svr_model_tuned.predict(X_test)\n",
    "print('Modelin test hatasi : ',np.sqrt(mean_squared_error(y_test, y_pred)))"
   ]
  },
  {
   "cell_type": "markdown",
   "id": "0ec3b974-983f-43d7-a07d-008e42273905",
   "metadata": {},
   "source": [
    "Yukariya kadar yaptiklarimizda SVR modeli kurarken yalnizca 'Hits' bagimsiz degiskeni uzerinden gittik. Peki diger degiskenleri de olaay katsak ne olurdu ?"
   ]
  },
  {
   "cell_type": "markdown",
   "id": "952c3c82-c0a4-4f38-92f6-4afb8cd98485",
   "metadata": {},
   "source": [
    "##  Tum degiskenleri olaya dahil ettigimizdeki hali."
   ]
  },
  {
   "cell_type": "code",
   "execution_count": 81,
   "id": "fc6d7713-3a68-4083-a969-78ba20b8a98f",
   "metadata": {},
   "outputs": [],
   "source": [
    "hitters = pd.read_csv('C:/Users/umutk/Documents/python_calismalar/Hitters.csv')\n",
    "df = hitters.copy()\n",
    "df = df.dropna().reset_index(drop=True)\n",
    "\n",
    "df_dummies = pd.get_dummies(df, drop_first=True)\n",
    "X = df_dummies.drop('Salary', axis=1)\n",
    "y = df['Salary']\n",
    "X_train, X_test, y_train, y_test = train_test_split(X, y, \n",
    "                                                    test_size=0.25, \n",
    "                                                    random_state=42)\n"
   ]
  },
  {
   "cell_type": "code",
   "execution_count": 82,
   "id": "d27983ff-82d7-4014-b2fe-5fcfa11d0e66",
   "metadata": {},
   "outputs": [],
   "source": [
    "svr_params = {'C' : np.arange(0.1, 2, 0.1)}\n",
    "svr_cv_model = GridSearchCV(svr_model, svr_params, cv=10).fit(X_train, y_train)"
   ]
  },
  {
   "cell_type": "code",
   "execution_count": 85,
   "id": "32ed1ec2-c4f0-4bdb-850e-98b7690bdee9",
   "metadata": {},
   "outputs": [
    {
     "data": {
      "text/plain": [
       "{'C': 0.4}"
      ]
     },
     "execution_count": 85,
     "metadata": {},
     "output_type": "execute_result"
    }
   ],
   "source": [
    "svr_cv_model.best_params_"
   ]
  },
  {
   "cell_type": "code",
   "execution_count": 86,
   "id": "867ca063-4e75-4843-b4df-e4be65eb953f",
   "metadata": {},
   "outputs": [
    {
     "name": "stdout",
     "output_type": "stream",
     "text": [
      "Modelin test hatasi :  367.538528365296\n"
     ]
    }
   ],
   "source": [
    "svr_model_tuned = SVR(C=svr_cv_model.best_params_['C'], kernel='linear').fit(X_train, y_train)\n",
    "\n",
    "y_pred = svr_model_tuned.predict(X_test)\n",
    "print('Modelin test hatasi : ',np.sqrt(mean_squared_error(y_test, y_pred)))"
   ]
  },
  {
   "cell_type": "markdown",
   "id": "37cdbc9f-0f32-4a28-94e4-577bc7f742f2",
   "metadata": {},
   "source": [
    "Yukarida sadece Hits degiskenine gore model kurdugumuzda aldigimiz hata 458.198966781116 idi, suan ise 367.538528365296 oldu."
   ]
  },
  {
   "cell_type": "markdown",
   "id": "1b07328c-4eac-4678-95af-9ce0493710ce",
   "metadata": {},
   "source": [
    "# Dogrusal Olmayan SVR"
   ]
  },
  {
   "cell_type": "code",
   "execution_count": 87,
   "id": "217a0ad2-f99e-4e94-8dd3-5242f64dfa08",
   "metadata": {},
   "outputs": [],
   "source": [
    "np.random.seed(3)\n",
    "\n",
    "x_sim = np.random.uniform(2, 10, 145)\n",
    "y_sim = np.sin(x_sim) + np.random.normal(0, 0.4, 145)\n",
    "\n",
    "x_outliers = np.arange(2.5, 5, 0.5)\n",
    "y_outliers = -5*np.ones(5)\n",
    "\n",
    "x_sim_idx = np.argsort(np.concatenate([x_sim, x_outliers]))\n",
    "x_sim = np.concatenate([x_sim, x_outliers])[x_sim_idx]\n",
    "y_sim = np.concatenate([y_sim, y_outliers])[x_sim_idx]"
   ]
  },
  {
   "cell_type": "code",
   "execution_count": 89,
   "id": "f28e4a87-d954-4ea2-8997-9138454cb7d4",
   "metadata": {},
   "outputs": [],
   "source": [
    "from sklearn.linear_model import LinearRegression\n",
    "ols = LinearRegression()\n",
    "ols.fit(np.sin(x_sim[:, np.newaxis]), y_sim)\n",
    "ols_pred = ols.predict(np.sin(x_sim[:, np.newaxis]))\n",
    "\n",
    "from sklearn.svm import SVR\n",
    "eps = 0.1\n",
    "svr = SVR(kernel='rbf', epsilon = eps)\n",
    "svr.fit(x_sim[:, np.newaxis], y_sim)\n",
    "svr_pred = svr.predict(x_sim[:, np.newaxis])"
   ]
  },
  {
   "cell_type": "code",
   "execution_count": 90,
   "id": "011fbda6-f203-4c93-93aa-cce7dc51fe4a",
   "metadata": {},
   "outputs": [
    {
     "data": {
      "image/png": "[encoded data removed]",
      "text/plain": [
       "<Figure size 640x480 with 1 Axes>"
      ]
     },
     "metadata": {},
     "output_type": "display_data"
    }
   ],
   "source": [
    "plt.scatter(x_sim, y_sim, alpha=0.5, s=26)\n",
    "plt_ols, = plt.plot(x_sim, ols_pred, 'g')\n",
    "plt_svr, = plt.plot(x_sim, svr_pred, color='r')\n",
    "plt.xlabel(\"Bağımsız Değişken\")\n",
    "plt.ylabel(\"Bağımlı Değişken\")\n",
    "plt.ylim(-5.2, 2.2)\n",
    "plt.legend([plt_ols, plt_svr], ['EKK', 'SVR'], loc = 4);"
   ]
  },
  {
   "cell_type": "markdown",
   "id": "a3c859eb-a9c8-4b4c-9cea-6fe9c0c2cbf3",
   "metadata": {},
   "source": [
    "## Model"
   ]
  },
  {
   "cell_type": "code",
   "execution_count": 101,
   "id": "40ca3ca0-7113-475a-8357-48f25a1a4186",
   "metadata": {},
   "outputs": [],
   "source": [
    "hitters = pd.read_csv('C:/Users/umutk/Documents/python_calismalar/Hitters.csv')\n",
    "df = hitters.copy()\n",
    "df = df.dropna().reset_index(drop=True)\n",
    "\n",
    "df_dummies = pd.get_dummies(df, drop_first=True)\n",
    "X = df_dummies.drop('Salary', axis=1)\n",
    "y = df['Salary']\n",
    "X_train, X_test, y_train, y_test = train_test_split(X, y, \n",
    "                                                    test_size=0.25, \n",
    "                                                    random_state=42)"
   ]
  },
  {
   "cell_type": "code",
   "execution_count": 102,
   "id": "d59746d7-16c6-4c60-b2bf-e2848d063ea5",
   "metadata": {},
   "outputs": [],
   "source": [
    "svr_rbf_model = SVR(kernel='rbf').fit(X_train, y_train)"
   ]
  },
  {
   "cell_type": "markdown",
   "id": "e6d88e2c-ab6f-44f5-9835-516566f9c9e6",
   "metadata": {},
   "source": [
    "## Tahmin"
   ]
  },
  {
   "cell_type": "code",
   "execution_count": 103,
   "id": "6ec8db50-ba67-488b-914e-8addfdb6c66b",
   "metadata": {},
   "outputs": [
    {
     "data": {
      "text/plain": [
       "460.0032657244849"
      ]
     },
     "execution_count": 103,
     "metadata": {},
     "output_type": "execute_result"
    }
   ],
   "source": [
    "y_pred = svr_rbf_model.predict(X_test)\n",
    "\n",
    "np.sqrt(mean_squared_error(y_test, y_pred))"
   ]
  },
  {
   "cell_type": "markdown",
   "id": "b580d895-70fc-4226-b1ae-293d50a4d50a",
   "metadata": {},
   "source": [
    "## Model Tuning"
   ]
  },
  {
   "cell_type": "code",
   "execution_count": 105,
   "id": "3352d3ec-b007-4408-86f3-ef8cd6637e2c",
   "metadata": {},
   "outputs": [
    {
     "data": {
      "text/html": [
       "<style>#sk-container-id-4 {color: black;}#sk-container-id-4 pre{padding: 0;}#sk-container-id-4 div.sk-toggleable {background-color: white;}#sk-container-id-4 label.sk-toggleable__label {cursor: pointer;display: block;width: 100%;margin-bottom: 0;padding: 0.3em;box-sizing: border-box;text-align: center;}#sk-container-id-4 label.sk-toggleable__label-arrow:before {content: \"▸\";float: left;margin-right: 0.25em;color: #696969;}#sk-container-id-4 label.sk-toggleable__label-arrow:hover:before {color: black;}#sk-container-id-4 div.sk-estimator:hover label.sk-toggleable__label-arrow:before {color: black;}#sk-container-id-4 div.sk-toggleable__content {max-height: 0;max-width: 0;overflow: hidden;text-align: left;background-color: #f0f8ff;}#sk-container-id-4 div.sk-toggleable__content pre {margin: 0.2em;color: black;border-radius: 0.25em;background-color: #f0f8ff;}#sk-container-id-4 input.sk-toggleable__control:checked~div.sk-toggleable__content {max-height: 200px;max-width: 100%;overflow: auto;}#sk-container-id-4 input.sk-toggleable__control:checked~label.sk-toggleable__label-arrow:before {content: \"▾\";}#sk-container-id-4 div.sk-estimator input.sk-toggleable__control:checked~label.sk-toggleable__label {background-color: #d4ebff;}#sk-container-id-4 div.sk-label input.sk-toggleable__control:checked~label.sk-toggleable__label {background-color: #d4ebff;}#sk-container-id-4 input.sk-hidden--visually {border: 0;clip: rect(1px 1px 1px 1px);clip: rect(1px, 1px, 1px, 1px);height: 1px;margin: -1px;overflow: hidden;padding: 0;position: absolute;width: 1px;}#sk-container-id-4 div.sk-estimator {font-family: monospace;background-color: #f0f8ff;border: 1px dotted black;border-radius: 0.25em;box-sizing: border-box;margin-bottom: 0.5em;}#sk-container-id-4 div.sk-estimator:hover {background-color: #d4ebff;}#sk-container-id-4 div.sk-parallel-item::after {content: \"\";width: 100%;border-bottom: 1px solid gray;flex-grow: 1;}#sk-container-id-4 div.sk-label:hover label.sk-toggleable__label {background-color: #d4ebff;}#sk-container-id-4 div.sk-serial::before {content: \"\";position: absolute;border-left: 1px solid gray;box-sizing: border-box;top: 0;bottom: 0;left: 50%;z-index: 0;}#sk-container-id-4 div.sk-serial {display: flex;flex-direction: column;align-items: center;background-color: white;padding-right: 0.2em;padding-left: 0.2em;position: relative;}#sk-container-id-4 div.sk-item {position: relative;z-index: 1;}#sk-container-id-4 div.sk-parallel {display: flex;align-items: stretch;justify-content: center;background-color: white;position: relative;}#sk-container-id-4 div.sk-item::before, #sk-container-id-4 div.sk-parallel-item::before {content: \"\";position: absolute;border-left: 1px solid gray;box-sizing: border-box;top: 0;bottom: 0;left: 50%;z-index: -1;}#sk-container-id-4 div.sk-parallel-item {display: flex;flex-direction: column;z-index: 1;position: relative;background-color: white;}#sk-container-id-4 div.sk-parallel-item:first-child::after {align-self: flex-end;width: 50%;}#sk-container-id-4 div.sk-parallel-item:last-child::after {align-self: flex-start;width: 50%;}#sk-container-id-4 div.sk-parallel-item:only-child::after {width: 0;}#sk-container-id-4 div.sk-dashed-wrapped {border: 1px dashed gray;margin: 0 0.4em 0.5em 0.4em;box-sizing: border-box;padding-bottom: 0.4em;background-color: white;}#sk-container-id-4 div.sk-label label {font-family: monospace;font-weight: bold;display: inline-block;line-height: 1.2em;}#sk-container-id-4 div.sk-label-container {text-align: center;}#sk-container-id-4 div.sk-container {/* jupyter's `normalize.less` sets `[hidden] { display: none; }` but bootstrap.min.css set `[hidden] { display: none !important; }` so we also need the `!important` here to be able to override the default hidden behavior on the sphinx rendered scikit-learn.org. See: https://github.com/scikit-learn/scikit-learn/issues/21755 */display: inline-block !important;position: relative;}#sk-container-id-4 div.sk-text-repr-fallback {display: none;}</style><div id=\"sk-container-id-4\" class=\"sk-top-container\"><div class=\"sk-text-repr-fallback\"><pre>GridSearchCV(cv=10, estimator=SVR(),\n",
       "             param_grid={&#x27;C&#x27;: [0.1, 0.4, 5, 10, 20, 30, 40, 50]})</pre><b>In a Jupyter environment, please rerun this cell to show the HTML representation or trust the notebook. <br />On GitHub, the HTML representation is unable to render, please try loading this page with nbviewer.org.</b></div><div class=\"sk-container\" hidden><div class=\"sk-item sk-dashed-wrapped\"><div class=\"sk-label-container\"><div class=\"sk-label sk-toggleable\"><input class=\"sk-toggleable__control sk-hidden--visually\" id=\"sk-estimator-id-6\" type=\"checkbox\" ><label for=\"sk-estimator-id-6\" class=\"sk-toggleable__label sk-toggleable__label-arrow\">GridSearchCV</label><div class=\"sk-toggleable__content\"><pre>GridSearchCV(cv=10, estimator=SVR(),\n",
       "             param_grid={&#x27;C&#x27;: [0.1, 0.4, 5, 10, 20, 30, 40, 50]})</pre></div></div></div><div class=\"sk-parallel\"><div class=\"sk-parallel-item\"><div class=\"sk-item\"><div class=\"sk-label-container\"><div class=\"sk-label sk-toggleable\"><input class=\"sk-toggleable__control sk-hidden--visually\" id=\"sk-estimator-id-7\" type=\"checkbox\" ><label for=\"sk-estimator-id-7\" class=\"sk-toggleable__label sk-toggleable__label-arrow\">estimator: SVR</label><div class=\"sk-toggleable__content\"><pre>SVR()</pre></div></div></div><div class=\"sk-serial\"><div class=\"sk-item\"><div class=\"sk-estimator sk-toggleable\"><input class=\"sk-toggleable__control sk-hidden--visually\" id=\"sk-estimator-id-8\" type=\"checkbox\" ><label for=\"sk-estimator-id-8\" class=\"sk-toggleable__label sk-toggleable__label-arrow\">SVR</label><div class=\"sk-toggleable__content\"><pre>SVR()</pre></div></div></div></div></div></div></div></div></div></div>"
      ],
      "text/plain": [
       "GridSearchCV(cv=10, estimator=SVR(),\n",
       "             param_grid={'C': [0.1, 0.4, 5, 10, 20, 30, 40, 50]})"
      ]
     },
     "execution_count": 105,
     "metadata": {},
     "output_type": "execute_result"
    }
   ],
   "source": [
    "svr_params = {'C': [0.1, 0.4, 5, 10, 20, 30 ,40, 50]}\n",
    "\n",
    "svr_cv_rbf_model = GridSearchCV(svr_rbf_model, svr_params, cv=10)\n",
    "svr_cv_rbf_model.fit(X_train, y_train)"
   ]
  },
  {
   "cell_type": "code",
   "execution_count": 107,
   "id": "c4829642-3bac-421b-b252-96fa21eb5552",
   "metadata": {},
   "outputs": [
    {
     "name": "stdout",
     "output_type": "stream",
     "text": [
      "Tune edilmis modelin test hatasi :  428.00406888095694\n"
     ]
    }
   ],
   "source": [
    "y_pred_tuned = svr_cv_rbf_model.predict(X_test)\n",
    "print('Tune edilmis modelin test hatasi : ', np.sqrt(mean_squared_error(y_test, y_pred_tuned)))"
   ]
  },
  {
   "cell_type": "markdown",
   "id": "6a827824-2b1c-42d1-ac22-380fd91cbbf3",
   "metadata": {},
   "source": [
    "# ANN - YSA - Multilayer Perceptron(Çok Katmanlı Algılayıcı) "
   ]
  },
  {
   "cell_type": "markdown",
   "id": "56cb3343-454d-4dc6-a5a4-d0f3e954a5eb",
   "metadata": {},
   "source": [
    "## Model"
   ]
  },
  {
   "cell_type": "code",
   "execution_count": 138,
   "id": "042b0685-9f92-434d-8315-4c8af03ca27b",
   "metadata": {},
   "outputs": [],
   "source": [
    "hitters = pd.read_csv('C:/Users/umutk/Documents/python_calismalar/Hitters.csv')\n",
    "df = hitters.copy()\n",
    "df = df.dropna().reset_index(drop=True)\n",
    "\n",
    "df_dummies = pd.get_dummies(df, drop_first=True)\n",
    "X = df_dummies.drop('Salary', axis=1)\n",
    "y = df['Salary']\n",
    "X_train, X_test, y_train, y_test = train_test_split(X, y, \n",
    "                                                    test_size=0.25, \n",
    "                                                    random_state=42)"
   ]
  },
  {
   "cell_type": "markdown",
   "id": "236bf96f-f8f7-41cf-8762-6bd67cffe404",
   "metadata": {},
   "source": [
    "**YSA kullanirken donusturme(standartlastirma) gerekiyor. Aslinda butun modeller bu donusturme islemini sever fakat YSA da olmazsa olmazdir.**"
   ]
  },
  {
   "cell_type": "code",
   "execution_count": 139,
   "id": "98e9cb8a-c05e-442c-83ca-170aa1c5e523",
   "metadata": {},
   "outputs": [],
   "source": [
    "from sklearn.preprocessing import StandardScaler"
   ]
  },
  {
   "cell_type": "code",
   "execution_count": 140,
   "id": "fae63aa9-7579-4686-827d-7a45e3288ef5",
   "metadata": {},
   "outputs": [],
   "source": [
    "scaler = StandardScaler()\n",
    "X_train_scaled = scaler.fit_transform(X_train)\n",
    "X_test_scaled = scaler.fit_transform(X_test)"
   ]
  },
  {
   "cell_type": "code",
   "execution_count": 141,
   "id": "c916df2e-78e1-40da-98c2-dba3fa966ac5",
   "metadata": {},
   "outputs": [],
   "source": [
    "from sklearn.neural_network import MLPRegressor\n",
    "# Burada (100,20) daha iyi gormek icin manuel ekledik.\n",
    "mlp_model = MLPRegressor(hidden_layer_sizes=(100,20)).fit(X_train_scaled, y_train)"
   ]
  },
  {
   "cell_type": "code",
   "execution_count": 142,
   "id": "6caf8445-be7c-4b45-9a4c-fb2373b95400",
   "metadata": {},
   "outputs": [
    {
     "name": "stdout",
     "output_type": "stream",
     "text": [
      "4\n",
      "(100, 20)\n"
     ]
    }
   ],
   "source": [
    "# Kac katmanli ?\n",
    "print(mlp_model.n_layers_)\n",
    "\n",
    "# Gizli katman sayisi\n",
    "print(mlp_model.hidden_layer_sizes)"
   ]
  },
  {
   "cell_type": "markdown",
   "id": "1f4f53d6-01da-4ee9-bad2-4836fb4443d6",
   "metadata": {},
   "source": [
    "## Tahmin"
   ]
  },
  {
   "cell_type": "code",
   "execution_count": 144,
   "id": "58ab5ab6-7aac-4c71-aaa0-c114b715eea4",
   "metadata": {},
   "outputs": [
    {
     "name": "stdout",
     "output_type": "stream",
     "text": [
      "[200.99015027 383.77757841 668.29573192 134.98043999 169.31335396]\n",
      "Test hatasi :  436.6386436867762\n"
     ]
    }
   ],
   "source": [
    "print(mlp_model.predict(X_test_scaled)[:5])\n",
    "\n",
    "y_pred = mlp_model.predict(X_test_scaled)\n",
    "\n",
    "print('Test hatasi : ', np.sqrt(mean_squared_error(y_test, y_pred)))"
   ]
  },
  {
   "cell_type": "markdown",
   "id": "83139308-38c2-4d85-b872-047984994a62",
   "metadata": {},
   "source": [
    "## Model Tuning"
   ]
  },
  {
   "cell_type": "code",
   "execution_count": 146,
   "id": "4867021a-ab40-477d-b7cb-f168994ca5d7",
   "metadata": {},
   "outputs": [
    {
     "data": {
      "text/html": [
       "<style>#sk-container-id-8 {color: black;}#sk-container-id-8 pre{padding: 0;}#sk-container-id-8 div.sk-toggleable {background-color: white;}#sk-container-id-8 label.sk-toggleable__label {cursor: pointer;display: block;width: 100%;margin-bottom: 0;padding: 0.3em;box-sizing: border-box;text-align: center;}#sk-container-id-8 label.sk-toggleable__label-arrow:before {content: \"▸\";float: left;margin-right: 0.25em;color: #696969;}#sk-container-id-8 label.sk-toggleable__label-arrow:hover:before {color: black;}#sk-container-id-8 div.sk-estimator:hover label.sk-toggleable__label-arrow:before {color: black;}#sk-container-id-8 div.sk-toggleable__content {max-height: 0;max-width: 0;overflow: hidden;text-align: left;background-color: #f0f8ff;}#sk-container-id-8 div.sk-toggleable__content pre {margin: 0.2em;color: black;border-radius: 0.25em;background-color: #f0f8ff;}#sk-container-id-8 input.sk-toggleable__control:checked~div.sk-toggleable__content {max-height: 200px;max-width: 100%;overflow: auto;}#sk-container-id-8 input.sk-toggleable__control:checked~label.sk-toggleable__label-arrow:before {content: \"▾\";}#sk-container-id-8 div.sk-estimator input.sk-toggleable__control:checked~label.sk-toggleable__label {background-color: #d4ebff;}#sk-container-id-8 div.sk-label input.sk-toggleable__control:checked~label.sk-toggleable__label {background-color: #d4ebff;}#sk-container-id-8 input.sk-hidden--visually {border: 0;clip: rect(1px 1px 1px 1px);clip: rect(1px, 1px, 1px, 1px);height: 1px;margin: -1px;overflow: hidden;padding: 0;position: absolute;width: 1px;}#sk-container-id-8 div.sk-estimator {font-family: monospace;background-color: #f0f8ff;border: 1px dotted black;border-radius: 0.25em;box-sizing: border-box;margin-bottom: 0.5em;}#sk-container-id-8 div.sk-estimator:hover {background-color: #d4ebff;}#sk-container-id-8 div.sk-parallel-item::after {content: \"\";width: 100%;border-bottom: 1px solid gray;flex-grow: 1;}#sk-container-id-8 div.sk-label:hover label.sk-toggleable__label {background-color: #d4ebff;}#sk-container-id-8 div.sk-serial::before {content: \"\";position: absolute;border-left: 1px solid gray;box-sizing: border-box;top: 0;bottom: 0;left: 50%;z-index: 0;}#sk-container-id-8 div.sk-serial {display: flex;flex-direction: column;align-items: center;background-color: white;padding-right: 0.2em;padding-left: 0.2em;position: relative;}#sk-container-id-8 div.sk-item {position: relative;z-index: 1;}#sk-container-id-8 div.sk-parallel {display: flex;align-items: stretch;justify-content: center;background-color: white;position: relative;}#sk-container-id-8 div.sk-item::before, #sk-container-id-8 div.sk-parallel-item::before {content: \"\";position: absolute;border-left: 1px solid gray;box-sizing: border-box;top: 0;bottom: 0;left: 50%;z-index: -1;}#sk-container-id-8 div.sk-parallel-item {display: flex;flex-direction: column;z-index: 1;position: relative;background-color: white;}#sk-container-id-8 div.sk-parallel-item:first-child::after {align-self: flex-end;width: 50%;}#sk-container-id-8 div.sk-parallel-item:last-child::after {align-self: flex-start;width: 50%;}#sk-container-id-8 div.sk-parallel-item:only-child::after {width: 0;}#sk-container-id-8 div.sk-dashed-wrapped {border: 1px dashed gray;margin: 0 0.4em 0.5em 0.4em;box-sizing: border-box;padding-bottom: 0.4em;background-color: white;}#sk-container-id-8 div.sk-label label {font-family: monospace;font-weight: bold;display: inline-block;line-height: 1.2em;}#sk-container-id-8 div.sk-label-container {text-align: center;}#sk-container-id-8 div.sk-container {/* jupyter's `normalize.less` sets `[hidden] { display: none; }` but bootstrap.min.css set `[hidden] { display: none !important; }` so we also need the `!important` here to be able to override the default hidden behavior on the sphinx rendered scikit-learn.org. See: https://github.com/scikit-learn/scikit-learn/issues/21755 */display: inline-block !important;position: relative;}#sk-container-id-8 div.sk-text-repr-fallback {display: none;}</style><div id=\"sk-container-id-8\" class=\"sk-top-container\"><div class=\"sk-text-repr-fallback\"><pre>GridSearchCV(cv=10, estimator=MLPRegressor(hidden_layer_sizes=(100, 20)),\n",
       "             param_grid={&#x27;activation&#x27;: [&#x27;relu&#x27;, &#x27;logistic&#x27;],\n",
       "                         &#x27;alpha&#x27;: [0.1, 0.01, 0.02, 0.005],\n",
       "                         &#x27;hidden_layer_sizes&#x27;: [(20, 20), (100, 50, 150),\n",
       "                                                (300, 200, 150)]})</pre><b>In a Jupyter environment, please rerun this cell to show the HTML representation or trust the notebook. <br />On GitHub, the HTML representation is unable to render, please try loading this page with nbviewer.org.</b></div><div class=\"sk-container\" hidden><div class=\"sk-item sk-dashed-wrapped\"><div class=\"sk-label-container\"><div class=\"sk-label sk-toggleable\"><input class=\"sk-toggleable__control sk-hidden--visually\" id=\"sk-estimator-id-12\" type=\"checkbox\" ><label for=\"sk-estimator-id-12\" class=\"sk-toggleable__label sk-toggleable__label-arrow\">GridSearchCV</label><div class=\"sk-toggleable__content\"><pre>GridSearchCV(cv=10, estimator=MLPRegressor(hidden_layer_sizes=(100, 20)),\n",
       "             param_grid={&#x27;activation&#x27;: [&#x27;relu&#x27;, &#x27;logistic&#x27;],\n",
       "                         &#x27;alpha&#x27;: [0.1, 0.01, 0.02, 0.005],\n",
       "                         &#x27;hidden_layer_sizes&#x27;: [(20, 20), (100, 50, 150),\n",
       "                                                (300, 200, 150)]})</pre></div></div></div><div class=\"sk-parallel\"><div class=\"sk-parallel-item\"><div class=\"sk-item\"><div class=\"sk-label-container\"><div class=\"sk-label sk-toggleable\"><input class=\"sk-toggleable__control sk-hidden--visually\" id=\"sk-estimator-id-13\" type=\"checkbox\" ><label for=\"sk-estimator-id-13\" class=\"sk-toggleable__label sk-toggleable__label-arrow\">estimator: MLPRegressor</label><div class=\"sk-toggleable__content\"><pre>MLPRegressor(hidden_layer_sizes=(100, 20))</pre></div></div></div><div class=\"sk-serial\"><div class=\"sk-item\"><div class=\"sk-estimator sk-toggleable\"><input class=\"sk-toggleable__control sk-hidden--visually\" id=\"sk-estimator-id-14\" type=\"checkbox\" ><label for=\"sk-estimator-id-14\" class=\"sk-toggleable__label sk-toggleable__label-arrow\">MLPRegressor</label><div class=\"sk-toggleable__content\"><pre>MLPRegressor(hidden_layer_sizes=(100, 20))</pre></div></div></div></div></div></div></div></div></div></div>"
      ],
      "text/plain": [
       "GridSearchCV(cv=10, estimator=MLPRegressor(hidden_layer_sizes=(100, 20)),\n",
       "             param_grid={'activation': ['relu', 'logistic'],\n",
       "                         'alpha': [0.1, 0.01, 0.02, 0.005],\n",
       "                         'hidden_layer_sizes': [(20, 20), (100, 50, 150),\n",
       "                                                (300, 200, 150)]})"
      ]
     },
     "execution_count": 146,
     "metadata": {},
     "output_type": "execute_result"
    }
   ],
   "source": [
    "mlp_params = {'alpha': [0.1, 0.01, 0.02, 0.005],\n",
    "             'hidden_layer_sizes' : [(20,20), (100,50,150), (300,200,150)], \n",
    "             'activation' : ['relu', 'logistic']}\n",
    "\n",
    "mlp_cv_model = GridSearchCV(mlp_model, mlp_params, cv=10)\n",
    "mlp_cv_model.fit(X_train_scaled, y_train)"
   ]
  },
  {
   "cell_type": "code",
   "execution_count": 147,
   "id": "628c627d-3c8f-45e2-af73-5dca1acf05ad",
   "metadata": {},
   "outputs": [
    {
     "data": {
      "text/plain": [
       "{'activation': 'relu', 'alpha': 0.005, 'hidden_layer_sizes': (100, 50, 150)}"
      ]
     },
     "execution_count": 147,
     "metadata": {},
     "output_type": "execute_result"
    }
   ],
   "source": [
    "# Optimum hyperparameter degerleri.\n",
    "\n",
    "mlp_cv_model.best_params_"
   ]
  },
  {
   "cell_type": "code",
   "execution_count": 149,
   "id": "d41af2f0-bea5-4d24-bb12-934af691417e",
   "metadata": {},
   "outputs": [
    {
     "name": "stdout",
     "output_type": "stream",
     "text": [
      "Tune edilmis model test hatasi :  351.8820894107845\n"
     ]
    }
   ],
   "source": [
    "# Tuned model\n",
    "mlp_tuned = MLPRegressor(hidden_layer_sizes=(100,50,150), alpha=0.005, activation='relu').fit(X_train_scaled, y_train)\n",
    "y_pred = mlp_tuned.predict(X_test_scaled)\n",
    "\n",
    "print('Tune edilmis model test hatasi : ', np.sqrt(mean_squared_error(y_test, y_pred)))"
   ]
  },
  {
   "cell_type": "code",
   "execution_count": null,
   "id": "6aa27a68-ed96-443b-941f-cd9b19512df9",
   "metadata": {},
   "outputs": [],
   "source": []
  }
 ],
 "metadata": {
  "kernelspec": {
   "display_name": "Python 3 (ipykernel)",
   "language": "python",
   "name": "python3"
  },
  "language_info": {
   "codemirror_mode": {
    "name": "ipython",
    "version": 3
   },
   "file_extension": ".py",
   "mimetype": "text/x-python",
   "name": "python",
   "nbconvert_exporter": "python",
   "pygments_lexer": "ipython3",
   "version": "3.11.4"
  }
 },
 "nbformat": 4,
 "nbformat_minor": 5
}
