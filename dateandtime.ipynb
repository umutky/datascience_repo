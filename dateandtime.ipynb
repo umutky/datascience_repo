{
 "cells": [
  {
   "attachments": {},
   "cell_type": "markdown",
   "metadata": {},
   "source": [
    "# Date"
   ]
  },
  {
   "cell_type": "code",
   "execution_count": 3,
   "metadata": {},
   "outputs": [],
   "source": [
    "from datetime import date"
   ]
  },
  {
   "cell_type": "code",
   "execution_count": 4,
   "metadata": {},
   "outputs": [],
   "source": [
    "birthdays = [date(2000,7,27), date(2018,3,6)]"
   ]
  },
  {
   "cell_type": "code",
   "execution_count": 5,
   "metadata": {},
   "outputs": [
    {
     "name": "stdout",
     "output_type": "stream",
     "text": [
      "2000\n",
      "7\n",
      "27\n",
      "1\n"
     ]
    }
   ],
   "source": [
    "print(birthdays[0].year)\n",
    "print(birthdays[0].month)\n",
    "print(birthdays[0].day)\n",
    "\n",
    "print(birthdays[1].weekday())   # 0 = Monday, 1= Thuesda ..."
   ]
  },
  {
   "cell_type": "code",
   "execution_count": 6,
   "metadata": {},
   "outputs": [
    {
     "data": {
      "text/plain": [
       "datetime.timedelta(days=6431)"
      ]
     },
     "execution_count": 6,
     "metadata": {},
     "output_type": "execute_result"
    }
   ],
   "source": [
    "#MATH WITH DATE.\n",
    "d1 = date(2000,7,27)\n",
    "d2 = date(2018,3,6)\n",
    "dates = [d1, d2]\n",
    "\n",
    "d2 - d1"
   ]
  },
  {
   "cell_type": "code",
   "execution_count": 7,
   "metadata": {},
   "outputs": [
    {
     "name": "stdout",
     "output_type": "stream",
     "text": [
      "2019-03-06\n"
     ]
    }
   ],
   "source": [
    "from datetime import timedelta\n",
    "\n",
    "x = timedelta(days=365)\n",
    "print(d2+x)"
   ]
  },
  {
   "cell_type": "code",
   "execution_count": 8,
   "metadata": {},
   "outputs": [
    {
     "name": "stdout",
     "output_type": "stream",
     "text": [
      "2000-07-27 : <class 'str'>\n"
     ]
    }
   ],
   "source": [
    "# date to string with isoformat\n",
    "print(d1.isoformat(),\":\",type(d1.isoformat()))"
   ]
  },
  {
   "cell_type": "code",
   "execution_count": 9,
   "metadata": {},
   "outputs": [
    {
     "name": "stdout",
     "output_type": "stream",
     "text": [
      "27:07:2000 : <class 'str'>\n",
      "Year is 2000\n",
      "06-March-2018\n"
     ]
    }
   ],
   "source": [
    "# date to string strf format\n",
    "print(d1.strftime(format=\"%d:%m:%Y\"), \":\", type(d1.strftime(format=\"%d:%m:%Y\")))\n",
    "\n",
    "print(d1.strftime(format=\"Year is %Y\"))\n",
    "\n",
    "print(d2.strftime(format=\"%d-%B-%Y\"))"
   ]
  },
  {
   "attachments": {},
   "cell_type": "markdown",
   "metadata": {},
   "source": [
    "# DATE AND TIME"
   ]
  },
  {
   "cell_type": "code",
   "execution_count": 10,
   "metadata": {},
   "outputs": [],
   "source": [
    "from datetime import datetime"
   ]
  },
  {
   "cell_type": "code",
   "execution_count": 11,
   "metadata": {},
   "outputs": [
    {
     "name": "stdout",
     "output_type": "stream",
     "text": [
      "2018-03-06 09:45:36\n",
      "2019-03-06 09:00:00\n"
     ]
    }
   ],
   "source": [
    "dt = datetime(year=2018, month=3, day=6, hour=9, minute=45, second=36)\n",
    "print(dt)\n",
    "\n",
    "dt_new = dt.replace(year=2019,minute=0, second=0)\n",
    "print(dt_new)"
   ]
  },
  {
   "cell_type": "code",
   "execution_count": 12,
   "metadata": {},
   "outputs": [
    {
     "name": "stdout",
     "output_type": "stream",
     "text": [
      "06-March-2018\n",
      "06-03-2018 on 09:45:36\n",
      "2018-03-06T09:45:36\n"
     ]
    }
   ],
   "source": [
    "print(dt.strftime(\"%d-%B-%Y\"))\n",
    "print(dt.strftime(\"%d-%m-%Y on %H:%M:%S\"))\n",
    "\n",
    "print(dt.isoformat())"
   ]
  },
  {
   "cell_type": "code",
   "execution_count": 13,
   "metadata": {},
   "outputs": [
    {
     "name": "stdout",
     "output_type": "stream",
     "text": [
      "<class 'datetime.datetime'>  and  2000-07-27 06:45:00\n"
     ]
    }
   ],
   "source": [
    "# strptime\n",
    "\n",
    "dt2 = datetime.strptime(\"2000-7-27 6:45:00\", \"%Y-%m-%d %H:%M:%S\")\n",
    "print(type(dt2), \" and \", dt2)"
   ]
  },
  {
   "cell_type": "code",
   "execution_count": 14,
   "metadata": {},
   "outputs": [
    {
     "name": "stdout",
     "output_type": "stream",
     "text": [
      "2005-08-16 20:43:34\n"
     ]
    }
   ],
   "source": [
    "ts = 1124214214.0\n",
    "print(datetime.fromtimestamp(ts))"
   ]
  },
  {
   "cell_type": "code",
   "execution_count": 17,
   "metadata": {},
   "outputs": [
    {
     "data": {
      "text/plain": [
       "965.0"
      ]
     },
     "execution_count": 17,
     "metadata": {},
     "output_type": "execute_result"
    }
   ],
   "source": [
    "# MATH with datetime\n",
    "\n",
    "start = datetime(2023, 5, 22, 15, 21, 38)\n",
    "end = datetime(2023, 5, 22, 15, 37, 43)\n",
    "\n",
    "duration = end - start\n",
    "duration.total_seconds()"
   ]
  },
  {
   "cell_type": "code",
   "execution_count": 19,
   "metadata": {},
   "outputs": [
    {
     "name": "stdout",
     "output_type": "stream",
     "text": [
      "starting time :  2023-05-22 15:21:38 finished time :  2023-05-22 15:51:38\n"
     ]
    }
   ],
   "source": [
    "td = timedelta(minutes=30)\n",
    "print(\"starting time : \", start, \"finished time : \", (start + td))"
   ]
  },
  {
   "attachments": {},
   "cell_type": "markdown",
   "metadata": {},
   "source": [
    "# Time Zone (UTC)"
   ]
  },
  {
   "cell_type": "code",
   "execution_count": 20,
   "metadata": {},
   "outputs": [],
   "source": [
    "from datetime import datetime, timedelta, timezone"
   ]
  },
  {
   "cell_type": "code",
   "execution_count": 28,
   "metadata": {},
   "outputs": [
    {
     "name": "stdout",
     "output_type": "stream",
     "text": [
      "2023-05-22 15:40:30+03:00\n"
     ]
    }
   ],
   "source": [
    "IST = timezone(timedelta(hours=3, minutes=0))\n",
    "dt = datetime(2023, 5, 22, 15,40,30, tzinfo=IST)\n",
    "print(dt)"
   ]
  },
  {
   "cell_type": "code",
   "execution_count": 33,
   "metadata": {},
   "outputs": [
    {
     "name": "stdout",
     "output_type": "stream",
     "text": [
      "2023-05-22 15:40:10+03:00\n"
     ]
    }
   ],
   "source": [
    "dt2 = datetime(2023, 5, 22, 15, 40, 10)\n",
    "print(dt2.astimezone(IST))"
   ]
  },
  {
   "cell_type": "code",
   "execution_count": 35,
   "metadata": {},
   "outputs": [
    {
     "data": {
      "text/plain": [
       "datetime.datetime(2023, 5, 22, 15, 40, 10, tzinfo=datetime.timezone.utc)"
      ]
     },
     "execution_count": 35,
     "metadata": {},
     "output_type": "execute_result"
    }
   ],
   "source": [
    "dt2.replace(tzinfo=timezone.utc)"
   ]
  },
  {
   "cell_type": "code",
   "execution_count": 39,
   "metadata": {},
   "outputs": [
    {
     "name": "stdout",
     "output_type": "stream",
     "text": [
      "tzfile('/usr/share/zoneinfo/Europe/London')\n"
     ]
    }
   ],
   "source": [
    "from dateutil import tz\n",
    "london = tz.gettz(\"Europe/London\")\n",
    "print(london)\n"
   ]
  },
  {
   "attachments": {},
   "cell_type": "markdown",
   "metadata": {},
   "source": [
    "# Reading Date and Time series data in PANDAS"
   ]
  },
  {
   "cell_type": "code",
   "execution_count": 40,
   "metadata": {},
   "outputs": [],
   "source": [
    "import pandas as pd"
   ]
  },
  {
   "cell_type": "code",
   "execution_count": 47,
   "metadata": {},
   "outputs": [
    {
     "data": {
      "text/html": [
       "<div>\n",
       "<style scoped>\n",
       "    .dataframe tbody tr th:only-of-type {\n",
       "        vertical-align: middle;\n",
       "    }\n",
       "\n",
       "    .dataframe tbody tr th {\n",
       "        vertical-align: top;\n",
       "    }\n",
       "\n",
       "    .dataframe thead th {\n",
       "        text-align: right;\n",
       "    }\n",
       "</style>\n",
       "<table border=\"1\" class=\"dataframe\">\n",
       "  <thead>\n",
       "    <tr style=\"text-align: right;\">\n",
       "      <th></th>\n",
       "      <th>Accident_Index</th>\n",
       "      <th>Location_Easting_OSGR</th>\n",
       "      <th>Location_Northing_OSGR</th>\n",
       "      <th>Longitude</th>\n",
       "      <th>Latitude</th>\n",
       "      <th>Police_Force</th>\n",
       "      <th>Accident_Severity</th>\n",
       "      <th>Number_of_Vehicles</th>\n",
       "      <th>Number_of_Casualties</th>\n",
       "      <th>Date</th>\n",
       "      <th>...</th>\n",
       "      <th>Pedestrian_Crossing-Physical_Facilities</th>\n",
       "      <th>Light_Conditions</th>\n",
       "      <th>Weather_Conditions</th>\n",
       "      <th>Road_Surface_Conditions</th>\n",
       "      <th>Special_Conditions_at_Site</th>\n",
       "      <th>Carriageway_Hazards</th>\n",
       "      <th>Urban_or_Rural_Area</th>\n",
       "      <th>Did_Police_Officer_Attend_Scene_of_Accident</th>\n",
       "      <th>LSOA_of_Accident_Location</th>\n",
       "      <th>Year</th>\n",
       "    </tr>\n",
       "  </thead>\n",
       "  <tbody>\n",
       "    <tr>\n",
       "      <th>0</th>\n",
       "      <td>200901BS70001</td>\n",
       "      <td>524910</td>\n",
       "      <td>180800</td>\n",
       "      <td>-0.201349</td>\n",
       "      <td>51.512273</td>\n",
       "      <td>1</td>\n",
       "      <td>2</td>\n",
       "      <td>2</td>\n",
       "      <td>1</td>\n",
       "      <td>01/01/2009</td>\n",
       "      <td>...</td>\n",
       "      <td>No physical crossing within 50 meters</td>\n",
       "      <td>Daylight: Street light present</td>\n",
       "      <td>Fine without high winds</td>\n",
       "      <td>Dry</td>\n",
       "      <td>None</td>\n",
       "      <td>None</td>\n",
       "      <td>1</td>\n",
       "      <td>Yes</td>\n",
       "      <td>E01002882</td>\n",
       "      <td>2009</td>\n",
       "    </tr>\n",
       "    <tr>\n",
       "      <th>1</th>\n",
       "      <td>200901BS70002</td>\n",
       "      <td>525050</td>\n",
       "      <td>181040</td>\n",
       "      <td>-0.199248</td>\n",
       "      <td>51.514399</td>\n",
       "      <td>1</td>\n",
       "      <td>2</td>\n",
       "      <td>2</td>\n",
       "      <td>11</td>\n",
       "      <td>05/01/2009</td>\n",
       "      <td>...</td>\n",
       "      <td>Zebra crossing</td>\n",
       "      <td>Daylight: Street light present</td>\n",
       "      <td>Fine without high winds</td>\n",
       "      <td>Wet/Damp</td>\n",
       "      <td>None</td>\n",
       "      <td>None</td>\n",
       "      <td>1</td>\n",
       "      <td>Yes</td>\n",
       "      <td>E01002886</td>\n",
       "      <td>2009</td>\n",
       "    </tr>\n",
       "    <tr>\n",
       "      <th>2</th>\n",
       "      <td>200901BS70003</td>\n",
       "      <td>526490</td>\n",
       "      <td>177990</td>\n",
       "      <td>-0.179599</td>\n",
       "      <td>51.486668</td>\n",
       "      <td>1</td>\n",
       "      <td>3</td>\n",
       "      <td>2</td>\n",
       "      <td>1</td>\n",
       "      <td>04/01/2009</td>\n",
       "      <td>...</td>\n",
       "      <td>No physical crossing within 50 meters</td>\n",
       "      <td>Daylight: Street light present</td>\n",
       "      <td>Fine without high winds</td>\n",
       "      <td>Dry</td>\n",
       "      <td>None</td>\n",
       "      <td>None</td>\n",
       "      <td>1</td>\n",
       "      <td>Yes</td>\n",
       "      <td>E01002912</td>\n",
       "      <td>2009</td>\n",
       "    </tr>\n",
       "    <tr>\n",
       "      <th>3</th>\n",
       "      <td>200901BS70004</td>\n",
       "      <td>524800</td>\n",
       "      <td>180300</td>\n",
       "      <td>-0.203110</td>\n",
       "      <td>51.507804</td>\n",
       "      <td>1</td>\n",
       "      <td>2</td>\n",
       "      <td>2</td>\n",
       "      <td>1</td>\n",
       "      <td>05/01/2009</td>\n",
       "      <td>...</td>\n",
       "      <td>Pedestrian phase at traffic signal junction</td>\n",
       "      <td>Daylight: Street light present</td>\n",
       "      <td>Other</td>\n",
       "      <td>Frost/Ice</td>\n",
       "      <td>None</td>\n",
       "      <td>None</td>\n",
       "      <td>1</td>\n",
       "      <td>Yes</td>\n",
       "      <td>E01002871</td>\n",
       "      <td>2009</td>\n",
       "    </tr>\n",
       "    <tr>\n",
       "      <th>4</th>\n",
       "      <td>200901BS70005</td>\n",
       "      <td>526930</td>\n",
       "      <td>177490</td>\n",
       "      <td>-0.173445</td>\n",
       "      <td>51.482076</td>\n",
       "      <td>1</td>\n",
       "      <td>2</td>\n",
       "      <td>2</td>\n",
       "      <td>1</td>\n",
       "      <td>06/01/2009</td>\n",
       "      <td>...</td>\n",
       "      <td>No physical crossing within 50 meters</td>\n",
       "      <td>Darkness: Street lights present and lit</td>\n",
       "      <td>Fine without high winds</td>\n",
       "      <td>Dry</td>\n",
       "      <td>None</td>\n",
       "      <td>None</td>\n",
       "      <td>1</td>\n",
       "      <td>Yes</td>\n",
       "      <td>E01002840</td>\n",
       "      <td>2009</td>\n",
       "    </tr>\n",
       "  </tbody>\n",
       "</table>\n",
       "<p>5 rows × 33 columns</p>\n",
       "</div>"
      ],
      "text/plain": [
       "  Accident_Index  Location_Easting_OSGR  Location_Northing_OSGR  Longitude  \\\n",
       "0  200901BS70001                 524910                  180800  -0.201349   \n",
       "1  200901BS70002                 525050                  181040  -0.199248   \n",
       "2  200901BS70003                 526490                  177990  -0.179599   \n",
       "3  200901BS70004                 524800                  180300  -0.203110   \n",
       "4  200901BS70005                 526930                  177490  -0.173445   \n",
       "\n",
       "    Latitude  Police_Force  Accident_Severity  Number_of_Vehicles  \\\n",
       "0  51.512273             1                  2                   2   \n",
       "1  51.514399             1                  2                   2   \n",
       "2  51.486668             1                  3                   2   \n",
       "3  51.507804             1                  2                   2   \n",
       "4  51.482076             1                  2                   2   \n",
       "\n",
       "   Number_of_Casualties        Date  ...  \\\n",
       "0                     1  01/01/2009  ...   \n",
       "1                    11  05/01/2009  ...   \n",
       "2                     1  04/01/2009  ...   \n",
       "3                     1  05/01/2009  ...   \n",
       "4                     1  06/01/2009  ...   \n",
       "\n",
       "       Pedestrian_Crossing-Physical_Facilities  \\\n",
       "0        No physical crossing within 50 meters   \n",
       "1                               Zebra crossing   \n",
       "2        No physical crossing within 50 meters   \n",
       "3  Pedestrian phase at traffic signal junction   \n",
       "4        No physical crossing within 50 meters   \n",
       "\n",
       "                          Light_Conditions       Weather_Conditions  \\\n",
       "0           Daylight: Street light present  Fine without high winds   \n",
       "1           Daylight: Street light present  Fine without high winds   \n",
       "2           Daylight: Street light present  Fine without high winds   \n",
       "3           Daylight: Street light present                    Other   \n",
       "4  Darkness: Street lights present and lit  Fine without high winds   \n",
       "\n",
       "  Road_Surface_Conditions  Special_Conditions_at_Site  Carriageway_Hazards  \\\n",
       "0                     Dry                        None                 None   \n",
       "1                Wet/Damp                        None                 None   \n",
       "2                     Dry                        None                 None   \n",
       "3               Frost/Ice                        None                 None   \n",
       "4                     Dry                        None                 None   \n",
       "\n",
       "  Urban_or_Rural_Area  Did_Police_Officer_Attend_Scene_of_Accident  \\\n",
       "0                   1                                          Yes   \n",
       "1                   1                                          Yes   \n",
       "2                   1                                          Yes   \n",
       "3                   1                                          Yes   \n",
       "4                   1                                          Yes   \n",
       "\n",
       "   LSOA_of_Accident_Location  Year  \n",
       "0                  E01002882  2009  \n",
       "1                  E01002886  2009  \n",
       "2                  E01002912  2009  \n",
       "3                  E01002871  2009  \n",
       "4                  E01002840  2009  \n",
       "\n",
       "[5 rows x 33 columns]"
      ]
     },
     "execution_count": 47,
     "metadata": {},
     "output_type": "execute_result"
    }
   ],
   "source": [
    "df = pd.read_csv(\"/home/umut/python_calismalar/accidents_2009_to_2011.csv\")\n",
    "df.head()"
   ]
  },
  {
   "cell_type": "code",
   "execution_count": 50,
   "metadata": {},
   "outputs": [
    {
     "name": "stdout",
     "output_type": "stream",
     "text": [
      "0    15:11\n",
      "1    10:59\n",
      "2    14:19\n",
      "3    08:10\n",
      "4    17:25\n",
      "Name: Time, dtype: object\n",
      "0    01/01/2009\n",
      "1    05/01/2009\n",
      "2    04/01/2009\n",
      "3    05/01/2009\n",
      "4    06/01/2009\n",
      "Name: Date, dtype: object\n"
     ]
    }
   ],
   "source": [
    "print(df[\"Time\"].head())\n",
    "print(df[\"Date\"].head())"
   ]
  },
  {
   "attachments": {},
   "cell_type": "markdown",
   "metadata": {},
   "source": [
    "## Veriyi çekerken veri tipini zamana çevirmek."
   ]
  },
  {
   "cell_type": "code",
   "execution_count": 57,
   "metadata": {},
   "outputs": [
    {
     "name": "stderr",
     "output_type": "stream",
     "text": [
      "/tmp/ipykernel_39208/3209795427.py:2: UserWarning: Parsing dates in DD/MM/YYYY format when dayfirst=False (the default) was specified. This may lead to inconsistently parsed dates! Specify a format to ensure consistent parsing.\n",
      "  df = pd.read_csv(\"/home/umut/python_calismalar/accidents_2009_to_2011.csv\", parse_dates=[\"Date\"])\n"
     ]
    },
    {
     "data": {
      "text/plain": [
       "0   2009-01-01\n",
       "1   2009-05-01\n",
       "2   2009-04-01\n",
       "3   2009-05-01\n",
       "4   2009-06-01\n",
       "Name: Date, dtype: datetime64[ns]"
      ]
     },
     "execution_count": 57,
     "metadata": {},
     "output_type": "execute_result"
    }
   ],
   "source": [
    "# Veriyi çekerken direkt olarak datetime'a çevirir.\n",
    "df = pd.read_csv(\"/home/umut/python_calismalar/accidents_2009_to_2011.csv\", parse_dates=[\"Date\"])\n",
    "df[\"Date\"].head()"
   ]
  },
  {
   "attachments": {},
   "cell_type": "markdown",
   "metadata": {},
   "source": [
    "## Veriyi çektikten sonra veri tipini manuel olarak zamana çevirmek."
   ]
  },
  {
   "cell_type": "code",
   "execution_count": 79,
   "metadata": {},
   "outputs": [
    {
     "data": {
      "text/plain": [
       "0   2009-01-01 15:11:00\n",
       "1   2009-05-01 10:59:00\n",
       "2   2009-04-01 14:19:00\n",
       "3   2009-05-01 08:10:00\n",
       "4   2009-06-01 17:25:00\n",
       "Name: DateTime, dtype: datetime64[ns]"
      ]
     },
     "execution_count": 79,
     "metadata": {},
     "output_type": "execute_result"
    }
   ],
   "source": [
    "# Manuel olarak Date ve Time sütunlarını birleştirip veri tipini değiştirdim.\n",
    "df = pd.read_csv(\"/home/umut/python_calismalar/accidents_2009_to_2011.csv\")\n",
    "df[\"DateTime\"] = df[\"Date\"] +\" \"+ df[\"Time\"]\n",
    "df[\"DateTime\"].head()\n",
    "\n",
    "df[\"DateTime\"] = pd.to_datetime(df[\"DateTime\"])\n",
    "df[\"DateTime\"].head()"
   ]
  },
  {
   "attachments": {},
   "cell_type": "markdown",
   "metadata": {},
   "source": [
    "## Datetime veri tipi üzerinde işlemler"
   ]
  },
  {
   "cell_type": "code",
   "execution_count": 80,
   "metadata": {},
   "outputs": [
    {
     "data": {
      "text/plain": [
       "Timestamp('2010-06-24 03:33:07.806819072')"
      ]
     },
     "execution_count": 80,
     "metadata": {},
     "output_type": "execute_result"
    }
   ],
   "source": [
    "df[\"DateTime\"].mean()"
   ]
  },
  {
   "cell_type": "code",
   "execution_count": null,
   "metadata": {},
   "outputs": [],
   "source": []
  }
 ],
 "metadata": {
  "kernelspec": {
   "display_name": "Python 3",
   "language": "python",
   "name": "python3"
  },
  "language_info": {
   "codemirror_mode": {
    "name": "ipython",
    "version": 3
   },
   "file_extension": ".py",
   "mimetype": "text/x-python",
   "name": "python",
   "nbconvert_exporter": "python",
   "pygments_lexer": "ipython3",
   "version": "3.11.2"
  },
  "orig_nbformat": 4
 },
 "nbformat": 4,
 "nbformat_minor": 2
}
