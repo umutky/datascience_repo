{
 "cells": [
  {
   "cell_type": "markdown",
   "id": "f6009fd8-a95c-4e12-8caf-da4796e69888",
   "metadata": {},
   "source": [
    "# Hypothesis Tests"
   ]
  },
  {
   "cell_type": "code",
   "execution_count": 1,
   "id": "5459b2c8-ebc3-47e3-959e-42b73b8c1868",
   "metadata": {},
   "outputs": [],
   "source": [
    "import pandas as pd\n",
    "import numpy as np\n",
    "import matplotlib.pyplot as plt"
   ]
  },
  {
   "cell_type": "code",
   "execution_count": 2,
   "id": "ab3485a2-a19f-4543-b3ef-d90d783a5196",
   "metadata": {},
   "outputs": [
    {
     "data": {
      "text/html": [
       "<div>\n",
       "<style scoped>\n",
       "    .dataframe tbody tr th:only-of-type {\n",
       "        vertical-align: middle;\n",
       "    }\n",
       "\n",
       "    .dataframe tbody tr th {\n",
       "        vertical-align: top;\n",
       "    }\n",
       "\n",
       "    .dataframe thead th {\n",
       "        text-align: right;\n",
       "    }\n",
       "</style>\n",
       "<table border=\"1\" class=\"dataframe\">\n",
       "  <thead>\n",
       "    <tr style=\"text-align: right;\">\n",
       "      <th></th>\n",
       "      <th>respondent</th>\n",
       "      <th>main_branch</th>\n",
       "      <th>hobbyist</th>\n",
       "      <th>age</th>\n",
       "      <th>age_1st_code</th>\n",
       "      <th>age_first_code_cut</th>\n",
       "      <th>comp_freq</th>\n",
       "      <th>comp_total</th>\n",
       "      <th>converted_comp</th>\n",
       "      <th>country</th>\n",
       "      <th>...</th>\n",
       "      <th>survey_length</th>\n",
       "      <th>trans</th>\n",
       "      <th>undergrad_major</th>\n",
       "      <th>webframe_desire_next_year</th>\n",
       "      <th>webframe_worked_with</th>\n",
       "      <th>welcome_change</th>\n",
       "      <th>work_week_hrs</th>\n",
       "      <th>years_code</th>\n",
       "      <th>years_code_pro</th>\n",
       "      <th>age_cat</th>\n",
       "    </tr>\n",
       "  </thead>\n",
       "  <tbody>\n",
       "    <tr>\n",
       "      <th>0</th>\n",
       "      <td>36.0</td>\n",
       "      <td>I am not primarily a developer, but I write co...</td>\n",
       "      <td>Yes</td>\n",
       "      <td>34.0</td>\n",
       "      <td>30.0</td>\n",
       "      <td>adult</td>\n",
       "      <td>Yearly</td>\n",
       "      <td>60000.0</td>\n",
       "      <td>77556.0</td>\n",
       "      <td>United Kingdom</td>\n",
       "      <td>...</td>\n",
       "      <td>Appropriate in length</td>\n",
       "      <td>No</td>\n",
       "      <td>Computer science, computer engineering, or sof...</td>\n",
       "      <td>Express;React.js</td>\n",
       "      <td>Express;React.js</td>\n",
       "      <td>Just as welcome now as I felt last year</td>\n",
       "      <td>40.0</td>\n",
       "      <td>4.0</td>\n",
       "      <td>3.0</td>\n",
       "      <td>At least 30</td>\n",
       "    </tr>\n",
       "    <tr>\n",
       "      <th>1</th>\n",
       "      <td>47.0</td>\n",
       "      <td>I am a developer by profession</td>\n",
       "      <td>Yes</td>\n",
       "      <td>53.0</td>\n",
       "      <td>10.0</td>\n",
       "      <td>child</td>\n",
       "      <td>Yearly</td>\n",
       "      <td>58000.0</td>\n",
       "      <td>74970.0</td>\n",
       "      <td>United Kingdom</td>\n",
       "      <td>...</td>\n",
       "      <td>Appropriate in length</td>\n",
       "      <td>No</td>\n",
       "      <td>A natural science (such as biology, chemistry,...</td>\n",
       "      <td>Flask;Spring</td>\n",
       "      <td>Flask;Spring</td>\n",
       "      <td>Just as welcome now as I felt last year</td>\n",
       "      <td>40.0</td>\n",
       "      <td>43.0</td>\n",
       "      <td>28.0</td>\n",
       "      <td>At least 30</td>\n",
       "    </tr>\n",
       "    <tr>\n",
       "      <th>2</th>\n",
       "      <td>69.0</td>\n",
       "      <td>I am a developer by profession</td>\n",
       "      <td>Yes</td>\n",
       "      <td>25.0</td>\n",
       "      <td>12.0</td>\n",
       "      <td>child</td>\n",
       "      <td>Yearly</td>\n",
       "      <td>550000.0</td>\n",
       "      <td>594539.0</td>\n",
       "      <td>France</td>\n",
       "      <td>...</td>\n",
       "      <td>Too short</td>\n",
       "      <td>No</td>\n",
       "      <td>Computer science, computer engineering, or sof...</td>\n",
       "      <td>Django;Flask</td>\n",
       "      <td>Django;Flask</td>\n",
       "      <td>Just as welcome now as I felt last year</td>\n",
       "      <td>40.0</td>\n",
       "      <td>13.0</td>\n",
       "      <td>3.0</td>\n",
       "      <td>Under 30</td>\n",
       "    </tr>\n",
       "    <tr>\n",
       "      <th>3</th>\n",
       "      <td>125.0</td>\n",
       "      <td>I am not primarily a developer, but I write co...</td>\n",
       "      <td>Yes</td>\n",
       "      <td>41.0</td>\n",
       "      <td>30.0</td>\n",
       "      <td>adult</td>\n",
       "      <td>Monthly</td>\n",
       "      <td>200000.0</td>\n",
       "      <td>2000000.0</td>\n",
       "      <td>United States</td>\n",
       "      <td>...</td>\n",
       "      <td>Appropriate in length</td>\n",
       "      <td>No</td>\n",
       "      <td>None</td>\n",
       "      <td>None</td>\n",
       "      <td>None</td>\n",
       "      <td>Just as welcome now as I felt last year</td>\n",
       "      <td>40.0</td>\n",
       "      <td>11.0</td>\n",
       "      <td>11.0</td>\n",
       "      <td>At least 30</td>\n",
       "    </tr>\n",
       "    <tr>\n",
       "      <th>4</th>\n",
       "      <td>147.0</td>\n",
       "      <td>I am not primarily a developer, but I write co...</td>\n",
       "      <td>No</td>\n",
       "      <td>28.0</td>\n",
       "      <td>15.0</td>\n",
       "      <td>adult</td>\n",
       "      <td>Yearly</td>\n",
       "      <td>50000.0</td>\n",
       "      <td>37816.0</td>\n",
       "      <td>Canada</td>\n",
       "      <td>...</td>\n",
       "      <td>Appropriate in length</td>\n",
       "      <td>No</td>\n",
       "      <td>Another engineering discipline (such as civil,...</td>\n",
       "      <td>None</td>\n",
       "      <td>Express;Flask</td>\n",
       "      <td>Just as welcome now as I felt last year</td>\n",
       "      <td>40.0</td>\n",
       "      <td>5.0</td>\n",
       "      <td>3.0</td>\n",
       "      <td>Under 30</td>\n",
       "    </tr>\n",
       "  </tbody>\n",
       "</table>\n",
       "<p>5 rows × 63 columns</p>\n",
       "</div>"
      ],
      "text/plain": [
       "   respondent                                        main_branch hobbyist   \n",
       "0        36.0  I am not primarily a developer, but I write co...      Yes  \\\n",
       "1        47.0                     I am a developer by profession      Yes   \n",
       "2        69.0                     I am a developer by profession      Yes   \n",
       "3       125.0  I am not primarily a developer, but I write co...      Yes   \n",
       "4       147.0  I am not primarily a developer, but I write co...       No   \n",
       "\n",
       "    age  age_1st_code age_first_code_cut comp_freq  comp_total   \n",
       "0  34.0          30.0              adult    Yearly     60000.0  \\\n",
       "1  53.0          10.0              child    Yearly     58000.0   \n",
       "2  25.0          12.0              child    Yearly    550000.0   \n",
       "3  41.0          30.0              adult   Monthly    200000.0   \n",
       "4  28.0          15.0              adult    Yearly     50000.0   \n",
       "\n",
       "   converted_comp         country  ...          survey_length trans   \n",
       "0         77556.0  United Kingdom  ...  Appropriate in length    No  \\\n",
       "1         74970.0  United Kingdom  ...  Appropriate in length    No   \n",
       "2        594539.0          France  ...              Too short    No   \n",
       "3       2000000.0   United States  ...  Appropriate in length    No   \n",
       "4         37816.0          Canada  ...  Appropriate in length    No   \n",
       "\n",
       "                                     undergrad_major   \n",
       "0  Computer science, computer engineering, or sof...  \\\n",
       "1  A natural science (such as biology, chemistry,...   \n",
       "2  Computer science, computer engineering, or sof...   \n",
       "3                                               None   \n",
       "4  Another engineering discipline (such as civil,...   \n",
       "\n",
       "  webframe_desire_next_year webframe_worked_with   \n",
       "0          Express;React.js     Express;React.js  \\\n",
       "1              Flask;Spring         Flask;Spring   \n",
       "2              Django;Flask         Django;Flask   \n",
       "3                      None                 None   \n",
       "4                      None        Express;Flask   \n",
       "\n",
       "                            welcome_change work_week_hrs years_code   \n",
       "0  Just as welcome now as I felt last year          40.0        4.0  \\\n",
       "1  Just as welcome now as I felt last year          40.0       43.0   \n",
       "2  Just as welcome now as I felt last year          40.0       13.0   \n",
       "3  Just as welcome now as I felt last year          40.0       11.0   \n",
       "4  Just as welcome now as I felt last year          40.0        5.0   \n",
       "\n",
       "  years_code_pro      age_cat  \n",
       "0            3.0  At least 30  \n",
       "1           28.0  At least 30  \n",
       "2            3.0     Under 30  \n",
       "3           11.0  At least 30  \n",
       "4            3.0     Under 30  \n",
       "\n",
       "[5 rows x 63 columns]"
      ]
     },
     "execution_count": 2,
     "metadata": {},
     "output_type": "execute_result"
    }
   ],
   "source": [
    "stack_overflow = pd.read_feather(\"/home/umut/python_calismalar/stack_overflow.feather\")\n",
    "stack_overflow.head()"
   ]
  },
  {
   "cell_type": "code",
   "execution_count": 3,
   "id": "62fb1168-a2a6-4452-9f61-e4376bb45b81",
   "metadata": {},
   "outputs": [
    {
     "data": {
      "text/plain": [
       "119574.71738168952"
      ]
     },
     "execution_count": 3,
     "metadata": {},
     "output_type": "execute_result"
    }
   ],
   "source": [
    "# A hypothesis : The mean annual compensation of the population of data scientists is $110,000\n",
    "\n",
    "# Point estimate of the mean annual compensation\n",
    "mean_comp_samp = stack_overflow[\"converted_comp\"].mean()\n",
    "mean_comp_samp"
   ]
  },
  {
   "cell_type": "code",
   "execution_count": 4,
   "id": "042bff67-3888-4a3e-9c5f-4f6d2bfeba23",
   "metadata": {},
   "outputs": [
    {
     "data": {
      "image/png": "[encoded data removed]",
      "text/plain": [
       "<Figure size 640x480 with 1 Axes>"
      ]
     },
     "metadata": {},
     "output_type": "display_data"
    }
   ],
   "source": [
    "# Generating a bootstrap dist.\n",
    "\n",
    "so_boot_distn = []\n",
    "\n",
    "for i in range(5000):\n",
    "    so_boot_distn.append(\n",
    "        np.mean(\n",
    "            stack_overflow.sample(frac=1, replace=True)[\"converted_comp\"]\n",
    "        )\n",
    "    )\n",
    "\n",
    "# Visualize of bootstrap dist.\n",
    "plt.hist(so_boot_distn, bins=50)\n",
    "plt.show()"
   ]
  },
  {
   "cell_type": "code",
   "execution_count": 5,
   "id": "5abcfda4-8a8c-4b3f-87e9-d31725dd8fa1",
   "metadata": {},
   "outputs": [
    {
     "name": "stdout",
     "output_type": "stream",
     "text": [
      "1.7519195762905524\n"
     ]
    }
   ],
   "source": [
    "hyp_mean = 110000\n",
    "std_error = np.std(so_boot_distn, ddof=1)\n",
    "z_score = (mean_comp_samp - hyp_mean)/std_error\n",
    "print(z_score)"
   ]
  },
  {
   "cell_type": "markdown",
   "id": "089a6856-44cb-4248-bb67-6f538db2f73e",
   "metadata": {},
   "source": [
    "## P value"
   ]
  },
  {
   "cell_type": "code",
   "execution_count": 6,
   "id": "c68e3380-47a0-4ad2-a9ab-c046b976c49d",
   "metadata": {},
   "outputs": [],
   "source": [
    "# H0: Datascientist'lerin %35'i çocukken kod yazmaya başlamıştır. (age < 14)\n",
    "prop_child_hyp = 0.35\n",
    "# Ha: child >= %35\n",
    "prop_child_samp = (stack_overflow['age_first_code_cut'] == 'child').mean()"
   ]
  },
  {
   "cell_type": "code",
   "execution_count": 7,
   "id": "30db59b7-7301-4e7e-a68a-ce6e7ba0406e",
   "metadata": {},
   "outputs": [],
   "source": [
    "bootstrap = []\n",
    "for i in range(5000):\n",
    "    bootstrap.append(\n",
    "        np.mean(\n",
    "            (stack_overflow.sample(frac=1, replace=True)['age_first_code_cut'] == 'child')\n",
    "        )\n",
    "    )"
   ]
  },
  {
   "cell_type": "code",
   "execution_count": 8,
   "id": "46e766e4-3ea6-4e0a-9bd1-fea1746af2b3",
   "metadata": {},
   "outputs": [
    {
     "name": "stdout",
     "output_type": "stream",
     "text": [
      "z_score is 4.039863601744827\n",
      "p-val is 2.6741147774567153e-05\n"
     ]
    }
   ],
   "source": [
    "std_error = np.std(bootstrap, ddof=1)\n",
    "# Calculate z_score:\n",
    "z_score = (prop_child_samp - prop_child_hyp)/std_error\n",
    "print('z_score is',z_score)\n",
    "\n",
    "# Calculate p-val\n",
    "from scipy.stats import norm\n",
    "print('p-val is',1 - norm.cdf(z_score, loc=0, scale=1))"
   ]
  },
  {
   "cell_type": "markdown",
   "id": "b365af0e-6549-4da5-b2b3-55b66bc41f4c",
   "metadata": {},
   "source": [
    "## T-test"
   ]
  },
  {
   "cell_type": "code",
   "execution_count": 9,
   "id": "20eaeb8c-b0b8-406c-8ef8-8184d9000cf3",
   "metadata": {},
   "outputs": [
    {
     "name": "stdout",
     "output_type": "stream",
     "text": [
      "test statistic value is 1.8699313316221844\n"
     ]
    }
   ],
   "source": [
    "xbar_adult, xbar_child = stack_overflow.groupby('age_first_code_cut')['converted_comp'].mean()\n",
    "s_adult, s_child = stack_overflow.groupby('age_first_code_cut')['converted_comp'].std()\n",
    "n_adult, n_child = stack_overflow.groupby('age_first_code_cut')['converted_comp'].count()\n",
    "\n",
    "# Calculating T-statistic.\n",
    "t_stat = (xbar_child - xbar_adult) / np.sqrt(s_child**2/n_child + s_adult**2/n_adult)\n",
    "print('test statistic value is',t_stat)"
   ]
  },
  {
   "cell_type": "code",
   "execution_count": 10,
   "id": "36b77ff8-1e14-45f2-b763-6118e4ac85fe",
   "metadata": {},
   "outputs": [
    {
     "name": "stdout",
     "output_type": "stream",
     "text": [
      "p value is 0.030811302165157595 and alpha value is 0.1 so we can reject H0\n"
     ]
    }
   ],
   "source": [
    "alpha = 0.1\n",
    "deg_of_free = n_child+n_adult-2\n",
    "\n",
    "from scipy.stats import t\n",
    "# Calculating p-val\n",
    "p_val = 1 - t.cdf(t_stat, df=deg_of_free)\n",
    "print('p value is', p_val, 'and alpha value is', alpha, 'so we can reject H0')"
   ]
  },
  {
   "cell_type": "markdown",
   "id": "b7647cf3-f091-4e2d-8819-d0ace60b581e",
   "metadata": {},
   "source": [
    "## Paired T-test"
   ]
  },
  {
   "cell_type": "code",
   "execution_count": 11,
   "id": "93eb3624-2018-40ae-9c07-9c6eb180932b",
   "metadata": {},
   "outputs": [
    {
     "data": {
      "text/html": [
       "<div>\n",
       "<style scoped>\n",
       "    .dataframe tbody tr th:only-of-type {\n",
       "        vertical-align: middle;\n",
       "    }\n",
       "\n",
       "    .dataframe tbody tr th {\n",
       "        vertical-align: top;\n",
       "    }\n",
       "\n",
       "    .dataframe thead th {\n",
       "        text-align: right;\n",
       "    }\n",
       "</style>\n",
       "<table border=\"1\" class=\"dataframe\">\n",
       "  <thead>\n",
       "    <tr style=\"text-align: right;\">\n",
       "      <th></th>\n",
       "      <th>repub_percent_08</th>\n",
       "      <th>repub_percent_12</th>\n",
       "    </tr>\n",
       "  </thead>\n",
       "  <tbody>\n",
       "    <tr>\n",
       "      <th>0</th>\n",
       "      <td>38.957877</td>\n",
       "      <td>37.139882</td>\n",
       "    </tr>\n",
       "    <tr>\n",
       "      <th>1</th>\n",
       "      <td>56.726272</td>\n",
       "      <td>58.983452</td>\n",
       "    </tr>\n",
       "    <tr>\n",
       "      <th>2</th>\n",
       "      <td>38.896719</td>\n",
       "      <td>39.331367</td>\n",
       "    </tr>\n",
       "    <tr>\n",
       "      <th>3</th>\n",
       "      <td>42.923190</td>\n",
       "      <td>45.250693</td>\n",
       "    </tr>\n",
       "    <tr>\n",
       "      <th>4</th>\n",
       "      <td>74.522569</td>\n",
       "      <td>73.764757</td>\n",
       "    </tr>\n",
       "    <tr>\n",
       "      <th>...</th>\n",
       "      <td>...</td>\n",
       "      <td>...</td>\n",
       "    </tr>\n",
       "    <tr>\n",
       "      <th>95</th>\n",
       "      <td>48.342541</td>\n",
       "      <td>52.437478</td>\n",
       "    </tr>\n",
       "    <tr>\n",
       "      <th>96</th>\n",
       "      <td>37.490904</td>\n",
       "      <td>40.577038</td>\n",
       "    </tr>\n",
       "    <tr>\n",
       "      <th>97</th>\n",
       "      <td>38.104967</td>\n",
       "      <td>41.675050</td>\n",
       "    </tr>\n",
       "    <tr>\n",
       "      <th>98</th>\n",
       "      <td>76.684241</td>\n",
       "      <td>83.983328</td>\n",
       "    </tr>\n",
       "    <tr>\n",
       "      <th>99</th>\n",
       "      <td>77.063259</td>\n",
       "      <td>40.789626</td>\n",
       "    </tr>\n",
       "  </tbody>\n",
       "</table>\n",
       "<p>100 rows × 2 columns</p>\n",
       "</div>"
      ],
      "text/plain": [
       "    repub_percent_08  repub_percent_12\n",
       "0          38.957877         37.139882\n",
       "1          56.726272         58.983452\n",
       "2          38.896719         39.331367\n",
       "3          42.923190         45.250693\n",
       "4          74.522569         73.764757\n",
       "..               ...               ...\n",
       "95         48.342541         52.437478\n",
       "96         37.490904         40.577038\n",
       "97         38.104967         41.675050\n",
       "98         76.684241         83.983328\n",
       "99         77.063259         40.789626\n",
       "\n",
       "[100 rows x 2 columns]"
      ]
     },
     "execution_count": 11,
     "metadata": {},
     "output_type": "execute_result"
    }
   ],
   "source": [
    "repub_votes = pd.read_feather('/home/umut/python_calismalar/repub_votes_potus_08_12.feather')\n",
    "sample_data = repub_votes[['repub_percent_08', 'repub_percent_12']]\n",
    "sample_data"
   ]
  },
  {
   "cell_type": "code",
   "execution_count": 12,
   "id": "ab290920-56f8-4602-8ef4-49c6ffda7e1a",
   "metadata": {},
   "outputs": [
    {
     "name": "stdout",
     "output_type": "stream",
     "text": [
      "t statistic value is -5.601043121928489 and p value is 9.572537285272411e-08\n"
     ]
    },
    {
     "name": "stderr",
     "output_type": "stream",
     "text": [
      "/tmp/ipykernel_7049/1912496552.py:1: SettingWithCopyWarning: \n",
      "A value is trying to be set on a copy of a slice from a DataFrame.\n",
      "Try using .loc[row_indexer,col_indexer] = value instead\n",
      "\n",
      "See the caveats in the documentation: https://pandas.pydata.org/pandas-docs/stable/user_guide/indexing.html#returning-a-view-versus-a-copy\n",
      "  sample_data.loc[:,'diff'] = (sample_data['repub_percent_08'] - sample_data['repub_percent_12'])\n"
     ]
    }
   ],
   "source": [
    "sample_data.loc[:,'diff'] = (sample_data['repub_percent_08'] - sample_data['repub_percent_12'])\n",
    "x_bar_diff = sample_data['diff'].mean()\n",
    "n_diff = len(sample_data)\n",
    "s_diff = sample_data['diff'].std()\n",
    "dof = n_diff-1\n",
    "\n",
    "t_stat = (x_bar_diff - 0)/np.sqrt(s_diff**2/n_diff)\n",
    "\n",
    "from scipy.stats import t\n",
    "p_value = t.cdf(t_stat, df = dof)\n",
    "print(f't statistic value is {t_stat} and p value is {p_value}')"
   ]
  },
  {
   "cell_type": "markdown",
   "id": "8697dd88-cfa7-49e6-9407-497246eacc95",
   "metadata": {},
   "source": [
    "# PINGOUIN"
   ]
  },
  {
   "cell_type": "markdown",
   "id": "48f78c57-d832-49d4-b3ca-ef5b24c491a7",
   "metadata": {},
   "source": [
    "Islem hamalligi olmadan test uygulamak"
   ]
  },
  {
   "cell_type": "code",
   "execution_count": 13,
   "id": "4ba420fd-e056-443c-9655-1395a6a9eaf2",
   "metadata": {},
   "outputs": [
    {
     "data": {
      "text/html": [
       "<div>\n",
       "<style scoped>\n",
       "    .dataframe tbody tr th:only-of-type {\n",
       "        vertical-align: middle;\n",
       "    }\n",
       "\n",
       "    .dataframe tbody tr th {\n",
       "        vertical-align: top;\n",
       "    }\n",
       "\n",
       "    .dataframe thead th {\n",
       "        text-align: right;\n",
       "    }\n",
       "</style>\n",
       "<table border=\"1\" class=\"dataframe\">\n",
       "  <thead>\n",
       "    <tr style=\"text-align: right;\">\n",
       "      <th></th>\n",
       "      <th>T</th>\n",
       "      <th>dof</th>\n",
       "      <th>alternative</th>\n",
       "      <th>p-val</th>\n",
       "      <th>CI95%</th>\n",
       "      <th>cohen-d</th>\n",
       "      <th>BF10</th>\n",
       "      <th>power</th>\n",
       "    </tr>\n",
       "  </thead>\n",
       "  <tbody>\n",
       "    <tr>\n",
       "      <th>T-test</th>\n",
       "      <td>-5.601043</td>\n",
       "      <td>99</td>\n",
       "      <td>less</td>\n",
       "      <td>9.572537e-08</td>\n",
       "      <td>[-inf, -2.02]</td>\n",
       "      <td>0.560104</td>\n",
       "      <td>1.323e+05</td>\n",
       "      <td>0.999955</td>\n",
       "    </tr>\n",
       "  </tbody>\n",
       "</table>\n",
       "</div>"
      ],
      "text/plain": [
       "               T  dof alternative         p-val          CI95%   cohen-d   \n",
       "T-test -5.601043   99        less  9.572537e-08  [-inf, -2.02]  0.560104  \\\n",
       "\n",
       "             BF10     power  \n",
       "T-test  1.323e+05  0.999955  "
      ]
     },
     "execution_count": 13,
     "metadata": {},
     "output_type": "execute_result"
    }
   ],
   "source": [
    "import pingouin\n",
    "\n",
    "pingouin.ttest(x=sample_data['diff'], y=0, alternative='less')"
   ]
  },
  {
   "cell_type": "code",
   "execution_count": 14,
   "id": "58fcc951-2343-4b2d-8f88-e5ba69fdcbf4",
   "metadata": {},
   "outputs": [
    {
     "data": {
      "text/html": [
       "<div>\n",
       "<style scoped>\n",
       "    .dataframe tbody tr th:only-of-type {\n",
       "        vertical-align: middle;\n",
       "    }\n",
       "\n",
       "    .dataframe tbody tr th {\n",
       "        vertical-align: top;\n",
       "    }\n",
       "\n",
       "    .dataframe thead th {\n",
       "        text-align: right;\n",
       "    }\n",
       "</style>\n",
       "<table border=\"1\" class=\"dataframe\">\n",
       "  <thead>\n",
       "    <tr style=\"text-align: right;\">\n",
       "      <th></th>\n",
       "      <th>T</th>\n",
       "      <th>dof</th>\n",
       "      <th>alternative</th>\n",
       "      <th>p-val</th>\n",
       "      <th>CI95%</th>\n",
       "      <th>cohen-d</th>\n",
       "      <th>BF10</th>\n",
       "      <th>power</th>\n",
       "    </tr>\n",
       "  </thead>\n",
       "  <tbody>\n",
       "    <tr>\n",
       "      <th>T-test</th>\n",
       "      <td>-5.601043</td>\n",
       "      <td>99</td>\n",
       "      <td>less</td>\n",
       "      <td>9.572537e-08</td>\n",
       "      <td>[-inf, -2.02]</td>\n",
       "      <td>0.217364</td>\n",
       "      <td>1.323e+05</td>\n",
       "      <td>0.696338</td>\n",
       "    </tr>\n",
       "  </tbody>\n",
       "</table>\n",
       "</div>"
      ],
      "text/plain": [
       "               T  dof alternative         p-val          CI95%   cohen-d   \n",
       "T-test -5.601043   99        less  9.572537e-08  [-inf, -2.02]  0.217364  \\\n",
       "\n",
       "             BF10     power  \n",
       "T-test  1.323e+05  0.696338  "
      ]
     },
     "execution_count": 14,
     "metadata": {},
     "output_type": "execute_result"
    }
   ],
   "source": [
    "#Paired = True\n",
    "pingouin.ttest(x=sample_data['repub_percent_08'], y=sample_data['repub_percent_12'], paired=True, alternative='less')"
   ]
  },
  {
   "cell_type": "markdown",
   "id": "d4dcf3aa-7ffa-434b-a4cc-6e6418a623f8",
   "metadata": {},
   "source": [
    "## ANOVA"
   ]
  },
  {
   "cell_type": "code",
   "execution_count": 15,
   "id": "0b481ff7-ee3b-4be2-b72a-139b8a3a9a1f",
   "metadata": {},
   "outputs": [],
   "source": [
    "import seaborn as sns"
   ]
  },
  {
   "cell_type": "code",
   "execution_count": 16,
   "id": "6517d64e-cc50-470f-8344-bd13b393d3bf",
   "metadata": {},
   "outputs": [
    {
     "data": {
      "image/png": "[encoded data removed]",
      "text/plain": [
       "<Figure size 640x480 with 1 Axes>"
      ]
     },
     "metadata": {},
     "output_type": "display_data"
    }
   ],
   "source": [
    "sns.boxplot(x= 'converted_comp', y='job_sat', data=stack_overflow)\n",
    "plt.show()"
   ]
  },
  {
   "cell_type": "code",
   "execution_count": 17,
   "id": "962e0d09-a123-4e39-b1b0-fd1bbd34bfeb",
   "metadata": {},
   "outputs": [
    {
     "data": {
      "text/html": [
       "<div>\n",
       "<style scoped>\n",
       "    .dataframe tbody tr th:only-of-type {\n",
       "        vertical-align: middle;\n",
       "    }\n",
       "\n",
       "    .dataframe tbody tr th {\n",
       "        vertical-align: top;\n",
       "    }\n",
       "\n",
       "    .dataframe thead th {\n",
       "        text-align: right;\n",
       "    }\n",
       "</style>\n",
       "<table border=\"1\" class=\"dataframe\">\n",
       "  <thead>\n",
       "    <tr style=\"text-align: right;\">\n",
       "      <th></th>\n",
       "      <th>Source</th>\n",
       "      <th>ddof1</th>\n",
       "      <th>ddof2</th>\n",
       "      <th>F</th>\n",
       "      <th>p-unc</th>\n",
       "      <th>np2</th>\n",
       "    </tr>\n",
       "  </thead>\n",
       "  <tbody>\n",
       "    <tr>\n",
       "      <th>0</th>\n",
       "      <td>job_sat</td>\n",
       "      <td>4</td>\n",
       "      <td>2256</td>\n",
       "      <td>4.480485</td>\n",
       "      <td>0.001315</td>\n",
       "      <td>0.007882</td>\n",
       "    </tr>\n",
       "  </tbody>\n",
       "</table>\n",
       "</div>"
      ],
      "text/plain": [
       "    Source  ddof1  ddof2         F     p-unc       np2\n",
       "0  job_sat      4   2256  4.480485  0.001315  0.007882"
      ]
     },
     "execution_count": 17,
     "metadata": {},
     "output_type": "execute_result"
    }
   ],
   "source": [
    "alpha = 0.2\n",
    "# dv: dependent variable\n",
    "pingouin.anova(data=stack_overflow, dv='converted_comp', between='job_sat')\n",
    "\n",
    "# so alpha 0.2 and p value 0.001315:  p < alpha, reject H0."
   ]
  },
  {
   "cell_type": "code",
   "execution_count": 18,
   "id": "6c2dac23-4b8f-4387-9894-8bf290a9676f",
   "metadata": {},
   "outputs": [
    {
     "data": {
      "text/html": [
       "<div>\n",
       "<style scoped>\n",
       "    .dataframe tbody tr th:only-of-type {\n",
       "        vertical-align: middle;\n",
       "    }\n",
       "\n",
       "    .dataframe tbody tr th {\n",
       "        vertical-align: top;\n",
       "    }\n",
       "\n",
       "    .dataframe thead th {\n",
       "        text-align: right;\n",
       "    }\n",
       "</style>\n",
       "<table border=\"1\" class=\"dataframe\">\n",
       "  <thead>\n",
       "    <tr style=\"text-align: right;\">\n",
       "      <th></th>\n",
       "      <th>Contrast</th>\n",
       "      <th>A</th>\n",
       "      <th>B</th>\n",
       "      <th>Paired</th>\n",
       "      <th>Parametric</th>\n",
       "      <th>T</th>\n",
       "      <th>dof</th>\n",
       "      <th>alternative</th>\n",
       "      <th>p-unc</th>\n",
       "      <th>BF10</th>\n",
       "      <th>hedges</th>\n",
       "    </tr>\n",
       "  </thead>\n",
       "  <tbody>\n",
       "    <tr>\n",
       "      <th>0</th>\n",
       "      <td>job_sat</td>\n",
       "      <td>Very dissatisfied</td>\n",
       "      <td>Slightly dissatisfied</td>\n",
       "      <td>False</td>\n",
       "      <td>True</td>\n",
       "      <td>1.129951</td>\n",
       "      <td>247.570187</td>\n",
       "      <td>two-sided</td>\n",
       "      <td>0.259590</td>\n",
       "      <td>0.197</td>\n",
       "      <td>0.119131</td>\n",
       "    </tr>\n",
       "    <tr>\n",
       "      <th>1</th>\n",
       "      <td>job_sat</td>\n",
       "      <td>Very dissatisfied</td>\n",
       "      <td>Neither</td>\n",
       "      <td>False</td>\n",
       "      <td>True</td>\n",
       "      <td>0.545948</td>\n",
       "      <td>321.165726</td>\n",
       "      <td>two-sided</td>\n",
       "      <td>0.585481</td>\n",
       "      <td>0.135</td>\n",
       "      <td>0.058537</td>\n",
       "    </tr>\n",
       "    <tr>\n",
       "      <th>2</th>\n",
       "      <td>job_sat</td>\n",
       "      <td>Very dissatisfied</td>\n",
       "      <td>Slightly satisfied</td>\n",
       "      <td>False</td>\n",
       "      <td>True</td>\n",
       "      <td>1.243665</td>\n",
       "      <td>187.153329</td>\n",
       "      <td>two-sided</td>\n",
       "      <td>0.215179</td>\n",
       "      <td>0.208</td>\n",
       "      <td>0.145624</td>\n",
       "    </tr>\n",
       "    <tr>\n",
       "      <th>3</th>\n",
       "      <td>job_sat</td>\n",
       "      <td>Very dissatisfied</td>\n",
       "      <td>Very satisfied</td>\n",
       "      <td>False</td>\n",
       "      <td>True</td>\n",
       "      <td>-0.747379</td>\n",
       "      <td>221.666205</td>\n",
       "      <td>two-sided</td>\n",
       "      <td>0.455627</td>\n",
       "      <td>0.126</td>\n",
       "      <td>-0.063479</td>\n",
       "    </tr>\n",
       "    <tr>\n",
       "      <th>4</th>\n",
       "      <td>job_sat</td>\n",
       "      <td>Slightly dissatisfied</td>\n",
       "      <td>Neither</td>\n",
       "      <td>False</td>\n",
       "      <td>True</td>\n",
       "      <td>-0.602209</td>\n",
       "      <td>367.730081</td>\n",
       "      <td>two-sided</td>\n",
       "      <td>0.547406</td>\n",
       "      <td>0.118</td>\n",
       "      <td>-0.055707</td>\n",
       "    </tr>\n",
       "    <tr>\n",
       "      <th>5</th>\n",
       "      <td>job_sat</td>\n",
       "      <td>Slightly dissatisfied</td>\n",
       "      <td>Slightly satisfied</td>\n",
       "      <td>False</td>\n",
       "      <td>True</td>\n",
       "      <td>0.038264</td>\n",
       "      <td>569.926329</td>\n",
       "      <td>two-sided</td>\n",
       "      <td>0.969491</td>\n",
       "      <td>0.074</td>\n",
       "      <td>0.002719</td>\n",
       "    </tr>\n",
       "    <tr>\n",
       "      <th>6</th>\n",
       "      <td>job_sat</td>\n",
       "      <td>Slightly dissatisfied</td>\n",
       "      <td>Very satisfied</td>\n",
       "      <td>False</td>\n",
       "      <td>True</td>\n",
       "      <td>-3.076222</td>\n",
       "      <td>821.303063</td>\n",
       "      <td>two-sided</td>\n",
       "      <td>0.002166</td>\n",
       "      <td>7.43</td>\n",
       "      <td>-0.173247</td>\n",
       "    </tr>\n",
       "    <tr>\n",
       "      <th>7</th>\n",
       "      <td>job_sat</td>\n",
       "      <td>Neither</td>\n",
       "      <td>Slightly satisfied</td>\n",
       "      <td>False</td>\n",
       "      <td>True</td>\n",
       "      <td>0.700752</td>\n",
       "      <td>258.204546</td>\n",
       "      <td>two-sided</td>\n",
       "      <td>0.484088</td>\n",
       "      <td>0.114</td>\n",
       "      <td>0.068513</td>\n",
       "    </tr>\n",
       "    <tr>\n",
       "      <th>8</th>\n",
       "      <td>job_sat</td>\n",
       "      <td>Neither</td>\n",
       "      <td>Very satisfied</td>\n",
       "      <td>False</td>\n",
       "      <td>True</td>\n",
       "      <td>-1.662901</td>\n",
       "      <td>328.326639</td>\n",
       "      <td>two-sided</td>\n",
       "      <td>0.097286</td>\n",
       "      <td>0.337</td>\n",
       "      <td>-0.120115</td>\n",
       "    </tr>\n",
       "    <tr>\n",
       "      <th>9</th>\n",
       "      <td>job_sat</td>\n",
       "      <td>Slightly satisfied</td>\n",
       "      <td>Very satisfied</td>\n",
       "      <td>False</td>\n",
       "      <td>True</td>\n",
       "      <td>-4.009935</td>\n",
       "      <td>1478.622799</td>\n",
       "      <td>two-sided</td>\n",
       "      <td>0.000064</td>\n",
       "      <td>158.564</td>\n",
       "      <td>-0.192931</td>\n",
       "    </tr>\n",
       "  </tbody>\n",
       "</table>\n",
       "</div>"
      ],
      "text/plain": [
       "  Contrast                      A                      B  Paired  Parametric   \n",
       "0  job_sat      Very dissatisfied  Slightly dissatisfied   False        True  \\\n",
       "1  job_sat      Very dissatisfied                Neither   False        True   \n",
       "2  job_sat      Very dissatisfied     Slightly satisfied   False        True   \n",
       "3  job_sat      Very dissatisfied         Very satisfied   False        True   \n",
       "4  job_sat  Slightly dissatisfied                Neither   False        True   \n",
       "5  job_sat  Slightly dissatisfied     Slightly satisfied   False        True   \n",
       "6  job_sat  Slightly dissatisfied         Very satisfied   False        True   \n",
       "7  job_sat                Neither     Slightly satisfied   False        True   \n",
       "8  job_sat                Neither         Very satisfied   False        True   \n",
       "9  job_sat     Slightly satisfied         Very satisfied   False        True   \n",
       "\n",
       "          T          dof alternative     p-unc     BF10    hedges  \n",
       "0  1.129951   247.570187   two-sided  0.259590    0.197  0.119131  \n",
       "1  0.545948   321.165726   two-sided  0.585481    0.135  0.058537  \n",
       "2  1.243665   187.153329   two-sided  0.215179    0.208  0.145624  \n",
       "3 -0.747379   221.666205   two-sided  0.455627    0.126 -0.063479  \n",
       "4 -0.602209   367.730081   two-sided  0.547406    0.118 -0.055707  \n",
       "5  0.038264   569.926329   two-sided  0.969491    0.074  0.002719  \n",
       "6 -3.076222   821.303063   two-sided  0.002166     7.43 -0.173247  \n",
       "7  0.700752   258.204546   two-sided  0.484088    0.114  0.068513  \n",
       "8 -1.662901   328.326639   two-sided  0.097286    0.337 -0.120115  \n",
       "9 -4.009935  1478.622799   two-sided  0.000064  158.564 -0.192931  "
      ]
     },
     "execution_count": 18,
     "metadata": {},
     "output_type": "execute_result"
    }
   ],
   "source": [
    "pingouin.pairwise_tests(data=stack_overflow, dv=\"converted_comp\", between=\"job_sat\", padjust=\"none\")"
   ]
  },
  {
   "cell_type": "code",
   "execution_count": 19,
   "id": "30427881-cc81-4c6b-83aa-947aa991483b",
   "metadata": {},
   "outputs": [
    {
     "data": {
      "text/html": [
       "<div>\n",
       "<style scoped>\n",
       "    .dataframe tbody tr th:only-of-type {\n",
       "        vertical-align: middle;\n",
       "    }\n",
       "\n",
       "    .dataframe tbody tr th {\n",
       "        vertical-align: top;\n",
       "    }\n",
       "\n",
       "    .dataframe thead th {\n",
       "        text-align: right;\n",
       "    }\n",
       "</style>\n",
       "<table border=\"1\" class=\"dataframe\">\n",
       "  <thead>\n",
       "    <tr style=\"text-align: right;\">\n",
       "      <th></th>\n",
       "      <th>Contrast</th>\n",
       "      <th>A</th>\n",
       "      <th>B</th>\n",
       "      <th>Paired</th>\n",
       "      <th>Parametric</th>\n",
       "      <th>T</th>\n",
       "      <th>dof</th>\n",
       "      <th>alternative</th>\n",
       "      <th>p-unc</th>\n",
       "      <th>p-corr</th>\n",
       "      <th>p-adjust</th>\n",
       "      <th>BF10</th>\n",
       "      <th>hedges</th>\n",
       "    </tr>\n",
       "  </thead>\n",
       "  <tbody>\n",
       "    <tr>\n",
       "      <th>0</th>\n",
       "      <td>job_sat</td>\n",
       "      <td>Very dissatisfied</td>\n",
       "      <td>Slightly dissatisfied</td>\n",
       "      <td>False</td>\n",
       "      <td>True</td>\n",
       "      <td>1.129951</td>\n",
       "      <td>247.570187</td>\n",
       "      <td>two-sided</td>\n",
       "      <td>0.259590</td>\n",
       "      <td>1.000000</td>\n",
       "      <td>bonf</td>\n",
       "      <td>0.197</td>\n",
       "      <td>0.119131</td>\n",
       "    </tr>\n",
       "    <tr>\n",
       "      <th>1</th>\n",
       "      <td>job_sat</td>\n",
       "      <td>Very dissatisfied</td>\n",
       "      <td>Neither</td>\n",
       "      <td>False</td>\n",
       "      <td>True</td>\n",
       "      <td>0.545948</td>\n",
       "      <td>321.165726</td>\n",
       "      <td>two-sided</td>\n",
       "      <td>0.585481</td>\n",
       "      <td>1.000000</td>\n",
       "      <td>bonf</td>\n",
       "      <td>0.135</td>\n",
       "      <td>0.058537</td>\n",
       "    </tr>\n",
       "    <tr>\n",
       "      <th>2</th>\n",
       "      <td>job_sat</td>\n",
       "      <td>Very dissatisfied</td>\n",
       "      <td>Slightly satisfied</td>\n",
       "      <td>False</td>\n",
       "      <td>True</td>\n",
       "      <td>1.243665</td>\n",
       "      <td>187.153329</td>\n",
       "      <td>two-sided</td>\n",
       "      <td>0.215179</td>\n",
       "      <td>1.000000</td>\n",
       "      <td>bonf</td>\n",
       "      <td>0.208</td>\n",
       "      <td>0.145624</td>\n",
       "    </tr>\n",
       "    <tr>\n",
       "      <th>3</th>\n",
       "      <td>job_sat</td>\n",
       "      <td>Very dissatisfied</td>\n",
       "      <td>Very satisfied</td>\n",
       "      <td>False</td>\n",
       "      <td>True</td>\n",
       "      <td>-0.747379</td>\n",
       "      <td>221.666205</td>\n",
       "      <td>two-sided</td>\n",
       "      <td>0.455627</td>\n",
       "      <td>1.000000</td>\n",
       "      <td>bonf</td>\n",
       "      <td>0.126</td>\n",
       "      <td>-0.063479</td>\n",
       "    </tr>\n",
       "    <tr>\n",
       "      <th>4</th>\n",
       "      <td>job_sat</td>\n",
       "      <td>Slightly dissatisfied</td>\n",
       "      <td>Neither</td>\n",
       "      <td>False</td>\n",
       "      <td>True</td>\n",
       "      <td>-0.602209</td>\n",
       "      <td>367.730081</td>\n",
       "      <td>two-sided</td>\n",
       "      <td>0.547406</td>\n",
       "      <td>1.000000</td>\n",
       "      <td>bonf</td>\n",
       "      <td>0.118</td>\n",
       "      <td>-0.055707</td>\n",
       "    </tr>\n",
       "    <tr>\n",
       "      <th>5</th>\n",
       "      <td>job_sat</td>\n",
       "      <td>Slightly dissatisfied</td>\n",
       "      <td>Slightly satisfied</td>\n",
       "      <td>False</td>\n",
       "      <td>True</td>\n",
       "      <td>0.038264</td>\n",
       "      <td>569.926329</td>\n",
       "      <td>two-sided</td>\n",
       "      <td>0.969491</td>\n",
       "      <td>1.000000</td>\n",
       "      <td>bonf</td>\n",
       "      <td>0.074</td>\n",
       "      <td>0.002719</td>\n",
       "    </tr>\n",
       "    <tr>\n",
       "      <th>6</th>\n",
       "      <td>job_sat</td>\n",
       "      <td>Slightly dissatisfied</td>\n",
       "      <td>Very satisfied</td>\n",
       "      <td>False</td>\n",
       "      <td>True</td>\n",
       "      <td>-3.076222</td>\n",
       "      <td>821.303063</td>\n",
       "      <td>two-sided</td>\n",
       "      <td>0.002166</td>\n",
       "      <td>0.021659</td>\n",
       "      <td>bonf</td>\n",
       "      <td>7.43</td>\n",
       "      <td>-0.173247</td>\n",
       "    </tr>\n",
       "    <tr>\n",
       "      <th>7</th>\n",
       "      <td>job_sat</td>\n",
       "      <td>Neither</td>\n",
       "      <td>Slightly satisfied</td>\n",
       "      <td>False</td>\n",
       "      <td>True</td>\n",
       "      <td>0.700752</td>\n",
       "      <td>258.204546</td>\n",
       "      <td>two-sided</td>\n",
       "      <td>0.484088</td>\n",
       "      <td>1.000000</td>\n",
       "      <td>bonf</td>\n",
       "      <td>0.114</td>\n",
       "      <td>0.068513</td>\n",
       "    </tr>\n",
       "    <tr>\n",
       "      <th>8</th>\n",
       "      <td>job_sat</td>\n",
       "      <td>Neither</td>\n",
       "      <td>Very satisfied</td>\n",
       "      <td>False</td>\n",
       "      <td>True</td>\n",
       "      <td>-1.662901</td>\n",
       "      <td>328.326639</td>\n",
       "      <td>two-sided</td>\n",
       "      <td>0.097286</td>\n",
       "      <td>0.972864</td>\n",
       "      <td>bonf</td>\n",
       "      <td>0.337</td>\n",
       "      <td>-0.120115</td>\n",
       "    </tr>\n",
       "    <tr>\n",
       "      <th>9</th>\n",
       "      <td>job_sat</td>\n",
       "      <td>Slightly satisfied</td>\n",
       "      <td>Very satisfied</td>\n",
       "      <td>False</td>\n",
       "      <td>True</td>\n",
       "      <td>-4.009935</td>\n",
       "      <td>1478.622799</td>\n",
       "      <td>two-sided</td>\n",
       "      <td>0.000064</td>\n",
       "      <td>0.000638</td>\n",
       "      <td>bonf</td>\n",
       "      <td>158.564</td>\n",
       "      <td>-0.192931</td>\n",
       "    </tr>\n",
       "  </tbody>\n",
       "</table>\n",
       "</div>"
      ],
      "text/plain": [
       "  Contrast                      A                      B  Paired  Parametric   \n",
       "0  job_sat      Very dissatisfied  Slightly dissatisfied   False        True  \\\n",
       "1  job_sat      Very dissatisfied                Neither   False        True   \n",
       "2  job_sat      Very dissatisfied     Slightly satisfied   False        True   \n",
       "3  job_sat      Very dissatisfied         Very satisfied   False        True   \n",
       "4  job_sat  Slightly dissatisfied                Neither   False        True   \n",
       "5  job_sat  Slightly dissatisfied     Slightly satisfied   False        True   \n",
       "6  job_sat  Slightly dissatisfied         Very satisfied   False        True   \n",
       "7  job_sat                Neither     Slightly satisfied   False        True   \n",
       "8  job_sat                Neither         Very satisfied   False        True   \n",
       "9  job_sat     Slightly satisfied         Very satisfied   False        True   \n",
       "\n",
       "          T          dof alternative     p-unc    p-corr p-adjust     BF10   \n",
       "0  1.129951   247.570187   two-sided  0.259590  1.000000     bonf    0.197  \\\n",
       "1  0.545948   321.165726   two-sided  0.585481  1.000000     bonf    0.135   \n",
       "2  1.243665   187.153329   two-sided  0.215179  1.000000     bonf    0.208   \n",
       "3 -0.747379   221.666205   two-sided  0.455627  1.000000     bonf    0.126   \n",
       "4 -0.602209   367.730081   two-sided  0.547406  1.000000     bonf    0.118   \n",
       "5  0.038264   569.926329   two-sided  0.969491  1.000000     bonf    0.074   \n",
       "6 -3.076222   821.303063   two-sided  0.002166  0.021659     bonf     7.43   \n",
       "7  0.700752   258.204546   two-sided  0.484088  1.000000     bonf    0.114   \n",
       "8 -1.662901   328.326639   two-sided  0.097286  0.972864     bonf    0.337   \n",
       "9 -4.009935  1478.622799   two-sided  0.000064  0.000638     bonf  158.564   \n",
       "\n",
       "     hedges  \n",
       "0  0.119131  \n",
       "1  0.058537  \n",
       "2  0.145624  \n",
       "3 -0.063479  \n",
       "4 -0.055707  \n",
       "5  0.002719  \n",
       "6 -0.173247  \n",
       "7  0.068513  \n",
       "8 -0.120115  \n",
       "9 -0.192931  "
      ]
     },
     "execution_count": 19,
     "metadata": {},
     "output_type": "execute_result"
    }
   ],
   "source": [
    "pingouin.pairwise_tests(data=stack_overflow, dv=\"converted_comp\", between=\"job_sat\", padjust=\"bonf\")"
   ]
  },
  {
   "cell_type": "markdown",
   "id": "6f64756b-9430-49bb-83e0-2ce6d6fec458",
   "metadata": {},
   "source": [
    "## One-Sample Proportion Test"
   ]
  },
  {
   "cell_type": "code",
   "execution_count": 20,
   "id": "ebbb6429-599e-475e-9ec3-9052d12a08e4",
   "metadata": {},
   "outputs": [
    {
     "name": "stdout",
     "output_type": "stream",
     "text": [
      "p_0 is 0.5\n",
      "p_hat is 0.5356037151702786\n",
      "z_score is 3.385911440783663\n",
      "p_value is 0.0007094227368100493\n",
      "0.0007094227368100493(pvalue) < 0.01(alpha), we reject the H0\n"
     ]
    }
   ],
   "source": [
    "# H0: proportion of Stack Overflow users age < 30 = 0.5\n",
    "# HA: \" \"                                        != 0.5\n",
    "\n",
    "# so p0:\n",
    "p_0 = 0.5\n",
    "print('p_0 is',p_0)\n",
    "# We got alpha 0.01\n",
    "alpha = 0.01 \n",
    "\n",
    "# p_hat:\n",
    "p_hat = stack_overflow['age_cat'].value_counts(normalize = True)[0]\n",
    "print('p_hat is',p_hat)\n",
    "\n",
    "# defining n:\n",
    "n = len(stack_overflow)\n",
    "\n",
    "# calculate z_Score:\n",
    "z_score = (p_hat - p_0)/np.sqrt(p_0*(1 - p_0)/n)\n",
    "print('z_score is',z_score)\n",
    "\n",
    "# calculate p-val:\n",
    "p_val = norm.cdf(-z_score) + (1-norm.cdf(z_score)) # ya da simetrik oldugu icin birisini al 2 ile carp\n",
    "print('p_value is',p_val)\n",
    "\n",
    "# Conclusion:\n",
    "print(f'{p_val}(pvalue) < {alpha}(alpha), we reject the H0')"
   ]
  },
  {
   "cell_type": "markdown",
   "id": "15466f05-94dc-4f63-b2af-84bd285456dd",
   "metadata": {},
   "source": [
    "## Two-Sample Proportion Test"
   ]
  },
  {
   "cell_type": "code",
   "execution_count": 21,
   "id": "bfd30704-9581-4acc-8a9a-79fc354ac188",
   "metadata": {},
   "outputs": [
    {
     "name": "stdout",
     "output_type": "stream",
     "text": [
      "age_cat      hobbyist\n",
      "At least 30  Yes          812\n",
      "             No           238\n",
      "Under 30     Yes         1021\n",
      "             No           190\n",
      "Name: count, dtype: int64 \n",
      "\n",
      "z score is -4.223691463320559 and p value is 2.403330142685068e-05\n",
      "since p value < alpha is True we reject H0.\n"
     ]
    }
   ],
   "source": [
    "#H0: Proportion of hobbyist users is the same for those under thirty as those at least thirty.\n",
    "#H0: p>=30 - p<=30  = 0\n",
    "#HA: p>=30 - p<=30 != 0\n",
    "\n",
    "alpha=0.05\n",
    "\n",
    "print(stack_overflow.groupby('age_cat')['hobbyist'].value_counts(),'\\n')\n",
    "\n",
    "n_hobbyist = np.array([812, 1021])\n",
    "n_rows = np.array([812+238, 1021+190])\n",
    "\n",
    "from statsmodels.stats.proportion import proportions_ztest\n",
    "z_score, p_value = proportions_ztest(count=n_hobbyist, nobs=n_rows, alternative='two-sided')\n",
    "print(f'z score is {z_score} and p value is {p_value}')\n",
    "\n",
    "print(f'since p value < alpha is {p_value<alpha} we reject H0.')"
   ]
  },
  {
   "cell_type": "markdown",
   "id": "a4f0c500-4eea-4ea2-b779-c840746f1893",
   "metadata": {},
   "source": [
    "## Test for independence of variables"
   ]
  },
  {
   "cell_type": "code",
   "execution_count": 22,
   "id": "26236d10-16e2-4b71-afaa-c8283052abce",
   "metadata": {},
   "outputs": [],
   "source": [
    "import pingouin"
   ]
  },
  {
   "cell_type": "code",
   "execution_count": 23,
   "id": "cdc91a98-d071-4bbd-af4b-ad3212f37b98",
   "metadata": {},
   "outputs": [
    {
     "name": "stdout",
     "output_type": "stream",
     "text": [
      "STATS\n",
      "                  test    lambda       chi2  dof      pval    cramer     power\n",
      "0             pearson  1.000000  17.839570  1.0  0.000024  0.088826  0.988205\n",
      "1        cressie-read  0.666667  17.818114  1.0  0.000024  0.088773  0.988126\n",
      "2      log-likelihood  0.000000  17.802653  1.0  0.000025  0.088734  0.988069\n",
      "3       freeman-tukey -0.500000  17.815060  1.0  0.000024  0.088765  0.988115\n",
      "4  mod-log-likelihood -1.000000  17.848099  1.0  0.000024  0.088848  0.988236\n",
      "5              neyman -2.000000  17.976656  1.0  0.000022  0.089167  0.988694 \n",
      "\n",
      "EXPECTED\n",
      " age_cat   At least 30   Under 30\n",
      "hobbyist                        \n",
      "No          198.76161  229.23839\n",
      "Yes         851.23839  981.76161 \n",
      "\n",
      "OBSERVED\n",
      " age_cat   At least 30  Under 30\n",
      "hobbyist                       \n",
      "No                238       190\n",
      "Yes               812      1021\n"
     ]
    }
   ],
   "source": [
    "expected, observed, stats = pingouin.chi2_independence(data=stack_overflow, x='hobbyist', y='age_cat', correction=False)\n",
    "print('STATS\\n',stats,'\\n')\n",
    "print('EXPECTED\\n',expected,'\\n')\n",
    "print('OBSERVED\\n',observed)"
   ]
  },
  {
   "cell_type": "code",
   "execution_count": 31,
   "id": "cbeee3be-c1e9-40b6-8e5a-c1cf2b973027",
   "metadata": {},
   "outputs": [
    {
     "data": {
      "image/png": "[encoded data removed]",
      "text/plain": [
       "<Figure size 640x480 with 1 Axes>"
      ]
     },
     "metadata": {},
     "output_type": "display_data"
    },
    {
     "name": "stdout",
     "output_type": "stream",
     "text": [
      "\n",
      "      test  lambda       chi2  dof          pval    cramer     power\n",
      "0  pearson     1.0  34.805072  4.0  5.093922e-07  0.186561  0.999235\n"
     ]
    },
    {
     "name": "stderr",
     "output_type": "stream",
     "text": [
      "/home/umut/.local/pipx/venvs/jupyterlab/lib/python3.11/site-packages/pingouin/contingency.py:150: UserWarning: Low count on observed frequencies.\n",
      "  warnings.warn(\"Low count on {} frequencies.\".format(name))\n",
      "/home/umut/.local/pipx/venvs/jupyterlab/lib/python3.11/site-packages/pingouin/contingency.py:150: UserWarning: Low count on expected frequencies.\n",
      "  warnings.warn(\"Low count on {} frequencies.\".format(name))\n",
      "/home/umut/.local/pipx/venvs/jupyterlab/lib/python3.11/site-packages/scipy/stats/_stats_py.py:7416: RuntimeWarning: divide by zero encountered in power\n",
      "  terms = f_obs * ((f_obs / f_exp)**lambda_ - 1)\n",
      "/home/umut/.local/pipx/venvs/jupyterlab/lib/python3.11/site-packages/scipy/stats/_stats_py.py:7416: RuntimeWarning: invalid value encountered in multiply\n",
      "  terms = f_obs * ((f_obs / f_exp)**lambda_ - 1)\n",
      "/home/umut/.local/pipx/venvs/jupyterlab/lib/python3.11/site-packages/scipy/stats/_stats_py.py:7413: RuntimeWarning: divide by zero encountered in divide\n",
      "  terms = 2.0 * special.xlogy(f_exp, f_exp / f_obs)\n"
     ]
    }
   ],
   "source": [
    "late_shipments = pd.read_feather('late_shipments.feather')\n",
    "# Proportion of freight_cost_group grouped by vendor_inco_term\n",
    "props = late_shipments.groupby('vendor_inco_term')['freight_cost_groups'].value_counts(normalize=True)\n",
    "\n",
    "# Convert props to wide format\n",
    "wide_props = props.unstack()\n",
    "\n",
    "# Proportional stacked bar plot of freight_cost_group vs. vendor_inco_term\n",
    "wide_props.plot(kind=\"bar\", stacked=True)\n",
    "plt.show()\n",
    "\n",
    "# Determine if freight_cost_group and vendor_inco_term are independent\n",
    "expected, observed, stats = pingouin.chi2_independence(data=late_shipments, x='freight_cost_groups', y='vendor_inco_term')\n",
    "\n",
    "# Print results\n",
    "print()\n",
    "print(stats[stats['test'] == 'pearson'])"
   ]
  },
  {
   "cell_type": "markdown",
   "id": "278de7d3-3d72-48e7-9c1b-06ee6086d786",
   "metadata": {},
   "source": [
    "## Goodness Of Fit"
   ]
  },
  {
   "cell_type": "code",
   "execution_count": 25,
   "id": "130e2db0-9a0a-48a0-8b8e-62f58c86fb5b",
   "metadata": {},
   "outputs": [],
   "source": [
    "#H0: The sample matches the hypothesized distribution\n",
    "#HA: The sample doesn't match the hypothesized distribution"
   ]
  },
  {
   "cell_type": "code",
   "execution_count": 26,
   "id": "51f4f38c-0ef9-4cd9-9d41-0f6aaaf648ff",
   "metadata": {},
   "outputs": [],
   "source": [
    "purple_link_counts = stack_overflow['purple_link'].value_counts()\n",
    "purple_link_counts = purple_link_counts.rename_axis('purple_link').reset_index(name='n').sort_values('purple_link')"
   ]
  },
  {
   "cell_type": "code",
   "execution_count": 27,
   "id": "cf8d6899-ca1b-4ab1-a200-f5a6e06917ea",
   "metadata": {},
   "outputs": [],
   "source": [
    "hypothesized = pd.DataFrame({'purple_link': ['Amused', 'Annoyed', 'Hello, old friend', 'Indifferent'], 'prop': [1/6, 1/6, 1/2, 1/6]})\n",
    "\n",
    "alpha=0.01"
   ]
  },
  {
   "cell_type": "code",
   "execution_count": 28,
   "id": "e10c1bbe-f51e-4b66-842e-c3838d864a4b",
   "metadata": {},
   "outputs": [],
   "source": [
    "n_total = len(stack_overflow)\n",
    "hypothesized[\"n\"] = hypothesized[\"prop\"] * n_total"
   ]
  },
  {
   "cell_type": "code",
   "execution_count": 29,
   "id": "33de26c2-156a-4851-a253-de5bb57465e3",
   "metadata": {},
   "outputs": [
    {
     "data": {
      "image/png": "[encoded data removed]",
      "text/plain": [
       "<Figure size 640x480 with 1 Axes>"
      ]
     },
     "metadata": {},
     "output_type": "display_data"
    }
   ],
   "source": [
    "plt.bar(purple_link_counts['purple_link'], purple_link_counts['n'], color='red', label='Observed')\n",
    "plt.bar(hypothesized['purple_link'], hypothesized['n'], alpha=0.5, color='blue', label='Hypothesized')\n",
    "plt.legend()\n",
    "plt.show()"
   ]
  },
  {
   "cell_type": "code",
   "execution_count": 30,
   "id": "3ff693d8-6748-47a3-b047-bcce38d9707d",
   "metadata": {},
   "outputs": [
    {
     "name": "stdout",
     "output_type": "stream",
     "text": [
      "Power_divergenceResult(statistic=44.59840778416629, pvalue=1.1261810719413759e-09)\n",
      "Our p value < alpha, we can not reject H0.\n"
     ]
    }
   ],
   "source": [
    "from scipy.stats import chisquare\n",
    "print(chisquare(f_obs=purple_link_counts['n'], f_exp=hypothesized['n']))\n",
    "\n",
    "print('Our p value < alpha, we can not reject H0.')"
   ]
  },
  {
   "cell_type": "markdown",
   "id": "4cc75d3e-abd8-4f8c-ab0a-3ff0cb093426",
   "metadata": {},
   "source": [
    "## Non-parametric Test"
   ]
  },
  {
   "cell_type": "code",
   "execution_count": 35,
   "id": "241ba26b-89e9-4d55-870e-f14681ceeb7a",
   "metadata": {},
   "outputs": [
    {
     "data": {
      "text/html": [
       "<div>\n",
       "<style scoped>\n",
       "    .dataframe tbody tr th:only-of-type {\n",
       "        vertical-align: middle;\n",
       "    }\n",
       "\n",
       "    .dataframe tbody tr th {\n",
       "        vertical-align: top;\n",
       "    }\n",
       "\n",
       "    .dataframe thead th {\n",
       "        text-align: right;\n",
       "    }\n",
       "</style>\n",
       "<table border=\"1\" class=\"dataframe\">\n",
       "  <thead>\n",
       "    <tr style=\"text-align: right;\">\n",
       "      <th></th>\n",
       "      <th>state</th>\n",
       "      <th>county</th>\n",
       "      <th>repub_percent_08</th>\n",
       "      <th>repub_percent_12</th>\n",
       "    </tr>\n",
       "  </thead>\n",
       "  <tbody>\n",
       "    <tr>\n",
       "      <th>7</th>\n",
       "      <td>Florida</td>\n",
       "      <td>Citrus</td>\n",
       "      <td>57.388587</td>\n",
       "      <td>60.407114</td>\n",
       "    </tr>\n",
       "    <tr>\n",
       "      <th>86</th>\n",
       "      <td>Utah</td>\n",
       "      <td>Tooele</td>\n",
       "      <td>63.436581</td>\n",
       "      <td>74.077151</td>\n",
       "    </tr>\n",
       "    <tr>\n",
       "      <th>32</th>\n",
       "      <td>Kentucky</td>\n",
       "      <td>Jessamine</td>\n",
       "      <td>67.829227</td>\n",
       "      <td>68.981728</td>\n",
       "    </tr>\n",
       "    <tr>\n",
       "      <th>62</th>\n",
       "      <td>North Dakota</td>\n",
       "      <td>McHenry</td>\n",
       "      <td>56.870861</td>\n",
       "      <td>61.873156</td>\n",
       "    </tr>\n",
       "    <tr>\n",
       "      <th>93</th>\n",
       "      <td>West Virginia</td>\n",
       "      <td>Morgan</td>\n",
       "      <td>60.857614</td>\n",
       "      <td>64.068711</td>\n",
       "    </tr>\n",
       "  </tbody>\n",
       "</table>\n",
       "</div>"
      ],
      "text/plain": [
       "            state     county  repub_percent_08  repub_percent_12\n",
       "7         Florida     Citrus         57.388587         60.407114\n",
       "86           Utah     Tooele         63.436581         74.077151\n",
       "32       Kentucky  Jessamine         67.829227         68.981728\n",
       "62   North Dakota    McHenry         56.870861         61.873156\n",
       "93  West Virginia     Morgan         60.857614         64.068711"
      ]
     },
     "execution_count": 35,
     "metadata": {},
     "output_type": "execute_result"
    }
   ],
   "source": [
    "repub_votes_small = repub_votes.sample(5)\n",
    "repub_votes_small"
   ]
  },
  {
   "cell_type": "code",
   "execution_count": 40,
   "id": "c42f7edb-3869-44e8-9515-cc92dfe09d5e",
   "metadata": {},
   "outputs": [
    {
     "name": "stdout",
     "output_type": "stream",
     "text": [
      "          W-val alternative    p-val  RBC  CLES\n",
      "Wilcoxon    0.0        less  0.03125 -1.0  0.76\n",
      "p value > alpha, we can not reject H0\n"
     ]
    }
   ],
   "source": [
    "#Wilcoxon Test\n",
    "alpha = 0.01\n",
    "\n",
    "wilcoxon_test_result = pingouin.wilcoxon(x=repub_votes_small['repub_percent_08'], \n",
    "                                         y=repub_votes_small['repub_percent_12'], \n",
    "                                         alternative='less')\n",
    "print(wilcoxon_test_result)\n",
    "print('p value > alpha, we can not reject H0')"
   ]
  },
  {
   "cell_type": "code",
   "execution_count": 42,
   "id": "6dbba03f-aba8-4836-b42e-ef257889463b",
   "metadata": {},
   "outputs": [
    {
     "name": "stdout",
     "output_type": "stream",
     "text": [
      "Age_vs_Comp\n",
      "       converted_comp age_first_code_cut\n",
      "0            77556.0              adult\n",
      "1            74970.0              child\n",
      "2           594539.0              child\n",
      "3          2000000.0              adult\n",
      "4            37816.0              adult\n",
      "...              ...                ...\n",
      "2256        145000.0              child\n",
      "2257         33972.0              child\n",
      "2258         97284.0              child\n",
      "2259         72000.0              child\n",
      "2260        180000.0              child\n",
      "\n",
      "[2261 rows x 2 columns]\n",
      "\n",
      "Age_vs_Comp After Pivot\n",
      " age_first_code_cut      adult     child\n",
      "0                     77556.0       NaN\n",
      "1                         NaN   74970.0\n",
      "2                         NaN  594539.0\n",
      "3                   2000000.0       NaN\n",
      "4                     37816.0       NaN\n",
      "...                       ...       ...\n",
      "2256                      NaN  145000.0\n",
      "2257                      NaN   33972.0\n",
      "2258                      NaN   97284.0\n",
      "2259                      NaN   72000.0\n",
      "2260                      NaN  180000.0\n",
      "\n",
      "[2261 rows x 2 columns]\n"
     ]
    },
    {
     "data": {
      "text/html": [
       "<div>\n",
       "<style scoped>\n",
       "    .dataframe tbody tr th:only-of-type {\n",
       "        vertical-align: middle;\n",
       "    }\n",
       "\n",
       "    .dataframe tbody tr th {\n",
       "        vertical-align: top;\n",
       "    }\n",
       "\n",
       "    .dataframe thead th {\n",
       "        text-align: right;\n",
       "    }\n",
       "</style>\n",
       "<table border=\"1\" class=\"dataframe\">\n",
       "  <thead>\n",
       "    <tr style=\"text-align: right;\">\n",
       "      <th></th>\n",
       "      <th>U-val</th>\n",
       "      <th>alternative</th>\n",
       "      <th>p-val</th>\n",
       "      <th>RBC</th>\n",
       "      <th>CLES</th>\n",
       "    </tr>\n",
       "  </thead>\n",
       "  <tbody>\n",
       "    <tr>\n",
       "      <th>MWU</th>\n",
       "      <td>744365.5</td>\n",
       "      <td>greater</td>\n",
       "      <td>1.902723e-19</td>\n",
       "      <td>-0.222516</td>\n",
       "      <td>0.611258</td>\n",
       "    </tr>\n",
       "  </tbody>\n",
       "</table>\n",
       "</div>"
      ],
      "text/plain": [
       "        U-val alternative         p-val       RBC      CLES\n",
       "MWU  744365.5     greater  1.902723e-19 -0.222516  0.611258"
      ]
     },
     "execution_count": 42,
     "metadata": {},
     "output_type": "execute_result"
    }
   ],
   "source": [
    "#Wilcoxon-Mann-Whitney Test\n",
    "age_vs_comp = stack_overflow[['converted_comp','age_first_code_cut']]\n",
    "\n",
    "age_vs_comp_wide = age_vs_comp.pivot(columns='age_first_code_cut', \n",
    "                                     values='converted_comp')\n",
    "\n",
    "print('Age_vs_Comp\\n',age_vs_comp)\n",
    "print('\\nAge_vs_Comp After Pivot\\n', age_vs_comp_wide)\n",
    "\n",
    "alpha=0.01\n",
    "pingouin.mwu(x=age_vs_comp_wide['child'], \n",
    "             y=age_vs_comp_wide['adult'], \n",
    "             alternative='greater')"
   ]
  },
  {
   "cell_type": "code",
   "execution_count": 44,
   "id": "4cb69a2a-017c-468f-9807-dabeb58235fd",
   "metadata": {},
   "outputs": [
    {
     "data": {
      "text/html": [
       "<div>\n",
       "<style scoped>\n",
       "    .dataframe tbody tr th:only-of-type {\n",
       "        vertical-align: middle;\n",
       "    }\n",
       "\n",
       "    .dataframe tbody tr th {\n",
       "        vertical-align: top;\n",
       "    }\n",
       "\n",
       "    .dataframe thead th {\n",
       "        text-align: right;\n",
       "    }\n",
       "</style>\n",
       "<table border=\"1\" class=\"dataframe\">\n",
       "  <thead>\n",
       "    <tr style=\"text-align: right;\">\n",
       "      <th></th>\n",
       "      <th>Source</th>\n",
       "      <th>ddof1</th>\n",
       "      <th>H</th>\n",
       "      <th>p-unc</th>\n",
       "    </tr>\n",
       "  </thead>\n",
       "  <tbody>\n",
       "    <tr>\n",
       "      <th>Kruskal</th>\n",
       "      <td>job_sat</td>\n",
       "      <td>4</td>\n",
       "      <td>72.814939</td>\n",
       "      <td>5.772915e-15</td>\n",
       "    </tr>\n",
       "  </tbody>\n",
       "</table>\n",
       "</div>"
      ],
      "text/plain": [
       "          Source  ddof1          H         p-unc\n",
       "Kruskal  job_sat      4  72.814939  5.772915e-15"
      ]
     },
     "execution_count": 44,
     "metadata": {},
     "output_type": "execute_result"
    }
   ],
   "source": [
    "#Kruskal-Wallis Test nedir ?\n",
    "alpha = 0.01\n",
    "\n",
    "pingouin.kruskal(data=stack_overflow, dv='converted_comp', between= 'job_sat')"
   ]
  },
  {
   "cell_type": "code",
   "execution_count": null,
   "id": "9e671e56-cbb1-4833-ad20-bc94b8af6310",
   "metadata": {},
   "outputs": [],
   "source": []
  }
 ],
 "metadata": {
  "kernelspec": {
   "display_name": "Python 3 (ipykernel)",
   "language": "python",
   "name": "python3"
  },
  "language_info": {
   "codemirror_mode": {
    "name": "ipython",
    "version": 3
   },
   "file_extension": ".py",
   "mimetype": "text/x-python",
   "name": "python",
   "nbconvert_exporter": "python",
   "pygments_lexer": "ipython3",
   "version": "3.11.2"
  }
 },
 "nbformat": 4,
 "nbformat_minor": 5
}
