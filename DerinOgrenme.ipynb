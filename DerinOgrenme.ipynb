{
  "cells": [
    {
      "cell_type": "markdown",
      "metadata": {
        "id": "view-in-github",
        "colab_type": "text"
      },
      "source": [
        "<a href=\"https://colab.research.google.com/github/umutky/datascience_repo/blob/main/DerinOgrenme.ipynb\" target=\"_parent\"><img src=\"https://colab.research.google.com/assets/colab-badge.svg\" alt=\"Open In Colab\"/></a>"
      ]
    },
    {
      "cell_type": "markdown",
      "metadata": {
        "id": "Yd0voPZWpNPL"
      },
      "source": []
    },
    {
      "cell_type": "markdown",
      "metadata": {
        "_uuid": "8c80a83f7fb1ab87aabbdad97d11627fb0380e8f",
        "id": "-GNSgSgmpNPL"
      },
      "source": [
        "# Derin Öğrenme\n",
        "* **Derin Öğrenme?**\n",
        "    * Özellikleri doğrudan verilerden öğrenen makine öğrenimi tekniklerinden biridir.\n",
        "    * Bir veya daha fazla gizli katman içerebilen yapay sinir ağları, evrişimsel sinir ağları ve tekrarlayan sinir ağları benzeri makine öğrenme algoritmalarını kapsayan çalışma alanıdır.\n",
        "* **Neden Derin Öğrenme?**\n",
        "    * Veri miktarı arttıkça makine öğrenme teknikleri performans açısından yetersiz kalıyor ve derin öğrenme performans açısından makine öğrenmesine göre daha yi sonuçlar veriyor.\n",
        "    * ![image.png](attachment:36f2e296-b181-4e27-b935-48eea5436847.png)\n",
        "* **Büyük Miktar Nedir?**\n",
        "    * Yanıt vermek zor ama sezgisel olarak 1 milyon örnek \"büyük miktarda veri\" demek için yeterlidir. Bilgisayarların donanımlarının gelişmesi ile birlikte yakın zamanda 1 milyon örnek  bile az miktar olarak adlandırılabilir.\n",
        "* **Derin Öğrenmenin Kullanım Alanları?**\n",
        "    * Konuşma tanıma, görüntü sınıflandırma, doğal dil işleme, öneri sistemleri, nesne tespiti, nesne takibi, bilgisayarlı görü ve ya duygu analizi gibi alanlarda kullanılmaktadır.  \n",
        "* **Derin Öğrenme ve Makine Öğrenimi Arasındaki Farklar?**\n",
        "     * Makine öğrenimi, derin öğrenmeyi kapsar.\n",
        "     * Makine öğrenmesinde özellikler manuel olarak makine öğrenimi modeline verilir ama derin öğrenme modelleri bu özellikleri kendileri çıkarır.\n",
        "     * ![image.png](attachment:56684db2-4c97-4928-8687-27f85f9c8b29.png)\n",
        "* **En Çok Kullanılan Derin Öğrenme Kütüphaneleri**\n",
        "    * **TensorFlow** ilk olarak Google'ın Makine Zekası araştırma kuruluşu bünyesinde Google Beyin Ekibi'nde çalışan araştırmacılar ve mühendisler tarafından geliştirilmiştir. Sistem, makine öğreniminde araştırmayı kolaylaştırmak ve araştırma prototipinden üretim sistemine geçişi hızlı ve kolay hale getirmek için tasarlanmıştır.\n",
        "    * **Keras** Python'da yazılmış ve TensorFlow üzerinde çalışabilen üst düzey bir sinir ağları uygulama programlama arayüzüdür.\n",
        "\n",
        "<br><br>**İçerik:**\n",
        "* [Yapay Sinir Ağları](#11010)\n",
        "    * [Veri Setini Tanıma](#159)\n",
        "    * [2 Katmanlı Sinir Ağı](#11011)\n",
        "        * [Parametrelerin İlklendirilmesi](#11012)\n",
        "        * [İleri Yayılma](#11013)\n",
        "        * [Kayıp ve Maliyet Fonksiyonları](#11014)\n",
        "        * [Geriye Yayılma](#11015)\n",
        "        * [Parametrelerin Güncellenmesi](#11016)\n",
        "        * [Tahmin](#11017)\n",
        "        * [2 Katmanlı Sinir Ağı Oluşturma](#11018)\n",
        "    * [N-Katmanlı Sinir Ağı](#11019)\n",
        "        * [Keras Kütüphanesi ile Yapay Sinir Ağları](#11022)\n",
        "* [Evrişimsel Sinir Ağları](#1110)\n",
        "    * [Veri Setini Tanıma](#1111)\n",
        "    * [Normalleştirme, Yeniden Şekillendirme ve Etiket Kodlama](#1112)\n",
        "    * [Eğitim Test Bölünmesi](#1113)\n",
        "    * [Evrişimsel Sinir Ağları](#1114)\n",
        "        * [Evrişim Operasyonu Nedir?](#1115)\n",
        "        * [Piksel Ekleme](#1116)\n",
        "        * [Ortaklama](#1117)\n",
        "        * [Düzleştirme](#1118)\n",
        "        * [Tam Bağlantı](#1119)\n",
        "    * [Keras ile Evrişimsel Sinir Ağları](#11110)\n",
        "        * [Model Oluşturma](#11111)\n",
        "        * [Optimizerin Belirlenmesi](#11112)\n",
        "        * [Modelin Derlenmesi](#11113)\n",
        "        * [Döngü Sayısı ve Eğitim Boyutu](#11114)\n",
        "        * [Veri Artırma](#11115)\n",
        "        * [Modelin Eğitilmesi](#11116)\n",
        "        * [Modelin Değerlendirilmesi](#11117)\n",
        "* [Tekrarlayan Sinir Ağları](#1120)\n",
        "    * [Keras ile Tekrarlayan Sinir Ağları](#1123)\n",
        "        * [Veri Setini Tanıma](#11231)\n",
        "        * [Modelin Oluşturulması](#11232)\n",
        "        * [Tahminleme ve Modelin Değerlendirilmesi](#11233)"
      ]
    },
    {
      "cell_type": "markdown",
      "metadata": {
        "_cell_guid": "a800aa00-7adf-4d10-83c1-3a5221219329",
        "_uuid": "dd0e970ce5194a34ca55b27b6580ef85714e1b92",
        "id": "Ka2SjgSHpNPL"
      },
      "source": [
        "<a id=\"11010\"></a> <br>\n",
        "## Yapay Sinir Ağları\n",
        "* **Yapay Sinir Ağı Nedir?**\n",
        "    * Yapay sinir ağları, insan beyninin bilgi işleme tekniğinden esinlenerek geliştirilmiş bir bilgi işlem teknolojisidir.\n",
        "    * Yapay sinir ağları ile biyolojik sinir sisteminin çalışma şekli modellenir. Özetle, biyolojik sinir hücrelerinin ve bu hücrelerin birbirleri ile arasında kurduğu sinaptik bağın dijital olarak modellenmesidir.\n",
        "    * Temelde lojistik regresyon modelinin alınıp, ardarda en az 2 kez tekrarlanmasıyla oluşur. Lojistik regresyon modeli 1 katmanlı bir modeldir, sinir ağları ise en az 2 katmandan oluşan yapılardır.\n",
        "    * Lojistik regresyonda, sadece girdi ve çıktı katmanları vardır. Ancak sinir ağında giriş ve çıkış katmanı arasında en az bir gizli katman vardır.\n",
        "    * Yapay sinir ağı zamanda derin sinir ağları olarak da adlandırılırlar.\n",
        "* **Derin Ne Kadar Derin?**\n",
        "    * \"Derin\" bir ağın kaç tane gizli katmana sahip olduğunu belirten bir ifadedir.\n",
        "    * Göreceli bir terimdir.\n",
        "    * Örneğin, \"yüzme havuzu ne kadar derin?\" sorusunun cevabına bakalım. 1cm, 1 m olabilir ve ya 100 m olabilir; sayılar çok mantıklı olmasa dahi yine de bir derinliği var.\n",
        "    * 32 yıl önce, iki veya üç gizli katman kullanımı \"derin\" demek için yeterliydi çünkü o zamanın şartlarında donanımları zorluyordu. Ama sadece birkaç yıl önce, 152 katman oldukça derin kabul ediliyordu. Şimdilerde ise Google gibi büyük şirketlerde 1000'lerce gizli katmandan oluşan ağlardan bahsediliyor.\n",
        "* **Neden Gizli?**\n",
        "    * Gizli katmanlar girdileri göremezler. Girdileri gören katman \"girdi katmanı\" olarak adlandırılır.\n",
        "    * Katman sayısı ifade edilirken, girdi katmanı sayılmaz. Örneğin bir derin öğrenme modeli tasarladığınızı düşünün, içerisinde 1 girdi, 1 gizli ve 1 tane de çıktı katmanı olsun. Kaç tane katmana sahip bir model tasarladınız sorusunun cevabi 2'dir (1 gizli + 1 çıktı katmanları).\n",
        "* **2 katmanlı bir sinir ağını görelim ve çalışma mantığını anlayalım**\n",
        "* ![image.png](attachment:244e5e76-378a-40ca-b2b9-0843f3ca7a23.png)\n",
        "* Yukarıda bulunan şekil üzerinden adım adım ilerleyelim.\n",
        "    * Gördüğünüz gibi, giriş(mavi) ve çıkış(turuncu) katmanların arasında gizli bir katman(turuncu) vardır. Ve bu gizli katmanın 3 düğümü vardır. Neden 3 adet düğüm seçtiğimi merak ediyorsanız, bunun bir nedeni yok. Düğüm sayısı bir hiperparametredir.\n",
        "    * Giriş ve çıkış katmanları lojistik regresyon gibidirler. Çıktı katmanında sigmoid fonksiyonu yerine farklı bir fonksiyon olabilir örneğin doğrusal ya da softmax fonksiyonu.\n",
        "    * Şekilde, tanh işlevi var. Sigmoid işlevi gibi bir aktivasyon işlevidir. Tanh aktivasyon işlevi, gizli birimler için sigmoid fonksiyonundan daha iyidir, çünkü çıktısının ortalaması sıfıra daha yakındır, bu nedenle verileri bir sonraki katman için daha iyi merkezler. Ayrıca tanh aktivasyon fonksiyonu,  doğrusal olmayışı arttırarak, modelin karmaşık veri setlerini daha iyi öğrenmesini sağlar.\n",
        "    * Mor renkte de görebileceğiniz gibi iki bölüm var. Her iki kısım da lojistik regresyon gibidir. Tek fark aktivasyon fonksiyonu, girişler ve çıkışlardır.\n",
        "        * Lojistik regresyonda: girdi => çıktı\n",
        "        * 2 katmanlı sinir ağında: giriş => gizli katman => çıktı. Gizli katmanın 1. bölümün çıktısı ve 2. bölümün girdisi olduğunu düşünebilirsiniz.\n",
        "    * Şekil üzerinden birlikte ilerleyelim.\n",
        "        * Veri seti içerisinde bulunan örnekler, girdi katmanına girer. z1 = W1X + b1, A1 = tanh(z1)\n",
        "        * Girdi katmanı çıktıları, gizli katmana girerler. z2 = W2A1 + b2, A2 = sigmoid(z2)\n",
        "        * Gizli katmanın çıktıları, çıktı katmanına girerler sonrasında kayıp ve maliyet hesabı yapılır.\n",
        "        * Maliyet bulunduktan sonra gradyan inişi algoritması kullanılarak parametreler güncellenir.\n",
        "        * Parametreler öğrenilene kadar (değerlerinin değişmesi durana ya da maliyet sıfıra yaklaşana kadar) bu süreçler tekrarlanır."
      ]
    },
    {
      "cell_type": "markdown",
      "metadata": {
        "_cell_guid": "62bb7abd-122c-4f87-97ad-eb203e9dea1f",
        "_uuid": "3e3e94ca5c9349ac36416482d30af378966c7a8a",
        "id": "0yj9T5RnpNPL"
      },
      "source": [
        "<a id=\"159\"></a> <br>\n",
        "### Veri Setini Tanıma\n",
        "* MNIST isimli veri setini kullanacağız.\n",
        "* MNIST veritabanı, çeşitli görüntü işleme sistemlerini eğitmek için yaygın olarak kullanılan, rakamların el yazısıyla yazılması sonucu oluşmuş büyük bir veritabanıdır.\n",
        "* Bildiğiniz gibi rakamlar 0'dan 9'a kadardır. Bu nedenle 10 benzersiz işaret vardır.\n",
        "* Yapay sinir ağlarında, sadece 0 ve 1 işaretini/sınıfını kullanacağız. Evrişimsel sinir ağlarına geçtiğimiz zaman 10 sınıfın hepsini kullanacağız.\n",
        "* Eğitim veri setinin içerisinde 42000 resim bulunmaktadır.\n",
        "* Resimler 28*28 pikselden oluşmaktadır."
      ]
    },
    {
      "cell_type": "code",
      "execution_count": null,
      "metadata": {
        "id": "ojMl-hQ4pNPL"
      },
      "outputs": [],
      "source": [
        "# Yapay Sinir Ağları\n",
        "import numpy as np\n",
        "import pandas as pd\n",
        "import seaborn as sns\n",
        "import matplotlib.pyplot as plt\n",
        "\n",
        "# gereksiz uyarıları kapatalım\n",
        "import warnings\n",
        "warnings.filterwarnings('ignore')\n",
        "\n",
        "# derin öğrenmede keras kullanacağız ama sklearn bize test eğitim bölünmesinde yardım edecek\n",
        "from sklearn.model_selection import train_test_split"
      ]
    },
    {
      "cell_type": "code",
      "execution_count": null,
      "metadata": {
        "id": "4SipgJtGpNPL",
        "outputId": "c5b697e5-f6a1-45e0-d90e-4465ecd76e3c"
      },
      "outputs": [
        {
          "name": "stdout",
          "output_type": "stream",
          "text": [
            "Verinin Boyutu:  (42000, 785)\n"
          ]
        },
        {
          "data": {
            "text/html": [
              "<div>\n",
              "<style scoped>\n",
              "    .dataframe tbody tr th:only-of-type {\n",
              "        vertical-align: middle;\n",
              "    }\n",
              "\n",
              "    .dataframe tbody tr th {\n",
              "        vertical-align: top;\n",
              "    }\n",
              "\n",
              "    .dataframe thead th {\n",
              "        text-align: right;\n",
              "    }\n",
              "</style>\n",
              "<table border=\"1\" class=\"dataframe\">\n",
              "  <thead>\n",
              "    <tr style=\"text-align: right;\">\n",
              "      <th></th>\n",
              "      <th>label</th>\n",
              "      <th>pixel0</th>\n",
              "      <th>pixel1</th>\n",
              "      <th>pixel2</th>\n",
              "      <th>pixel3</th>\n",
              "      <th>pixel4</th>\n",
              "      <th>pixel5</th>\n",
              "      <th>pixel6</th>\n",
              "      <th>pixel7</th>\n",
              "      <th>pixel8</th>\n",
              "      <th>...</th>\n",
              "      <th>pixel774</th>\n",
              "      <th>pixel775</th>\n",
              "      <th>pixel776</th>\n",
              "      <th>pixel777</th>\n",
              "      <th>pixel778</th>\n",
              "      <th>pixel779</th>\n",
              "      <th>pixel780</th>\n",
              "      <th>pixel781</th>\n",
              "      <th>pixel782</th>\n",
              "      <th>pixel783</th>\n",
              "    </tr>\n",
              "  </thead>\n",
              "  <tbody>\n",
              "    <tr>\n",
              "      <th>0</th>\n",
              "      <td>1</td>\n",
              "      <td>0</td>\n",
              "      <td>0</td>\n",
              "      <td>0</td>\n",
              "      <td>0</td>\n",
              "      <td>0</td>\n",
              "      <td>0</td>\n",
              "      <td>0</td>\n",
              "      <td>0</td>\n",
              "      <td>0</td>\n",
              "      <td>...</td>\n",
              "      <td>0</td>\n",
              "      <td>0</td>\n",
              "      <td>0</td>\n",
              "      <td>0</td>\n",
              "      <td>0</td>\n",
              "      <td>0</td>\n",
              "      <td>0</td>\n",
              "      <td>0</td>\n",
              "      <td>0</td>\n",
              "      <td>0</td>\n",
              "    </tr>\n",
              "    <tr>\n",
              "      <th>1</th>\n",
              "      <td>0</td>\n",
              "      <td>0</td>\n",
              "      <td>0</td>\n",
              "      <td>0</td>\n",
              "      <td>0</td>\n",
              "      <td>0</td>\n",
              "      <td>0</td>\n",
              "      <td>0</td>\n",
              "      <td>0</td>\n",
              "      <td>0</td>\n",
              "      <td>...</td>\n",
              "      <td>0</td>\n",
              "      <td>0</td>\n",
              "      <td>0</td>\n",
              "      <td>0</td>\n",
              "      <td>0</td>\n",
              "      <td>0</td>\n",
              "      <td>0</td>\n",
              "      <td>0</td>\n",
              "      <td>0</td>\n",
              "      <td>0</td>\n",
              "    </tr>\n",
              "    <tr>\n",
              "      <th>2</th>\n",
              "      <td>1</td>\n",
              "      <td>0</td>\n",
              "      <td>0</td>\n",
              "      <td>0</td>\n",
              "      <td>0</td>\n",
              "      <td>0</td>\n",
              "      <td>0</td>\n",
              "      <td>0</td>\n",
              "      <td>0</td>\n",
              "      <td>0</td>\n",
              "      <td>...</td>\n",
              "      <td>0</td>\n",
              "      <td>0</td>\n",
              "      <td>0</td>\n",
              "      <td>0</td>\n",
              "      <td>0</td>\n",
              "      <td>0</td>\n",
              "      <td>0</td>\n",
              "      <td>0</td>\n",
              "      <td>0</td>\n",
              "      <td>0</td>\n",
              "    </tr>\n",
              "    <tr>\n",
              "      <th>3</th>\n",
              "      <td>4</td>\n",
              "      <td>0</td>\n",
              "      <td>0</td>\n",
              "      <td>0</td>\n",
              "      <td>0</td>\n",
              "      <td>0</td>\n",
              "      <td>0</td>\n",
              "      <td>0</td>\n",
              "      <td>0</td>\n",
              "      <td>0</td>\n",
              "      <td>...</td>\n",
              "      <td>0</td>\n",
              "      <td>0</td>\n",
              "      <td>0</td>\n",
              "      <td>0</td>\n",
              "      <td>0</td>\n",
              "      <td>0</td>\n",
              "      <td>0</td>\n",
              "      <td>0</td>\n",
              "      <td>0</td>\n",
              "      <td>0</td>\n",
              "    </tr>\n",
              "    <tr>\n",
              "      <th>4</th>\n",
              "      <td>0</td>\n",
              "      <td>0</td>\n",
              "      <td>0</td>\n",
              "      <td>0</td>\n",
              "      <td>0</td>\n",
              "      <td>0</td>\n",
              "      <td>0</td>\n",
              "      <td>0</td>\n",
              "      <td>0</td>\n",
              "      <td>0</td>\n",
              "      <td>...</td>\n",
              "      <td>0</td>\n",
              "      <td>0</td>\n",
              "      <td>0</td>\n",
              "      <td>0</td>\n",
              "      <td>0</td>\n",
              "      <td>0</td>\n",
              "      <td>0</td>\n",
              "      <td>0</td>\n",
              "      <td>0</td>\n",
              "      <td>0</td>\n",
              "    </tr>\n",
              "  </tbody>\n",
              "</table>\n",
              "<p>5 rows × 785 columns</p>\n",
              "</div>"
            ],
            "text/plain": [
              "   label  pixel0  pixel1  pixel2  pixel3  pixel4  pixel5  pixel6  pixel7  \\\n",
              "0      1       0       0       0       0       0       0       0       0   \n",
              "1      0       0       0       0       0       0       0       0       0   \n",
              "2      1       0       0       0       0       0       0       0       0   \n",
              "3      4       0       0       0       0       0       0       0       0   \n",
              "4      0       0       0       0       0       0       0       0       0   \n",
              "\n",
              "   pixel8  ...  pixel774  pixel775  pixel776  pixel777  pixel778  pixel779  \\\n",
              "0       0  ...         0         0         0         0         0         0   \n",
              "1       0  ...         0         0         0         0         0         0   \n",
              "2       0  ...         0         0         0         0         0         0   \n",
              "3       0  ...         0         0         0         0         0         0   \n",
              "4       0  ...         0         0         0         0         0         0   \n",
              "\n",
              "   pixel780  pixel781  pixel782  pixel783  \n",
              "0         0         0         0         0  \n",
              "1         0         0         0         0  \n",
              "2         0         0         0         0  \n",
              "3         0         0         0         0  \n",
              "4         0         0         0         0  \n",
              "\n",
              "[5 rows x 785 columns]"
            ]
          },
          "execution_count": 2,
          "metadata": {},
          "output_type": "execute_result"
        }
      ],
      "source": [
        "# veriyi içe aktaralım\n",
        "veri = pd.read_csv(\"egitim.csv\")\n",
        "print(\"Verinin Boyutu: \",veri.shape) # 28*28 pixel düzleştirilmiş ve 784 sütun olarak veriye eklenmiştir. 1 tanede sınıf/label bilgisi var toplamda 785 sütun vardır.\n",
        "veri.head()"
      ]
    },
    {
      "cell_type": "code",
      "execution_count": null,
      "metadata": {
        "id": "3XYf308WpNPL",
        "outputId": "a3099d54-005e-4596-8c1f-79534e080bd1"
      },
      "outputs": [
        {
          "data": {
            "text/html": [
              "<div>\n",
              "<style scoped>\n",
              "    .dataframe tbody tr th:only-of-type {\n",
              "        vertical-align: middle;\n",
              "    }\n",
              "\n",
              "    .dataframe tbody tr th {\n",
              "        vertical-align: top;\n",
              "    }\n",
              "\n",
              "    .dataframe thead th {\n",
              "        text-align: right;\n",
              "    }\n",
              "</style>\n",
              "<table border=\"1\" class=\"dataframe\">\n",
              "  <thead>\n",
              "    <tr style=\"text-align: right;\">\n",
              "      <th></th>\n",
              "      <th>label</th>\n",
              "      <th>pixel0</th>\n",
              "      <th>pixel1</th>\n",
              "      <th>pixel2</th>\n",
              "      <th>pixel3</th>\n",
              "      <th>pixel4</th>\n",
              "      <th>pixel5</th>\n",
              "      <th>pixel6</th>\n",
              "      <th>pixel7</th>\n",
              "      <th>pixel8</th>\n",
              "      <th>...</th>\n",
              "      <th>pixel774</th>\n",
              "      <th>pixel775</th>\n",
              "      <th>pixel776</th>\n",
              "      <th>pixel777</th>\n",
              "      <th>pixel778</th>\n",
              "      <th>pixel779</th>\n",
              "      <th>pixel780</th>\n",
              "      <th>pixel781</th>\n",
              "      <th>pixel782</th>\n",
              "      <th>pixel783</th>\n",
              "    </tr>\n",
              "  </thead>\n",
              "  <tbody>\n",
              "    <tr>\n",
              "      <th>1</th>\n",
              "      <td>0</td>\n",
              "      <td>0</td>\n",
              "      <td>0</td>\n",
              "      <td>0</td>\n",
              "      <td>0</td>\n",
              "      <td>0</td>\n",
              "      <td>0</td>\n",
              "      <td>0</td>\n",
              "      <td>0</td>\n",
              "      <td>0</td>\n",
              "      <td>...</td>\n",
              "      <td>0</td>\n",
              "      <td>0</td>\n",
              "      <td>0</td>\n",
              "      <td>0</td>\n",
              "      <td>0</td>\n",
              "      <td>0</td>\n",
              "      <td>0</td>\n",
              "      <td>0</td>\n",
              "      <td>0</td>\n",
              "      <td>0</td>\n",
              "    </tr>\n",
              "    <tr>\n",
              "      <th>4</th>\n",
              "      <td>0</td>\n",
              "      <td>0</td>\n",
              "      <td>0</td>\n",
              "      <td>0</td>\n",
              "      <td>0</td>\n",
              "      <td>0</td>\n",
              "      <td>0</td>\n",
              "      <td>0</td>\n",
              "      <td>0</td>\n",
              "      <td>0</td>\n",
              "      <td>...</td>\n",
              "      <td>0</td>\n",
              "      <td>0</td>\n",
              "      <td>0</td>\n",
              "      <td>0</td>\n",
              "      <td>0</td>\n",
              "      <td>0</td>\n",
              "      <td>0</td>\n",
              "      <td>0</td>\n",
              "      <td>0</td>\n",
              "      <td>0</td>\n",
              "    </tr>\n",
              "    <tr>\n",
              "      <th>5</th>\n",
              "      <td>0</td>\n",
              "      <td>0</td>\n",
              "      <td>0</td>\n",
              "      <td>0</td>\n",
              "      <td>0</td>\n",
              "      <td>0</td>\n",
              "      <td>0</td>\n",
              "      <td>0</td>\n",
              "      <td>0</td>\n",
              "      <td>0</td>\n",
              "      <td>...</td>\n",
              "      <td>0</td>\n",
              "      <td>0</td>\n",
              "      <td>0</td>\n",
              "      <td>0</td>\n",
              "      <td>0</td>\n",
              "      <td>0</td>\n",
              "      <td>0</td>\n",
              "      <td>0</td>\n",
              "      <td>0</td>\n",
              "      <td>0</td>\n",
              "    </tr>\n",
              "    <tr>\n",
              "      <th>17</th>\n",
              "      <td>0</td>\n",
              "      <td>0</td>\n",
              "      <td>0</td>\n",
              "      <td>0</td>\n",
              "      <td>0</td>\n",
              "      <td>0</td>\n",
              "      <td>0</td>\n",
              "      <td>0</td>\n",
              "      <td>0</td>\n",
              "      <td>0</td>\n",
              "      <td>...</td>\n",
              "      <td>0</td>\n",
              "      <td>0</td>\n",
              "      <td>0</td>\n",
              "      <td>0</td>\n",
              "      <td>0</td>\n",
              "      <td>0</td>\n",
              "      <td>0</td>\n",
              "      <td>0</td>\n",
              "      <td>0</td>\n",
              "      <td>0</td>\n",
              "    </tr>\n",
              "    <tr>\n",
              "      <th>23</th>\n",
              "      <td>0</td>\n",
              "      <td>0</td>\n",
              "      <td>0</td>\n",
              "      <td>0</td>\n",
              "      <td>0</td>\n",
              "      <td>0</td>\n",
              "      <td>0</td>\n",
              "      <td>0</td>\n",
              "      <td>0</td>\n",
              "      <td>0</td>\n",
              "      <td>...</td>\n",
              "      <td>0</td>\n",
              "      <td>0</td>\n",
              "      <td>0</td>\n",
              "      <td>0</td>\n",
              "      <td>0</td>\n",
              "      <td>0</td>\n",
              "      <td>0</td>\n",
              "      <td>0</td>\n",
              "      <td>0</td>\n",
              "      <td>0</td>\n",
              "    </tr>\n",
              "  </tbody>\n",
              "</table>\n",
              "<p>5 rows × 785 columns</p>\n",
              "</div>"
            ],
            "text/plain": [
              "    label  pixel0  pixel1  pixel2  pixel3  pixel4  pixel5  pixel6  pixel7  \\\n",
              "1       0       0       0       0       0       0       0       0       0   \n",
              "4       0       0       0       0       0       0       0       0       0   \n",
              "5       0       0       0       0       0       0       0       0       0   \n",
              "17      0       0       0       0       0       0       0       0       0   \n",
              "23      0       0       0       0       0       0       0       0       0   \n",
              "\n",
              "    pixel8  ...  pixel774  pixel775  pixel776  pixel777  pixel778  pixel779  \\\n",
              "1        0  ...         0         0         0         0         0         0   \n",
              "4        0  ...         0         0         0         0         0         0   \n",
              "5        0  ...         0         0         0         0         0         0   \n",
              "17       0  ...         0         0         0         0         0         0   \n",
              "23       0  ...         0         0         0         0         0         0   \n",
              "\n",
              "    pixel780  pixel781  pixel782  pixel783  \n",
              "1          0         0         0         0  \n",
              "4          0         0         0         0  \n",
              "5          0         0         0         0  \n",
              "17         0         0         0         0  \n",
              "23         0         0         0         0  \n",
              "\n",
              "[5 rows x 785 columns]"
            ]
          },
          "execution_count": 3,
          "metadata": {},
          "output_type": "execute_result"
        }
      ],
      "source": [
        "# sadece etiketi bir ve sıfır olanları alalım\n",
        "label_filtre0 = 0 # etiketi sıfır\n",
        "label_filtre1 = 1  # etiketi bir\n",
        "# etiketi sıfır ve bir olanları filtreleyip birleştirelim\n",
        "veri = pd.concat([veri[veri[\"label\"] == label_filtre0],\n",
        "                  veri[veri[\"label\"] == label_filtre1]], axis = 0)\n",
        "veri.head()"
      ]
    },
    {
      "cell_type": "code",
      "execution_count": null,
      "metadata": {
        "id": "AYfuy9KipNPL",
        "outputId": "1f8fd996-7df5-401a-c62e-c672d29b28ea"
      },
      "outputs": [
        {
          "name": "stdout",
          "output_type": "stream",
          "text": [
            "X veri:  (8816, 784)\n",
            "Y veri:  (8816,)\n"
          ]
        }
      ],
      "source": [
        "# label'ları ayıralım\n",
        "Y_veri = veri[\"label\"]\n",
        "\n",
        "# x eğitim veri seti oluşturalım\n",
        "X_veri = veri.drop([\"label\"],axis = 1)\n",
        "print(\"X veri: \" , X_veri.shape)\n",
        "print(\"Y veri: \" , Y_veri.shape)"
      ]
    },
    {
      "cell_type": "markdown",
      "metadata": {
        "id": "innRheZ8pNPL"
      },
      "source": [
        "* X'in boyutu 8816, 784\n",
        "    * 8816 tane örnek var\n",
        "    * 784 ise 28*28 pikselin düzleştirildiği anlamına geliyor.\n",
        "* Y'in boyutu 8816, 1\n",
        "    *  8816 tane örnek var (0 ve 1 sınıfları)"
      ]
    },
    {
      "cell_type": "code",
      "execution_count": null,
      "metadata": {
        "id": "QrX8mlwzpNPL",
        "outputId": "9f46d892-b8d4-4bef-9c31-7af20582f42c"
      },
      "outputs": [
        {
          "data": {
            "text/plain": [
              "28"
            ]
          },
          "execution_count": 5,
          "metadata": {},
          "output_type": "execute_result"
        }
      ],
      "source": [
        "# resmin boyutunu kullanacağız\n",
        "resim_boyutu = int(np.sqrt(X_veri.shape[1]))\n",
        "resim_boyutu"
      ]
    },
    {
      "cell_type": "code",
      "execution_count": null,
      "metadata": {
        "_cell_guid": "4768ce70-3e7f-4ac9-8764-642e88006b77",
        "_uuid": "d6b38399b27c2d723750c0b4f8787a7d6d0025ea",
        "id": "KhJltd0cpNPL",
        "outputId": "d77f490b-3e8a-44fe-a1b9-8b428b3f9953"
      },
      "outputs": [
        {
          "data": {
            "image/png": "[encoded data removed]",
            "text/plain": [
              "<Figure size 432x288 with 1 Axes>"
            ]
          },
          "metadata": {
            "needs_background": "light"
          },
          "output_type": "display_data"
        }
      ],
      "source": [
        "# verimizi görselleştirelim 0 sınıfı\n",
        "resim1 = X_veri.iloc[900].values\n",
        "resim1 = resim1.reshape((resim_boyutu,resim_boyutu))\n",
        "plt.imshow(resim1,cmap='gray')\n",
        "plt.axis('off')\n",
        "plt.show()"
      ]
    },
    {
      "cell_type": "code",
      "execution_count": null,
      "metadata": {
        "id": "DU5q8L2mpNPL",
        "outputId": "cea7bb48-b334-47ba-e549-0f004be2f146"
      },
      "outputs": [
        {
          "data": {
            "image/png": "[encoded data removed]",
            "text/plain": [
              "<Figure size 432x288 with 1 Axes>"
            ]
          },
          "metadata": {
            "needs_background": "light"
          },
          "output_type": "display_data"
        }
      ],
      "source": [
        "# verimizi görselleştirelim 1 sınıfı\n",
        "resim2 = X_veri.iloc[8000].values\n",
        "resim2 = resim2.reshape((resim_boyutu,resim_boyutu))\n",
        "plt.imshow(resim2,cmap='gray')\n",
        "plt.axis('off')\n",
        "plt.show()"
      ]
    },
    {
      "cell_type": "markdown",
      "metadata": {
        "_cell_guid": "d6024477-cf34-40f9-b079-8388b5146e1b",
        "_uuid": "a999c02e74af603d65a4442842d739aa351f593c",
        "id": "ao2drFVkpNPL"
      },
      "source": [
        "* Veri seti içerisinde bulunan sıfır ve bir sınıflarına ait iki veriyide görselleştirmiş olduk.\n",
        "* Şimdi veri setimizi eğitim ve test veri seti olmak üzere ikiye ayıralım\n",
        "    * test = %15 ve egitim = %85"
      ]
    },
    {
      "cell_type": "code",
      "execution_count": null,
      "metadata": {
        "id": "EVdbQrYXpNPL",
        "outputId": "7fcd75a4-7f9c-4f43-847d-e49492ffba66"
      },
      "outputs": [
        {
          "name": "stdout",
          "output_type": "stream",
          "text": [
            "X egitim:  (7493, 784)\n",
            "X test:  (1323, 784)\n"
          ]
        }
      ],
      "source": [
        "# eğitim test bölünmesi\n",
        "X_egitim, X_test, Y_egitim, Y_test =\n",
        "     train_test_split(X_veri, Y_veri, test_size=0.15, random_state=42)\n",
        "print(\"X egitim: \",X_egitim.shape)\n",
        "print(\"X test: \",X_test.shape)"
      ]
    },
    {
      "cell_type": "markdown",
      "metadata": {
        "_cell_guid": "dab40a5b-e319-4807-a608-12065d860847",
        "_uuid": "cb26fc242ffcae8bf8f164d32dc9c5436e8312fc",
        "id": "OnmEePeRpNPL"
      },
      "source": [
        "* Eğitim veri setimiz içerisinide 7493 adet örnek bulunmaktadır.\n",
        "* Test veri setimiz içerisinide 1323 adet örnek bulunmaktadır.\n",
        "* Girdileri düzenlemek için tersçapraz işlemi yapalım."
      ]
    },
    {
      "cell_type": "code",
      "execution_count": null,
      "metadata": {
        "id": "aFr3KNiUpNPL",
        "outputId": "3d92fcfa-752a-43c2-a826-4d4fa6fc100c"
      },
      "outputs": [
        {
          "name": "stdout",
          "output_type": "stream",
          "text": [
            "x egitim:  (784, 7493)\n",
            "x test:  (784, 1323)\n",
            "y egitim:  (1, 7493)\n",
            "y test:  (1, 1323)\n"
          ]
        }
      ],
      "source": [
        "x_egitim = X_egitim.T\n",
        "x_test = X_test.T\n",
        "y_egitim = Y_egitim.values.reshape(-1,1).T\n",
        "y_test = Y_test.values.reshape(-1,1).T\n",
        "print(\"x egitim: \",x_egitim.shape)\n",
        "print(\"x test: \",x_test.shape)\n",
        "print(\"y egitim: \",y_egitim.shape)\n",
        "print(\"y test: \",y_test.shape)"
      ]
    },
    {
      "cell_type": "markdown",
      "metadata": {
        "_cell_guid": "0dfdae4c-5c3e-4ebd-8714-2ecf974ef2fa",
        "_uuid": "ed7b18eea8062e401823686bb2f672e1c548fac0",
        "id": "5gaqNKuspNPL"
      },
      "source": [
        "* Bu noktaya kadar sınıflarımızı seçtik (0 ve 1)\n",
        "* Eğitim ve test veri setimizi oluşturduk.\n",
        "* Nihai veri setimiz şekildeki gibidir.\n",
        "* ![image.png](attachment:82b0070f-136e-49e0-8d91-b1462c70e30b.png)"
      ]
    },
    {
      "cell_type": "markdown",
      "metadata": {
        "_cell_guid": "35b73665-27cb-48a7-abb1-0e0e6bc10ec0",
        "_uuid": "689a4a049579fff0c718bc30639f18e2dcab8ccc",
        "id": "b4z8aT8HpNPL"
      },
      "source": [
        "<a id=\"11011\"></a> <br>\n",
        "### 2 Katmanlı Sinir Ağı\n",
        "* Parametrelerin İlklendirilmesi\n",
        "* İleri Yayılma\n",
        "* Kayıp ve Maliyet Fonksiyonları\n",
        "* Geriye Yayılma\n",
        "* Parametrelerin Güncellenmesi\n",
        "* Tahmin\n",
        "* 2 Katmanlı Sinir Ağı Oluşturma"
      ]
    },
    {
      "cell_type": "markdown",
      "metadata": {
        "_cell_guid": "bbfe8df0-bf38-4842-aec1-c04417a99420",
        "_uuid": "0a5e286cf360d579eb6e5d5f220dd1a17c458039",
        "id": "iA74pV8wpNPL"
      },
      "source": [
        "<a id=\"11012\"></a> <br>\n",
        "#### Parametrelerin İlklendirilmesi\n",
        "* X eğitim veri seti için $x^{(7493)}$:\n",
        "$$z^{[1] (7493)} =  W^{[1]} x^{(7493)} + b^{[1] (7493)}$$\n",
        "$$a^{[1] (7493)} = \\tanh(z^{[1] (7493)})$$\n",
        "$$z^{[2] (7493)} = W^{[2]} a^{[1] (7493)} + b^{[2] (7493)}$$\n",
        "$$\\hat{y}^{(7493)} = a^{[2] (7493)} = \\sigma(z^{ [2] (7493)})$$\n",
        "* Lojistik regresyonda, 0.01 ağırlıkları ve 0 eğilimi ile ilklendirme işlemini gerçekleştirmiştik. Bu sefer, ağırlıkları rastgele olarak ilklendireceğiz. Çünkü parametreleri sıfırlarsak, ilk gizli katmandaki her sinir aynı karşılaştırmayı gerçekleştirecektir. Bu nedenle, gradyan inişinin çoklu yinelemesinden sonra bile katmandaki her sinir diğer sinirlerle aynı parametreleri hesaplayacaktır. Bu nedenle rastgele başlatıyoruz.\n",
        "* Ayrıca başlangıç ilklendirilen ağırlıkları sıfıra yakın seçiyoruz. Başlangıçta çok büyük değerler seçersek, bu durum tanh girdilerinin çok büyük olmasına ve dolayısıyla gradyanların sıfıra yakın olmasına neden olacaktır. Sonuç olarak optimizasyon algoritması yavaş olacaktır.\n",
        "* Eğilim başlangıçta sıfır olabilir."
      ]
    },
    {
      "cell_type": "code",
      "execution_count": null,
      "metadata": {
        "_cell_guid": "089fd577-95a0-4218-9b53-72bf1c0ab206",
        "_uuid": "922670a74f6999885759399ebea8b10692796a29",
        "id": "K25rO_aPpNPL"
      },
      "outputs": [],
      "source": [
        "# ilklendirme\n",
        "def layerSayisiniParametreleriIlklendir(x_train, y_train):\n",
        "    parameters = {\"weight1\": np.random.randn(3,x_train.shape[0]) * 0.1,\n",
        "                  \"bias1\": np.zeros((3,1)),\n",
        "                  \"weight2\": np.random.randn(y_train.shape[0],3) * 0.1,\n",
        "                  \"bias2\": np.zeros((y_train.shape[0],1))}\n",
        "    return parameters"
      ]
    },
    {
      "cell_type": "code",
      "execution_count": null,
      "metadata": {
        "id": "Cqj_Uk_VpNPL",
        "outputId": "4ad3bb03-373b-4119-ef25-92c3bb8bd10a"
      },
      "outputs": [
        {
          "data": {
            "text/plain": [
              "0.5"
            ]
          },
          "execution_count": 11,
          "metadata": {},
          "output_type": "execute_result"
        }
      ],
      "source": [
        "# sigmoid\n",
        "def sigmoid(z):\n",
        "\n",
        "    y_head = 1/(1+ np.exp(-z))\n",
        "    return y_head\n",
        "sigmoid(0)"
      ]
    },
    {
      "cell_type": "markdown",
      "metadata": {
        "_cell_guid": "65832cdf-7ee8-447b-a068-48ac2e46b49f",
        "_uuid": "66147bbafbe25dac498f3963ea8419126f624ce9",
        "id": "VLWwiXlLpNPL"
      },
      "source": [
        "<a id=\"11013\"></a> <br>\n",
        "#### İleri Yayılma\n",
        "* İleri yayılma, lojistik regresyon ile hemen hemen aynıdır.\n",
        "* Tek fark, tanh fonksiyonunu kullanmamız ve tüm işlemleri iki kez yapıyor olmamız.\n",
        "* Ayrıca Numpy kütüphanesinin tanh fonksiyonu bulunmaktadır. Bu nedenle sigmoid fonksiyonu gibi bir tanh fonksiyonu tanımlamamıza gerek bulunmamaktadır."
      ]
    },
    {
      "cell_type": "code",
      "execution_count": null,
      "metadata": {
        "_cell_guid": "d64d6b90-7f14-453f-a401-4119504496e3",
        "_uuid": "41e1e2f1c7afff027ba0a9f9b2fdcbe312e9a194",
        "id": "YtoRTHZLpNPL"
      },
      "outputs": [],
      "source": [
        "\n",
        "def ileriYayilmaNN(x_train, parameters):\n",
        "\n",
        "    Z1 = np.dot(parameters[\"weight1\"],x_train) +parameters[\"bias1\"]\n",
        "    A1 = np.tanh(Z1)\n",
        "    Z2 = np.dot(parameters[\"weight2\"],A1) + parameters[\"bias2\"]\n",
        "    A2 = sigmoid(Z2)\n",
        "\n",
        "    cache = {\"Z1\": Z1,\n",
        "             \"A1\": A1,\n",
        "             \"Z2\": Z2,\n",
        "             \"A2\": A2}\n",
        "\n",
        "    return A2, cache\n"
      ]
    },
    {
      "cell_type": "markdown",
      "metadata": {
        "_cell_guid": "30a0abc9-7ee0-4093-afd5-ae9d5b1fcd5e",
        "_uuid": "ee7a42ee207e222eed5c24b1bfbf2d6ce0cdec37",
        "id": "_-ceQrxqpNPL"
      },
      "source": [
        "<a id=\"11014\"></a> <br>\n",
        "#### Kayıp ve Maliyet Fonksiyonları\n",
        "* Kayıp ve maliyet fonksiyonları lojistik regresyon ile aynıdır\n",
        "* Çapraz entropi fonksiyonu\n",
        "* ![image.png](attachment:4a4d3f17-abcc-401b-850e-6a37993b3a92.png)"
      ]
    },
    {
      "cell_type": "code",
      "execution_count": null,
      "metadata": {
        "_cell_guid": "24143d72-bc62-4f2d-b0cf-4f67a4016299",
        "_uuid": "b55887b28cffc8083a76af45d25957d4f3e9f6fa",
        "id": "30EjcJ0spNPL"
      },
      "outputs": [],
      "source": [
        "# maliyet hesabı\n",
        "def maliyetHesaplaNN(A2, Y, parameters):\n",
        "    logprobs = np.multiply(np.log(A2),Y)\n",
        "    cost = -np.sum(logprobs)/Y.shape[1]\n",
        "    return cost\n"
      ]
    },
    {
      "cell_type": "markdown",
      "metadata": {
        "_cell_guid": "39839772-976a-4e53-a2e0-07aa76c9bd98",
        "_uuid": "43767f9271e2b2b6e0c3560e414f3c0c596ffe2f",
        "id": "Vnbbp75spNPL"
      },
      "source": [
        "<a id=\"11015\"></a> <br>\n",
        "#### Geriye Yayılma\n",
        "* Lojistik regresyondan bildiğiniz gibi geriye doğru yayılma bölümünde maliyetin parametrelere göre türevini alıp değişimi buluyoruz."
      ]
    },
    {
      "cell_type": "code",
      "execution_count": null,
      "metadata": {
        "_cell_guid": "2fcfd3c4-f935-4272-a284-c2dbc2c35afb",
        "_uuid": "6bf7bce2e4413ecdc16ea778008eee4072738aab",
        "id": "xgV5eTpspNPL"
      },
      "outputs": [],
      "source": [
        "# Backward Propagation\n",
        "def geriyeYayilmaNN(parameters, cache, X, Y):\n",
        "\n",
        "    dZ2 = cache[\"A2\"]-Y\n",
        "    dW2 = np.dot(dZ2,cache[\"A1\"].T)/X.shape[1]\n",
        "    db2 = np.sum(dZ2,axis =1,keepdims=True)/X.shape[1]\n",
        "    dZ1 = np.dot(parameters[\"weight2\"].T,dZ2)*(1 - np.power(cache[\"A1\"], 2))\n",
        "    dW1 = np.dot(dZ1,X.T)/X.shape[1]\n",
        "    db1 = np.sum(dZ1,axis =1,keepdims=True)/X.shape[1]\n",
        "    grads = {\"dweight1\": dW1,\n",
        "             \"dbias1\": db1,\n",
        "             \"dweight2\": dW2,\n",
        "             \"dbias2\": db2}\n",
        "    return grads"
      ]
    },
    {
      "cell_type": "markdown",
      "metadata": {
        "_cell_guid": "af195fda-5649-4e6d-830e-72123f2726a8",
        "_uuid": "b1996782dc44fda7993407c9b5efee5d4fef46e4",
        "id": "AXBmWgU8pNPL"
      },
      "source": [
        "<a id=\"11016\"></a> <br>\n",
        "#### Parametrelerin Güncellenmesi\n",
        "* Ağırlık ve eğilim parametrelerimizi güncelleyelim."
      ]
    },
    {
      "cell_type": "code",
      "execution_count": null,
      "metadata": {
        "_cell_guid": "d9ae95d4-1d11-4293-822d-e1d5f0c16d1e",
        "_uuid": "facf2b475cb82e14dcc6be56b57fe2c3ad0b1a8f",
        "id": "WhmrBKBApNPL"
      },
      "outputs": [],
      "source": [
        "# update parameters\n",
        "def parametreGuncelleNN(parameters, grads, learning_rate = 0.01):\n",
        "    parameters = {\"weight1\": parameters[\"weight1\"]-learning_rate*grads[\"dweight1\"],\n",
        "                  \"bias1\": parameters[\"bias1\"]-learning_rate*grads[\"dbias1\"],\n",
        "                  \"weight2\": parameters[\"weight2\"]-learning_rate*grads[\"dweight2\"],\n",
        "                  \"bias2\": parameters[\"bias2\"]-learning_rate*grads[\"dbias2\"]}\n",
        "\n",
        "    return parameters"
      ]
    },
    {
      "cell_type": "markdown",
      "metadata": {
        "_cell_guid": "ac416480-ec9c-45b4-ac9d-1caeded9ba90",
        "_uuid": "9c471502563017fabb991494359091215e4ad583",
        "id": "jgrUbvgapNPL"
      },
      "source": [
        "<a id=\"11017\"></a> <br>\n",
        "#### Tahmin\n",
        "* Tahmin işlemini gerçekleştirelim."
      ]
    },
    {
      "cell_type": "code",
      "execution_count": null,
      "metadata": {
        "_cell_guid": "96004eb5-d6ca-41ab-a577-70fb0628a2f4",
        "_uuid": "53c00c4430c6fcc3298dde8de804cab71884caa5",
        "id": "FzF6a4ccpNPL"
      },
      "outputs": [],
      "source": [
        "# tahmin\n",
        "def tahminNN(parameters,x_test):\n",
        "\n",
        "    # x test ileri yayilma girdisidir.\n",
        "    A2, cache = ileriYayilmaNN(x_test,parameters)\n",
        "    Y_prediction = np.zeros((1,x_test.shape[1]))\n",
        "\n",
        "    # eğer z 0.5'den büyükse, 1 sınıfına ait resimler\n",
        "    # eğer z 0.5'den küçükse, 0 sınıfına ait resimler\n",
        "    for i in range(A2.shape[1]):\n",
        "        if A2[0,i]<= 0.5:\n",
        "            Y_prediction[0,i] = 0\n",
        "        else:\n",
        "            Y_prediction[0,i] = 1\n",
        "\n",
        "    return Y_prediction"
      ]
    },
    {
      "cell_type": "markdown",
      "metadata": {
        "_cell_guid": "d0df9e13-300b-4d5e-b8ec-f702ed0e06af",
        "_uuid": "94202fbc047d59fa5c8b81ba02962f1f3cc56d8f",
        "id": "V51zZjwIpNPL"
      },
      "source": [
        "<a id=\"11018\"></a> <br>\n",
        "#### 2 Katmanlı Sinir Ağı Oluşturma\n",
        "* Şimdiye kadar yazdığımız fonksiyonları birleştirelim."
      ]
    },
    {
      "cell_type": "code",
      "execution_count": null,
      "metadata": {
        "_cell_guid": "b66f3c28-0f71-4176-8a6b-35b98b0db936",
        "_uuid": "9babf239f800bedc9864c6a75677985d57f1cc78",
        "id": "BXacUjiopNPc",
        "outputId": "3579a357-f9e9-4792-a771-03028323ec6d"
      },
      "outputs": [
        {
          "name": "stdout",
          "output_type": "stream",
          "text": [
            "İterasyon: 0, Maliyet: 0.379813\n",
            "İterasyon: 100, Maliyet: 0.292334\n",
            "İterasyon: 200, Maliyet: 0.183648\n",
            "İterasyon: 300, Maliyet: 0.114867\n",
            "İterasyon: 400, Maliyet: 0.080438\n",
            "İterasyon: 500, Maliyet: 0.061674\n",
            "İterasyon: 600, Maliyet: 0.049478\n",
            "İterasyon: 700, Maliyet: 0.041542\n",
            "İterasyon: 800, Maliyet: 0.035745\n",
            "İterasyon: 900, Maliyet: 0.031742\n"
          ]
        },
        {
          "data": {
            "image/png": "[encoded data removed]",
            "text/plain": [
              "<Figure size 432x288 with 1 Axes>"
            ]
          },
          "metadata": {
            "needs_background": "light"
          },
          "output_type": "display_data"
        },
        {
          "name": "stdout",
          "output_type": "stream",
          "text": [
            "Eğitim Doğruluğu: 99.14586947817963 %\n",
            "Test Doğruluğu: 99.24414210128496 %\n"
          ]
        }
      ],
      "source": [
        "# 2 - katmanlı sinir ağı\n",
        "def ikiKatmanNN(x_train, y_train,x_test,y_test, num_iterations):\n",
        "    cost_list = []\n",
        "    index_list = []\n",
        "\n",
        "    # ilklendirme\n",
        "    parameters = layerSayisiniParametreleriIlklendir(x_train, y_train)\n",
        "\n",
        "    for i in range(0, num_iterations):\n",
        "         # ileri yayılım\n",
        "        A2, cache = ileriYayilmaNN(x_train,parameters)\n",
        "        # maliyet hesapla\n",
        "        cost = maliyetHesaplaNN(A2, y_train, parameters)\n",
        "         # geriye yayılım\n",
        "        grads = geriyeYayilmaNN(parameters, cache, x_train, y_train)\n",
        "         # parametreleri güncelle\n",
        "        parameters = parametreGuncelleNN(parameters, grads)\n",
        "\n",
        "        if i % 100 == 0:\n",
        "            cost_list.append(cost)\n",
        "            index_list.append(i)\n",
        "            print (\"İterasyon: %i, Maliyet: %f\" %(i, cost))\n",
        "\n",
        "    plt.plot(index_list,cost_list)\n",
        "    plt.xticks(index_list,rotation='vertical')\n",
        "    plt.xlabel(\"İterasyon Sayisi\")\n",
        "    plt.ylabel(\"Maliyet\")\n",
        "    plt.show()\n",
        "\n",
        "    # predict\n",
        "    y_prediction_test = tahminNN(parameters,x_test)\n",
        "    y_prediction_train = tahminNN(parameters,x_train)\n",
        "\n",
        "    # eğitim ve test doğruluğu\n",
        "    print(\"Eğitim Doğruluğu: {} %\".\n",
        "          format(100 - np.mean(np.abs(y_prediction_train - y_train)) * 100))\n",
        "    print(\"Test Doğruluğu: {} %\".\n",
        "          format(100 - np.mean(np.abs(y_prediction_test - y_test)) * 100))\n",
        "    return parameters\n",
        "\n",
        "parameters = ikiKatmanNN(x_egitim, y_egitim,x_test,y_test, num_iterations=1000)"
      ]
    },
    {
      "cell_type": "markdown",
      "metadata": {
        "_cell_guid": "04d3b704-2fd4-410b-ad90-a5a0aedd4b7d",
        "_uuid": "62bb69efcf883ba22581dfc8d4f2e0eaa2d99ee3",
        "id": "-gnfjCMrpNPc"
      },
      "source": [
        "* Eğitim ve test başarımız %98 çıktı. Yani test ve eğitim verisi içerisinde bulunan resimleri %98 oranında doğru tahmin ediyoruz.\n",
        "* Bu noktaya kadar 2 katmanlı sinir ağları için aşağıda bulunan kavramları  öğrendik.\n",
        "    * Parametrelerin İlklendirilmesi\n",
        "    * İleri Yayılma\n",
        "    * Kayıp ve Maliyet Fonksiyonları\n",
        "    * Geriye Yayılma\n",
        "    * Parametrelerin Güncellenmesi\n",
        "    * Tahmin\n",
        "    * 2 Katmanlı Sinir Ağı Oluşturma\n",
        "* Şimdi N katmanlı sinir ağlarının Keras kütüphanesi ile nasıl oluşturulduğunu öğreneceğiz. Yukarıda öğrendiğimiz kavramların hepsi tamamen aynıdır."
      ]
    },
    {
      "cell_type": "markdown",
      "metadata": {
        "_cell_guid": "c054ed2a-9dd9-498c-9be6-6e9b16ff5913",
        "_uuid": "aa2f896b72236e09687afc3c613a4fc801b16552",
        "id": "E3humeRPpNPc"
      },
      "source": [
        "<a id=\"11019\"></a> <br>\n",
        "### N-Katmanlı Sinir Ağı\n",
        "* **Gizli Katman Sayısı Artarsa Ne Olur?**\n",
        "    * Girdi katmanına yakın olan katmanlar basit özellikleri algılayabilir.\n",
        "    * Çıktı katmanına daha yakın olan ileri katmanlar daha karmaşık işlevleri öğrenebilir.\n",
        "    * Örneğin, ilk gizli katman, kenarları ve ya çizgi gibi temel şekilleri öğrenir. Katman sayısı arttığında, katmanlar dışbükey şekiller ve ya karakteristik özellikler gibi daha karmaşık şeyler öğrenmeye başlar.\n",
        "    * ![image.png](attachment:3f9b7ec0-0ddd-4b5f-9818-5b6e5288fab6.png)\n",
        "* Modelimizi oluşturalım\n",
        "    * Öğrenme hızı, yineleme sayısı, gizli katman sayısı, gizli katman nöron sayısı, aktifleştirme fonksiyonu gibi seçmemiz gereken bazı hiperparametreler vardır.  \n",
        "    * Bu hiperparametreleri daha önceden yapılan yayınları inceleyerek, deneme yanılma yoluyla ya da derin öğrenme dünyasında çok zaman geçirirseniz, sezgisel olarak seçebilirsiniz.\n",
        "    * Bu eğitimde, modelimiz sırasıyla 8 ve 4 düğümlü 2 gizli katmana sahip olacaktır. Çünkü gizli katman ve düğüm sayısı arttığında modelin eğitilmesi hem çok zaman alıyor hem de modelin karmaşıklığı arttığı için donanımımız bu işlemi gerçekleştiremeyebilir.\n",
        "    * Aktifleştirme fonksiyonu olarak sırasıyla relu (birinci gizli katman), relu (ikinci gizli katman) ve sigmoid (çıktı katmanı) kullanacağız.\n",
        "    * ![image.png](attachment:13bc8185-54ee-42c3-9c40-a945dc6cff34.png)\n",
        "    * İterasyon sayısı 100 olacak.\n",
        "* Bu sefer kodumuzu tek tek yazmak yerine Tensorflow üzerinde çalışan Keras kütüphanesinin gücünden faydalanacağız.\n",
        "* Keras kütüphanesinin istediği formata uygun olmaları için veri setimizin şeklini değiştirelim"
      ]
    },
    {
      "cell_type": "code",
      "execution_count": null,
      "metadata": {
        "_cell_guid": "631a05c4-e362-4fa0-9048-21c599f55344",
        "_uuid": "0a978924a68d423de4babe73c15412ad938c1858",
        "id": "FnR3wH_EpNPc"
      },
      "outputs": [],
      "source": [
        "# veri setimizi tekrardan yüklemiyoruz önceki derslerde içe aktarmıştık ve düzenlemiştik\n",
        "# reshaping\n",
        "x_egitim, x_test, y_egitim, y_test =\n",
        "       x_egitim.T, x_test.T, y_egitim.T, y_test.T"
      ]
    },
    {
      "cell_type": "markdown",
      "metadata": {
        "_cell_guid": "e17b5a34-00dc-49a8-b7ac-a2bd3a753f78",
        "_uuid": "5a78a5570bc50180a02190dee46180f19eb165e1",
        "id": "9FN4PkG8pNPc"
      },
      "source": [
        "<a id=\"11022\"></a> <br>\n",
        "#### Keras Kütüphanesi ile Yapay Sinir Ağları\n",
        "Keras kitaplığının bazı parametrelerine bakalım:\n",
        "* units: nöron sayısı\n",
        "* kernel_initializer: ağırlıkları ilklendirme\n",
        "* activation: aktivasyon fonksiyonu\n",
        "* input_dim: input boyutu bizim örneğimizde piksel sayısı (784)\n",
        "* optimizer: Adam optimizasyon yöntemini öğreneceğiz.\n",
        "    * Adam, sinir ağlarını eğitmek için en etkili optimizasyon algoritmalarından biridir.\n",
        "    * Adam'ın bazı avantajları, nispeten düşük bellek gereksinimlerinin olması ve genellikle küçük hiperparametrelerin ayarlanmasıyla bile iyi çalışmasıdır.\n",
        "* loss: çapraz entropi maliyet fonksiyonu kullanacağız.\n",
        "$$J = - \\frac{1}{m} \\sum\\limits_{i = 0}^{m} \\large\\left(\\small y^{(i)}\\log\\left(a^{[2] (i)}\\right) + (1-y^{(i)})\\log\\left(1- a^{[2] (i)}\\right)  \\large  \\right) \\small \\tag{6}$$\n",
        "* metrics: metrik olarak doğruluğu kullanacağız\n",
        "* cross_val_score: çapraz doğrulama kullanacağız.\n",
        "* epochs: iterasyon sayısı"
      ]
    },
    {
      "cell_type": "code",
      "execution_count": null,
      "metadata": {
        "_cell_guid": "8870c45b-b0fe-4050-a8af-41498a417ed5",
        "_uuid": "9361c3183a40fa0080055b7d5c1002aef68b4d77",
        "id": "cMecnPaOpNPc",
        "outputId": "02cc88e3-95a8-4af7-d587-d27091a55377"
      },
      "outputs": [
        {
          "name": "stderr",
          "output_type": "stream",
          "text": [
            "Using TensorFlow backend.\n"
          ]
        },
        {
          "name": "stdout",
          "output_type": "stream",
          "text": [
            "Epoch 1/5\n",
            "4995/4995 [==============================] - 0s 90us/step - loss: 0.0956 - accuracy: 0.9790\n",
            "Epoch 2/5\n",
            "4995/4995 [==============================] - 0s 53us/step - loss: 0.0035 - accuracy: 0.9988\n",
            "Epoch 3/5\n",
            "4995/4995 [==============================] - 0s 58us/step - loss: 0.0015 - accuracy: 0.9998\n",
            "Epoch 4/5\n",
            "4995/4995 [==============================] - 0s 64us/step - loss: 5.6327e-04 - accuracy: 0.9998\n",
            "Epoch 5/5\n",
            "4995/4995 [==============================] - 0s 60us/step - loss: 3.8211e-04 - accuracy: 1.0000\n",
            "2498/2498 [==============================] - 0s 34us/step\n",
            "Epoch 1/5\n",
            "4995/4995 [==============================] - 0s 83us/step - loss: 0.0965 - accuracy: 0.9712\n",
            "Epoch 2/5\n",
            "4995/4995 [==============================] - 0s 62us/step - loss: 0.0031 - accuracy: 0.9990\n",
            "Epoch 3/5\n",
            "4995/4995 [==============================] - 0s 54us/step - loss: 0.0010 - accuracy: 0.9998\n",
            "Epoch 4/5\n",
            "4995/4995 [==============================] - 0s 57us/step - loss: 4.2320e-04 - accuracy: 0.9998\n",
            "Epoch 5/5\n",
            "4995/4995 [==============================] - 0s 70us/step - loss: 2.6763e-04 - accuracy: 1.0000\n",
            "2498/2498 [==============================] - 0s 37us/step\n",
            "Epoch 1/5\n",
            "4996/4996 [==============================] - 0s 96us/step - loss: 0.0931 - accuracy: 0.9756\n",
            "Epoch 2/5\n",
            "4996/4996 [==============================] - 0s 64us/step - loss: 0.0028 - accuracy: 0.9992\n",
            "Epoch 3/5\n",
            "4996/4996 [==============================] - 0s 94us/step - loss: 6.3594e-04 - accuracy: 1.0000\n",
            "Epoch 4/5\n",
            "4996/4996 [==============================] - 0s 85us/step - loss: 4.2543e-04 - accuracy: 1.0000\n",
            "Epoch 5/5\n",
            "4996/4996 [==============================] - 0s 85us/step - loss: 1.1811e-04 - accuracy: 1.0000\n",
            "2497/2497 [==============================] - 0s 41us/step\n",
            "Doğruluğun ortalaması: 0.9989323616027832\n",
            "Doğruluğun Varyansı: 0.0003773407543328968\n"
          ]
        }
      ],
      "source": [
        "# yapay sinir ağları kütüphaneleri\n",
        "from keras.wrappers.scikit_learn import KerasClassifier\n",
        "from sklearn.model_selection import cross_val_score\n",
        "from keras.models import Sequential # initialize neural network library\n",
        "from keras.layers import Dense # build our layers library\n",
        "\n",
        "# modelimiz için bir metot yazalım\n",
        "def siniflandiriciMethot():\n",
        "    classifier = Sequential() # initialize neural network\n",
        "    classifier.add(Dense(units = 8, kernel_initializer = 'uniform',\n",
        "                         activation = 'relu', input_dim = x_egitim.shape[1]))\n",
        "    classifier.add(Dense(units = 4, kernel_initializer = 'uniform',\n",
        "                         activation = 'relu'))\n",
        "    classifier.add(Dense(units = 1, kernel_initializer = 'uniform',\n",
        "                         activation = 'sigmoid'))\n",
        "    classifier.compile(optimizer = 'adam', loss = 'binary_crossentropy',\n",
        "                       metrics = ['accuracy'])\n",
        "    return classifier\n",
        "\n",
        "siniflandirici = KerasClassifier(build_fn = siniflandiriciMethot,\n",
        "                                 epochs = 5)\n",
        "dogruluk = cross_val_score(estimator = siniflandirici,\n",
        "                           X = x_egitim, y = y_egitim, cv = 3)# 3lü çarpraz doğrulama\n",
        "ortalama = dogruluk.mean()\n",
        "varyans = dogruluk.std()\n",
        "print(\"Doğruluğun ortalaması: \"+ str(ortalama))\n",
        "print(\"Doğruluğun Varyansı: \"+ str(varyans))"
      ]
    },
    {
      "cell_type": "markdown",
      "metadata": {
        "id": "SLhafhaepNPc"
      },
      "source": [
        "* Doğruluğumuz %99.9 çıkmıştır."
      ]
    },
    {
      "cell_type": "markdown",
      "metadata": {
        "id": "d4LDwvA7pNPc"
      },
      "source": [
        "<a id=\"1110\"></a>\n",
        "## Evrişimsel Sinir Ağları\n",
        "* Evrişimsel sinir ağlarınin ne olduğunu öğrenmeden önce veri setimizi içe aktaralım."
      ]
    },
    {
      "cell_type": "markdown",
      "metadata": {
        "_cell_guid": "79c7e3d0-c299-4dcb-8224-4455121ee9b0",
        "_uuid": "d629ff2d2480ee46fbb7e2d37f6b5fab8052498a",
        "id": "TmeTxVrtpNPc"
      },
      "source": [
        "<a id=\"1111\"></a>\n",
        "### Veri Setini Tanıma\n",
        "* Yapay sinir ağlarında kullandığımız veri setini kullanacağız."
      ]
    },
    {
      "cell_type": "code",
      "execution_count": null,
      "metadata": {
        "_cell_guid": "b1076dfc-b9ad-4769-8c92-a6c4dae69d19",
        "_uuid": "8f2839f25d086af736a60e9eeb907d3b93b6e0e5",
        "id": "SMVfKuGDpNPc"
      },
      "outputs": [],
      "source": [
        "# Evrişimsel Sinir Ağları Kütüphaneler\n",
        "import numpy as np\n",
        "import pandas as pd\n",
        "import seaborn as sns\n",
        "import matplotlib.pyplot as plt\n",
        "\n",
        "# gereksiz uyarıları kapatalım\n",
        "import warnings\n",
        "warnings.filterwarnings('ignore')"
      ]
    },
    {
      "cell_type": "code",
      "execution_count": null,
      "metadata": {
        "_uuid": "6884db4361a209f639cd6f3bf15231d271ecf563",
        "id": "SipHeRXopNPc",
        "outputId": "33cd4d47-a9a6-421e-f3a5-f148ce36c591"
      },
      "outputs": [
        {
          "name": "stdout",
          "output_type": "stream",
          "text": [
            "Verinin Boyutu:  (42000, 785)\n"
          ]
        },
        {
          "data": {
            "text/html": [
              "<div>\n",
              "<style scoped>\n",
              "    .dataframe tbody tr th:only-of-type {\n",
              "        vertical-align: middle;\n",
              "    }\n",
              "\n",
              "    .dataframe tbody tr th {\n",
              "        vertical-align: top;\n",
              "    }\n",
              "\n",
              "    .dataframe thead th {\n",
              "        text-align: right;\n",
              "    }\n",
              "</style>\n",
              "<table border=\"1\" class=\"dataframe\">\n",
              "  <thead>\n",
              "    <tr style=\"text-align: right;\">\n",
              "      <th></th>\n",
              "      <th>label</th>\n",
              "      <th>pixel0</th>\n",
              "      <th>pixel1</th>\n",
              "      <th>pixel2</th>\n",
              "      <th>pixel3</th>\n",
              "      <th>pixel4</th>\n",
              "      <th>pixel5</th>\n",
              "      <th>pixel6</th>\n",
              "      <th>pixel7</th>\n",
              "      <th>pixel8</th>\n",
              "      <th>...</th>\n",
              "      <th>pixel774</th>\n",
              "      <th>pixel775</th>\n",
              "      <th>pixel776</th>\n",
              "      <th>pixel777</th>\n",
              "      <th>pixel778</th>\n",
              "      <th>pixel779</th>\n",
              "      <th>pixel780</th>\n",
              "      <th>pixel781</th>\n",
              "      <th>pixel782</th>\n",
              "      <th>pixel783</th>\n",
              "    </tr>\n",
              "  </thead>\n",
              "  <tbody>\n",
              "    <tr>\n",
              "      <th>0</th>\n",
              "      <td>1</td>\n",
              "      <td>0</td>\n",
              "      <td>0</td>\n",
              "      <td>0</td>\n",
              "      <td>0</td>\n",
              "      <td>0</td>\n",
              "      <td>0</td>\n",
              "      <td>0</td>\n",
              "      <td>0</td>\n",
              "      <td>0</td>\n",
              "      <td>...</td>\n",
              "      <td>0</td>\n",
              "      <td>0</td>\n",
              "      <td>0</td>\n",
              "      <td>0</td>\n",
              "      <td>0</td>\n",
              "      <td>0</td>\n",
              "      <td>0</td>\n",
              "      <td>0</td>\n",
              "      <td>0</td>\n",
              "      <td>0</td>\n",
              "    </tr>\n",
              "    <tr>\n",
              "      <th>1</th>\n",
              "      <td>0</td>\n",
              "      <td>0</td>\n",
              "      <td>0</td>\n",
              "      <td>0</td>\n",
              "      <td>0</td>\n",
              "      <td>0</td>\n",
              "      <td>0</td>\n",
              "      <td>0</td>\n",
              "      <td>0</td>\n",
              "      <td>0</td>\n",
              "      <td>...</td>\n",
              "      <td>0</td>\n",
              "      <td>0</td>\n",
              "      <td>0</td>\n",
              "      <td>0</td>\n",
              "      <td>0</td>\n",
              "      <td>0</td>\n",
              "      <td>0</td>\n",
              "      <td>0</td>\n",
              "      <td>0</td>\n",
              "      <td>0</td>\n",
              "    </tr>\n",
              "    <tr>\n",
              "      <th>2</th>\n",
              "      <td>1</td>\n",
              "      <td>0</td>\n",
              "      <td>0</td>\n",
              "      <td>0</td>\n",
              "      <td>0</td>\n",
              "      <td>0</td>\n",
              "      <td>0</td>\n",
              "      <td>0</td>\n",
              "      <td>0</td>\n",
              "      <td>0</td>\n",
              "      <td>...</td>\n",
              "      <td>0</td>\n",
              "      <td>0</td>\n",
              "      <td>0</td>\n",
              "      <td>0</td>\n",
              "      <td>0</td>\n",
              "      <td>0</td>\n",
              "      <td>0</td>\n",
              "      <td>0</td>\n",
              "      <td>0</td>\n",
              "      <td>0</td>\n",
              "    </tr>\n",
              "    <tr>\n",
              "      <th>3</th>\n",
              "      <td>4</td>\n",
              "      <td>0</td>\n",
              "      <td>0</td>\n",
              "      <td>0</td>\n",
              "      <td>0</td>\n",
              "      <td>0</td>\n",
              "      <td>0</td>\n",
              "      <td>0</td>\n",
              "      <td>0</td>\n",
              "      <td>0</td>\n",
              "      <td>...</td>\n",
              "      <td>0</td>\n",
              "      <td>0</td>\n",
              "      <td>0</td>\n",
              "      <td>0</td>\n",
              "      <td>0</td>\n",
              "      <td>0</td>\n",
              "      <td>0</td>\n",
              "      <td>0</td>\n",
              "      <td>0</td>\n",
              "      <td>0</td>\n",
              "    </tr>\n",
              "    <tr>\n",
              "      <th>4</th>\n",
              "      <td>0</td>\n",
              "      <td>0</td>\n",
              "      <td>0</td>\n",
              "      <td>0</td>\n",
              "      <td>0</td>\n",
              "      <td>0</td>\n",
              "      <td>0</td>\n",
              "      <td>0</td>\n",
              "      <td>0</td>\n",
              "      <td>0</td>\n",
              "      <td>...</td>\n",
              "      <td>0</td>\n",
              "      <td>0</td>\n",
              "      <td>0</td>\n",
              "      <td>0</td>\n",
              "      <td>0</td>\n",
              "      <td>0</td>\n",
              "      <td>0</td>\n",
              "      <td>0</td>\n",
              "      <td>0</td>\n",
              "      <td>0</td>\n",
              "    </tr>\n",
              "  </tbody>\n",
              "</table>\n",
              "<p>5 rows × 785 columns</p>\n",
              "</div>"
            ],
            "text/plain": [
              "   label  pixel0  pixel1  pixel2  pixel3  pixel4  pixel5  pixel6  pixel7  \\\n",
              "0      1       0       0       0       0       0       0       0       0   \n",
              "1      0       0       0       0       0       0       0       0       0   \n",
              "2      1       0       0       0       0       0       0       0       0   \n",
              "3      4       0       0       0       0       0       0       0       0   \n",
              "4      0       0       0       0       0       0       0       0       0   \n",
              "\n",
              "   pixel8  ...  pixel774  pixel775  pixel776  pixel777  pixel778  pixel779  \\\n",
              "0       0  ...         0         0         0         0         0         0   \n",
              "1       0  ...         0         0         0         0         0         0   \n",
              "2       0  ...         0         0         0         0         0         0   \n",
              "3       0  ...         0         0         0         0         0         0   \n",
              "4       0  ...         0         0         0         0         0         0   \n",
              "\n",
              "   pixel780  pixel781  pixel782  pixel783  \n",
              "0         0         0         0         0  \n",
              "1         0         0         0         0  \n",
              "2         0         0         0         0  \n",
              "3         0         0         0         0  \n",
              "4         0         0         0         0  \n",
              "\n",
              "[5 rows x 785 columns]"
            ]
          },
          "execution_count": 21,
          "metadata": {},
          "output_type": "execute_result"
        }
      ],
      "source": [
        "# veriyi içe aktaralım\n",
        "veri = pd.read_csv(\"egitim.csv\")\n",
        "print(\"Verinin Boyutu: \",veri.shape) # 28*28 pixel düzleştirilmiş ve 784 sütun olarak veriye eklenmiştir. 1 tanede sınıf/label bilgisi var toplamda 785 sütun vardır.\n",
        "veri.head()"
      ]
    },
    {
      "cell_type": "code",
      "execution_count": null,
      "metadata": {
        "_uuid": "318d94f6e935a6d8210d0ac03707dfa6e3946475",
        "id": "IhlYHh36pNPc",
        "outputId": "1e343d9d-4f29-461b-f631-462bf2fdc25e"
      },
      "outputs": [
        {
          "name": "stdout",
          "output_type": "stream",
          "text": [
            "X veri:  (42000, 784)\n",
            "Y veri:  (42000,)\n"
          ]
        }
      ],
      "source": [
        "# label'ları ayıralım\n",
        "Y_veri = veri[\"label\"]\n",
        "# x eğitim veri seti oluşturalım\n",
        "X_veri = veri.drop([\"label\"],axis = 1)\n",
        "print(\"X veri: \" , X_veri.shape)\n",
        "print(\"Y veri: \" , Y_veri.shape)"
      ]
    },
    {
      "cell_type": "code",
      "execution_count": null,
      "metadata": {
        "_uuid": "8902b0312e6c047596cf27ebba554a68b82604b2",
        "id": "vfsBMpM1pNPc",
        "outputId": "c33d221f-35af-4a0d-dc7b-76e48794d529"
      },
      "outputs": [
        {
          "data": {
            "image/png": "[encoded data removed]",
            "text/plain": [
              "<Figure size 1080x504 with 1 Axes>"
            ]
          },
          "metadata": {
            "needs_background": "light"
          },
          "output_type": "display_data"
        },
        {
          "name": "stdout",
          "output_type": "stream",
          "text": [
            "Sınıflar ve örnek sayıları:  1    4684\n",
            "7    4401\n",
            "3    4351\n",
            "9    4188\n",
            "2    4177\n",
            "6    4137\n",
            "0    4132\n",
            "4    4072\n",
            "8    4063\n",
            "5    3795\n",
            "Name: label, dtype: int64\n"
          ]
        }
      ],
      "source": [
        "# visualize number of digits classes\n",
        "plt.figure(figsize=(15,7))\n",
        "g = sns.countplot(Y_veri, palette=\"icefire\")\n",
        "plt.title(\"Sınıflar\")\n",
        "plt.show()\n",
        "print(\"Sınıflar ve örnek sayıları: \",Y_veri.value_counts())"
      ]
    },
    {
      "cell_type": "code",
      "execution_count": null,
      "metadata": {
        "id": "o7eYgeRqpNPc",
        "outputId": "6ecf6f2f-bfcf-4d30-cc82-2b91481012c1"
      },
      "outputs": [
        {
          "data": {
            "text/plain": [
              "28"
            ]
          },
          "execution_count": 24,
          "metadata": {},
          "output_type": "execute_result"
        }
      ],
      "source": [
        "# resmin boyutunu kullanacağız\n",
        "resim_boyutu = int(np.sqrt(X_veri.shape[1]))\n",
        "resim_boyutu"
      ]
    },
    {
      "cell_type": "code",
      "execution_count": null,
      "metadata": {
        "_uuid": "4c9d3a1467cf82a3dff04967a9846906f9758ed4",
        "id": "kQ-aPoaOpNPc",
        "outputId": "17389a36-e8a2-49e5-fe65-8e3c70d3a1b9"
      },
      "outputs": [
        {
          "data": {
            "image/png": "[encoded data removed]",
            "text/plain": [
              "<Figure size 432x288 with 1 Axes>"
            ]
          },
          "metadata": {
            "needs_background": "light"
          },
          "output_type": "display_data"
        }
      ],
      "source": [
        "# verimizi görselleştirelim 3 sınıfı\n",
        "resim1 = X_veri.iloc[2000].values\n",
        "resim1 = resim1.reshape((resim_boyutu,resim_boyutu))\n",
        "plt.imshow(resim1,cmap='gray')\n",
        "plt.axis('off')\n",
        "plt.show()"
      ]
    },
    {
      "cell_type": "code",
      "execution_count": null,
      "metadata": {
        "_uuid": "d6b119ecbe774a45656d1d157f9b33f38adf8e96",
        "id": "WGWn45QppNPc",
        "outputId": "63f4a308-b599-42af-8c58-18ef475ba921"
      },
      "outputs": [
        {
          "data": {
            "image/png": "[encoded data removed]",
            "text/plain": [
              "<Figure size 432x288 with 1 Axes>"
            ]
          },
          "metadata": {
            "needs_background": "light"
          },
          "output_type": "display_data"
        }
      ],
      "source": [
        "# verimizi görselleştirelim 4 sınıfı\n",
        "resim2 = X_veri.iloc[19000].values\n",
        "resim2 = resim2.reshape((resim_boyutu,resim_boyutu))\n",
        "plt.imshow(resim2,cmap='gray')\n",
        "plt.axis('off')\n",
        "plt.show()"
      ]
    },
    {
      "cell_type": "markdown",
      "metadata": {
        "_uuid": "74e341f4845b42101182eda3c990e3dc4dc64dff",
        "id": "fcHAs5hqpNPc"
      },
      "source": [
        "<a id=\"1112\"></a>\n",
        "### Normalleştirme, Yeniden Şekillendirme ve Etiket Kodlama\n",
        "* Normalleştirme\n",
        "    * Aydınlatmanın farklılıklarının etkisini azaltmak için gri tonlamalı normalleştirme yapıyoruz.\n",
        "    * Normalleştirme yaparsak modelimiz daha hızlı çalışır.\n",
        "* Yeniden Şekillendirme\n",
        "    * Tüm verileri 28x28x1 3B matrislere yeniden şekillendiriyoruz. Çünkü Keras girdi olarak 3B veri kabul ediyor.\n",
        "    * Keras'ın sonunda kanallara karşılık gelen ekstra bir boyuta ihtiyacı vardır. Görsellerimiz gri ölçeklidir, bu nedenle yalnızca bir kanal kullanır.\n",
        "* Etiket Kodlama\n",
        "    * Etiketleri tek vektör olarak kodlayalım\n",
        "        * 2 => [0,0,1,0,0,0,0,0,0,0]\n",
        "        * 4 => [0,0,0,0,1,0,0,0,0,0]"
      ]
    },
    {
      "cell_type": "code",
      "execution_count": null,
      "metadata": {
        "_uuid": "f39e537f15757b5da3363c138a33e50bd78bbf49",
        "id": "sedV1UA9pNPc"
      },
      "outputs": [],
      "source": [
        "# Normalize the data\n",
        "X_veri = X_veri / 255.0"
      ]
    },
    {
      "cell_type": "code",
      "execution_count": null,
      "metadata": {
        "_uuid": "d524f6de086928158a76c54d1685a92c1802e230",
        "id": "wC1U1LExpNPc",
        "outputId": "5961af18-7271-4985-ce61-d3d9e89a6d92"
      },
      "outputs": [
        {
          "name": "stdout",
          "output_type": "stream",
          "text": [
            "X eğitim boyut:  (42000, 28, 28, 1)\n"
          ]
        }
      ],
      "source": [
        "# Reshape\n",
        "X_veri = X_veri.values.reshape(-1,28,28,1)\n",
        "print(\"X eğitim boyut: \",X_veri.shape)"
      ]
    },
    {
      "cell_type": "code",
      "execution_count": null,
      "metadata": {
        "_uuid": "d15d35ca439dce194a96f4442c7a1c085ce24d28",
        "id": "seNi15oipNPc"
      },
      "outputs": [],
      "source": [
        "# etiket kodlama\n",
        "from keras.utils.np_utils import to_categorical # vektöre çevirmek için\n",
        "Y_veri = to_categorical(Y_veri, num_classes = 10)"
      ]
    },
    {
      "cell_type": "markdown",
      "metadata": {
        "_uuid": "111d4a1e66d823363f890f892bba39d692479663",
        "id": "0TtqQxHTpNPc"
      },
      "source": [
        "<a id=\"1113\"></a>\n",
        "### Eğitim Test Bölünmesi\n",
        "* test = %10 ve eğitim = %90"
      ]
    },
    {
      "cell_type": "code",
      "execution_count": null,
      "metadata": {
        "_uuid": "882d9dfb1bee94b2ec1e83911e3e334994d74f4b",
        "id": "tNaKPnK7pNPc",
        "outputId": "bd7e815e-0dbf-411e-f2ee-762fff4c0d0b"
      },
      "outputs": [
        {
          "name": "stdout",
          "output_type": "stream",
          "text": [
            "X Eğitim boyu (37800, 28, 28, 1)\n",
            "X Test boyu (4200, 28, 28, 1)\n",
            "Y Eğitim boyu (37800, 10)\n",
            "Y Test boyu (4200, 10)\n"
          ]
        }
      ],
      "source": [
        "# Split the train and the validation set for the fitting\n",
        "from sklearn.model_selection import train_test_split\n",
        "X_egitim, X_test, Y_egitim, Y_test =\n",
        "     train_test_split(X_veri, Y_veri, test_size = 0.1, random_state=2)\n",
        "print(\"X Eğitim boyu\",X_egitim.shape)\n",
        "print(\"X Test boyu\",X_test.shape)\n",
        "print(\"Y Eğitim boyu\",Y_egitim.shape)\n",
        "print(\"Y Test boyu\",Y_test.shape)"
      ]
    },
    {
      "cell_type": "markdown",
      "metadata": {
        "_uuid": "caf4b9f7fcae153ac1d4c0246b1defc9d9d30776",
        "id": "CIPs5jN5pNPc"
      },
      "source": [
        "<a id=\"1114\"></a>\n",
        "### Evrişimsel Sinir Ağları\n",
        "* Evrişimsel sinir ağları, görüntü üzerinde sınıflandırma ve nesne tespiti problemlerini çözmek için özelleşmiş ağlardır.\n",
        "* ![image.png](attachment:0a2b20a6-7c21-479e-9cba-4b668072fe8b.png)"
      ]
    },
    {
      "cell_type": "markdown",
      "metadata": {
        "_uuid": "682cb6f5144794038c0bef1dc0814dde0f7fe6c0",
        "id": "gJbolroEpNPc"
      },
      "source": [
        "<a id=\"1115\"></a>\n",
        "#### Evrişim Operasyonu Nedir?\n",
        "* Öncelikli olarak bir görüntü ve özellik algılayıcımız (3 * 3) olsun.\n",
        "* Özellik dedektörünün 3'e 3 matris olması gerekmez. 5'e 5 veya 7'ye 7 olabilir.\n",
        "* Özellik algılayıcı çekirdek ve ya filtre algılayıcı olarak da adlandırılabilir.\n",
        "* Özellik algılayıcı, kenarlar veya dışbükey şekiller gibi özellikleri algılar. Örneğin, görüntümüz bir köpek ise, özellik algılayıcı köpeğin kulağı veya kuyruğu gibi özellikleri algılayabilir.\n",
        "* özellik haritası = evrişim (giriş resmi, özellik algılayıcı). Matrislerin elemanlarının çarpımı.\n",
        "* Görüntü üzerinde gezinme gerçekleşir.\n",
        "* Bu işlemler sonucunda orjinal görüntünün boyutu azalmış oluyor, bu modelimizin hızlı çalışması açısından önemli.\n",
        "* Birden çok özellik haritası oluşturuyoruz, çünkü birden çok özellik algılayıcı (filtre) kullanıyoruz.\n",
        "* ![image.png](attachment:fdeab772-1008-49e9-893c-a321a98963d3.png)\n",
        "* Evrişim katmanından sonra aktivasyon fonksiyonu olarak ReLU kullanıyoruz. Bu aktivasyonu fonksiyonu doğrusallığı kırarak, modelimizin doğrusal olmayan yapıları öğrenmesine olanak sağlıyor.\n",
        "* ![image.png](attachment:5992fd97-9526-4795-9b4f-62e11c73c8dd.png)"
      ]
    },
    {
      "cell_type": "markdown",
      "metadata": {
        "_uuid": "3af8fb49243719ad70016b64cd4dff6e62c413d9",
        "id": "lIAQbKHppNPc"
      },
      "source": [
        "<a id=\"1116\"></a>\n",
        "#### Piksel Ekleme\n",
        "* Evrişim katmanlarını uygulamaya devam ettikçe, resmin boyutu istediğimizden daha hızlı azalacaktır. Ağımızın ilk katmanlarında, bu düşük seviyeli özellikleri çıkarabilmemiz için orijinal giriş boyutu hakkında olabildiğince fazla bilgiyi korumak istiyoruz. Bu nedenle piksel eklemesi yapıyoruz.\n",
        "* Şekilde görüldüğü gibi girdi ve çıktı boyutu aynı. Adımlama = 1, pikseller arasında 1'er 1'er dolaş demek.\n",
        "* ![image.png](attachment:536fe23f-094e-43f8-b9af-64d7cd903563.png)"
      ]
    },
    {
      "cell_type": "markdown",
      "metadata": {
        "_uuid": "6694b8ea366f974d6bd055a2915a5dc06f7a96bb",
        "id": "jnAcowW7pNPc"
      },
      "source": [
        "<a id=\"1117\"></a>\n",
        "#### Ortaklama\n",
        "* Aşağı örnekleme veya alt örnekleme yapar (Parametre sayısını azaltır)\n",
        "* Ölçek veya yön değişikliklerine göre değişmeyen özelliklerin algılanmasını sağlar.\n",
        "* Ağdaki parametre ve hesaplama miktarını azaltır ve dolayısıyla ezberlemeyi(over-fitting) da kontrol eder.\n",
        "* ![image.png](attachment:52c9a39f-9de1-4eb6-832d-ce7cc023ad23.png)"
      ]
    },
    {
      "cell_type": "markdown",
      "metadata": {
        "_uuid": "c2fb971fc473c9104a27975242a36f8e9183742c",
        "id": "qfj8vXAGpNPc"
      },
      "source": [
        "<a id=\"1118\"></a>\n",
        "#### Düzleştirme\n",
        "* İki boyutlu veriyi vektör haline getirir.\n",
        "* ![image.png](attachment:1d548e16-db9a-45c5-a607-00ad1c6c1faa.png)"
      ]
    },
    {
      "cell_type": "markdown",
      "metadata": {
        "_uuid": "f437407cf18fdfacf8626baa5e76ed5d64be1a11",
        "id": "te0rojHtpNPc"
      },
      "source": [
        "<a id=\"1119\"></a>\n",
        "#### Tam Bağlantı\n",
        "* Bir katmandaki nöronların önceki katmandaki tüm aktivasyonlarla bağlantıları vardır. Örneğin yapay sinir ağları.\n",
        "* ![image.png](attachment:ecaba90b-78bd-4790-8ea0-b2d9e6a59786.png)"
      ]
    },
    {
      "cell_type": "markdown",
      "metadata": {
        "_uuid": "7b290eb3f3b111d6841f8e4093277be1bde05078",
        "id": "lUwF7x7NpNPc"
      },
      "source": [
        "<a id=\"11110\"></a>\n",
        "### Keras ile Evrişimsel Sinir Ağları"
      ]
    },
    {
      "cell_type": "markdown",
      "metadata": {
        "_uuid": "fd9feb4c4dadbb8a5cc8a32b5ef582d41b5c0698",
        "id": "qpWX4h2CpNPc"
      },
      "source": [
        "<a id=\"11111\"></a>\n",
        "#### Model Oluşturma\n",
        "* Keras kütüphanesi ile oluşturacağımız modelde sırasıyla aşağıda bulunan katmanlar olacaktır.\n",
        "    * conv => max pool => dropout => conv => max pool => dropout => fully connected (2 layer)\n",
        "* Dropout: Seyreltme, rastgele seçilen nöronların eğitim sırasında göz ardı edildiği bir tekniktir. Ezberlemeyi(over-fitting) önler.\n",
        "* ![image.png](attachment:c448fc63-d0c1-4816-a5fd-fe62b7965994.png)"
      ]
    },
    {
      "cell_type": "code",
      "execution_count": null,
      "metadata": {
        "_uuid": "c441d7b3852cee5d3636272d4da2f96b169f81ac",
        "id": "UxG_N0S0pNPc"
      },
      "outputs": [],
      "source": [
        "# kütüphaneleri yükleyelim\n",
        "from sklearn.metrics import confusion_matrix\n",
        "import itertools\n",
        "from keras.utils.np_utils import to_categorical # convert to one-hot-encoding\n",
        "from keras.models import Sequential\n",
        "from keras.layers import Dense, Dropout, Flatten, Conv2D, MaxPool2D\n",
        "from keras.optimizers import RMSprop,Adam\n",
        "from keras.preprocessing.image import ImageDataGenerator\n",
        "from keras.callbacks import ReduceLROnPlateau\n",
        "\n",
        "model = Sequential()\n",
        "#\n",
        "model.add(Conv2D(filters = 8, kernel_size = (5,5),padding = 'Same',\n",
        "                 activation ='relu', input_shape = (28,28,1)))\n",
        "model.add(MaxPool2D(pool_size=(2,2)))\n",
        "model.add(Dropout(0.25))\n",
        "#\n",
        "model.add(Conv2D(filters = 16, kernel_size = (3,3),padding = 'Same',\n",
        "                 activation ='relu'))\n",
        "model.add(MaxPool2D(pool_size=(2,2), strides=(2,2)))\n",
        "model.add(Dropout(0.25))\n",
        "# tam bağlantı\n",
        "model.add(Flatten())\n",
        "model.add(Dense(256, activation = \"relu\"))\n",
        "model.add(Dropout(0.5))\n",
        "model.add(Dense(10, activation = \"softmax\"))"
      ]
    },
    {
      "cell_type": "markdown",
      "metadata": {
        "_uuid": "9a432df491777ca0019db6f6b972581f2c5bd9f9",
        "id": "2Xjbehs6pNPc"
      },
      "source": [
        "<a id=\"11112\"></a>\n",
        "#### Optimizerin Belirlenmesi\n",
        "* Adam optimizasyon yöntemini kullanacağız."
      ]
    },
    {
      "cell_type": "code",
      "execution_count": null,
      "metadata": {
        "_uuid": "607a02b42636e3115a1ac7a8edcadf61cf5ea1b0",
        "id": "9h0aGzIWpNPc"
      },
      "outputs": [],
      "source": [
        "# Adam optimizasyon yöntemini kullanacağız.\n",
        "optimizer = Adam(lr=0.001, beta_1=0.9, beta_2=0.999)"
      ]
    },
    {
      "cell_type": "markdown",
      "metadata": {
        "_uuid": "91bf542a979c5b191c534876186bf31e70ec7f06",
        "id": "wfyAIrflpNPc"
      },
      "source": [
        "<a id=\"11113\"></a>\n",
        "#### Modelin Derlenmesi\n",
        "* Kategorik çapraz entropi maliyet yöntemini kullanacağız.\n",
        "* ![image.png](attachment:2a4b8014-5421-4e0e-8751-4172bd02b02c.png)\n"
      ]
    },
    {
      "cell_type": "code",
      "execution_count": null,
      "metadata": {
        "_uuid": "0d1eefc68470b4cdcec04c2570651da3d97676d0",
        "id": "iy0pHbhppNPc"
      },
      "outputs": [],
      "source": [
        "# modeli derleyelim\n",
        "model.compile(optimizer = optimizer ,\n",
        "              loss = \"categorical_crossentropy\", metrics=[\"accuracy\"])"
      ]
    },
    {
      "cell_type": "markdown",
      "metadata": {
        "_uuid": "d5d8fea4cbb9b53cf1bb5089357a33dc179ee981",
        "id": "PHkp6tt_pNPc"
      },
      "source": [
        "<a id=\"11114\"></a>\n",
        "#### Döngü Sayısı ve Eğitim Boyutu\n",
        "* 10 örnek içeren bir veri kümesi olduğunu varsayalım.\n",
        "* batch_size = 2 olsun\n",
        "* epochs = 3 olsun.\n",
        "* Her bir epoch için 5 adet batch'e sahibiz (10/2 = 5).\n",
        "* 10 adet veri, her epoch da 2'şerli olarak 5 kerede döngüsünü tamamlar."
      ]
    },
    {
      "cell_type": "code",
      "execution_count": null,
      "metadata": {
        "_uuid": "a237feb5e53ecbc8799101cb6e699877faafde77",
        "id": "arwUyp2LpNPc"
      },
      "outputs": [],
      "source": [
        "epochs = 10\n",
        "batch_size = 250"
      ]
    },
    {
      "cell_type": "markdown",
      "metadata": {
        "_uuid": "e87c60e45759e0c52c2b72ee562fdb964c8008d5",
        "id": "jtaJbk_XpNPc"
      },
      "source": [
        "<a id=\"11115\"></a>\n",
        "#### Veri Artırma\n",
        "* Ezberleme sorununu önlemek için, el yazısı rakam veri setimizi yapay olarak genişletmemiz gerekiyor.\n",
        "* Rakam varyasyonlarını yeniden oluşturmak için eğitim verilerini küçük dönüşümlerle değiştirebiliriz.\n",
        "* Örneğin sayı ortalanmamıştır, ölçek aynı değildir (bazıları büyük / küçük sayılarla yazanlar) veya görüntü döndürülür.\n",
        "* ![image.png](attachment:c5ea570f-da6e-46b7-9769-1a8525abfa0b.png)  "
      ]
    },
    {
      "cell_type": "code",
      "execution_count": null,
      "metadata": {
        "_uuid": "c339fa7d06e9b73a519ca661bed19de482707d1f",
        "id": "pYxY_RKgpNPc"
      },
      "outputs": [],
      "source": [
        "# data augmentation\n",
        "datagen = ImageDataGenerator(\n",
        "        featurewise_center=False,  # girdi ortalamasını veri kümesi üzerinden 0 olarak ayarlayın\n",
        "        samplewise_center=False,  # her bir örnek ortalamasını 0 olarak ayarlayın\n",
        "        featurewise_std_normalization=False,  # girdileri veri kümesinin standartlarına böl\n",
        "        samplewise_std_normalization=False,  # her girdiyi std'ye böl\n",
        "        zca_whitening=False,  # dimesion reduction\n",
        "        rotation_range=5,  # boyut küçültme\n",
        "        zoom_range = 0.1, # % 10 görüntüyü rastgele yakınlaştır\n",
        "        width_shift_range=0.1,  # görüntüleri yatay olarak rastgele kaydır % 10\n",
        "        height_shift_range=0.1,  # görüntüleri dikey olarak rastgele kaydır % 10\n",
        "        horizontal_flip=False,  # görüntüleri yatay olarak rastgele çevir\n",
        "        vertical_flip=False)  # görüntüleri yadikeytay olarak rastgele çevir\n",
        "\n",
        "datagen.fit(X_egitim)"
      ]
    },
    {
      "cell_type": "markdown",
      "metadata": {
        "_uuid": "e42e43f1b3b9e6da0d99dafff8f4a4b514a07f4c",
        "id": "bBdCCNVdpNPc"
      },
      "source": [
        "<a id=\"11116\"></a>\n",
        "#### Modelin Eğitilmesi"
      ]
    },
    {
      "cell_type": "code",
      "execution_count": null,
      "metadata": {
        "_uuid": "4b2957bb8976a25cdbbbdc3110d68c5035a9773c",
        "id": "bJaHDEUApNPc",
        "outputId": "510aaafb-1c1a-4ff8-a9bb-0e4f75fda212"
      },
      "outputs": [
        {
          "name": "stdout",
          "output_type": "stream",
          "text": [
            "Epoch 1/10\n",
            " - 25s - loss: 1.1171 - accuracy: 0.6205 - val_loss: 0.2462 - val_accuracy: 0.9352\n",
            "Epoch 2/10\n",
            " - 25s - loss: 0.4697 - accuracy: 0.8512 - val_loss: 0.1481 - val_accuracy: 0.9581\n",
            "Epoch 3/10\n",
            " - 26s - loss: 0.3451 - accuracy: 0.8909 - val_loss: 0.1180 - val_accuracy: 0.9648\n",
            "Epoch 4/10\n",
            " - 24s - loss: 0.2952 - accuracy: 0.9072 - val_loss: 0.1024 - val_accuracy: 0.9683\n",
            "Epoch 5/10\n",
            " - 23s - loss: 0.2606 - accuracy: 0.9194 - val_loss: 0.0935 - val_accuracy: 0.9717\n",
            "Epoch 6/10\n",
            " - 23s - loss: 0.2336 - accuracy: 0.9275 - val_loss: 0.0856 - val_accuracy: 0.9729\n",
            "Epoch 7/10\n",
            " - 23s - loss: 0.2229 - accuracy: 0.9313 - val_loss: 0.0785 - val_accuracy: 0.9760\n",
            "Epoch 8/10\n",
            " - 25s - loss: 0.2030 - accuracy: 0.9363 - val_loss: 0.0713 - val_accuracy: 0.9786\n",
            "Epoch 9/10\n",
            " - 24s - loss: 0.1944 - accuracy: 0.9411 - val_loss: 0.0656 - val_accuracy: 0.9805\n",
            "Epoch 10/10\n",
            " - 24s - loss: 0.1789 - accuracy: 0.9439 - val_loss: 0.0599 - val_accuracy: 0.9810\n"
          ]
        }
      ],
      "source": [
        "# modelin eğitilmesi\n",
        "history = model.fit_generator(datagen.flow(X_egitim,Y_egitim,\n",
        "                                           batch_size=batch_size),\n",
        "                              epochs = epochs,\n",
        "                              validation_data = (X_test,Y_test),\n",
        "                              steps_per_epoch=X_egitim.shape[0]\n",
        "                              // batch_size, verbose=2)"
      ]
    },
    {
      "cell_type": "markdown",
      "metadata": {
        "_uuid": "debd5424728e11aa30a8513ac7b4f7377193a2da",
        "id": "G8UMD5V7pNPc"
      },
      "source": [
        "<a id=\"11117\"></a>\n",
        "#### Modelin Değerlendirilmesi\n",
        "* Maliyet görselleştirme\n",
        "* Karışıklık matrisi"
      ]
    },
    {
      "cell_type": "code",
      "execution_count": null,
      "metadata": {
        "_uuid": "180a06f7ae01e69117c6c8258411cfe1b9b7b991",
        "id": "aeXik-ZlpNPc",
        "outputId": "446db9a2-723c-469a-ff84-1960b86da309"
      },
      "outputs": [
        {
          "data": {
            "image/png": "[encoded data removed]",
            "text/plain": [
              "<Figure size 432x288 with 1 Axes>"
            ]
          },
          "metadata": {
            "needs_background": "light"
          },
          "output_type": "display_data"
        }
      ],
      "source": [
        "# Maliyet görselleştirme\n",
        "plt.plot(history.history['val_loss'], color='b')\n",
        "plt.title(\"Test Maliyet\")\n",
        "plt.xlabel(\"İterasyon\")\n",
        "plt.ylabel(\"Maliyet\")\n",
        "plt.show()"
      ]
    },
    {
      "cell_type": "code",
      "execution_count": null,
      "metadata": {
        "_uuid": "6586e37bd470db822086e191a90388e7175d504f",
        "id": "CwB07Uy4pNPc",
        "outputId": "5ffde1cf-3e84-47c5-c57b-3102749ccc36"
      },
      "outputs": [
        {
          "data": {
            "image/png": "[encoded data removed]",
            "text/plain": [
              "<Figure size 576x576 with 2 Axes>"
            ]
          },
          "metadata": {
            "needs_background": "light"
          },
          "output_type": "display_data"
        }
      ],
      "source": [
        "# veri test setinden tahmin et\n",
        "Y_pred = model.predict(X_test)\n",
        "\n",
        "# tahmin edilen veriyi çevir\n",
        "Y_pred_classes = np.argmax(Y_pred,axis = 1)\n",
        "\n",
        "# test verisini çevir\n",
        "Y_true = np.argmax(Y_test,axis = 1)\n",
        "\n",
        "# karışıklık matrisini hesapla\n",
        "confusion_mtx = confusion_matrix(Y_true, Y_pred_classes)\n",
        "\n",
        "# karşıklık matrisini çizdir.\n",
        "f,ax = plt.subplots(figsize=(8, 8))\n",
        "sns.heatmap(confusion_mtx, annot=True, linewidths=0.01,\n",
        "            cmap=\"Greens\",linecolor=\"gray\", fmt= '.1f',ax=ax)\n",
        "plt.xlabel(\"Tahminlenen Etiket\")\n",
        "plt.ylabel(\"Gerçek Etiket\")\n",
        "plt.title(\"Karışıklık Matrisi\")\n",
        "plt.show()"
      ]
    },
    {
      "cell_type": "markdown",
      "metadata": {
        "id": "Mk5hB6kLpNPc"
      },
      "source": [
        "<a id=\"1120\"></a>\n",
        "## Tekrarlayan Sinir Ağları\n",
        "* Tekrarlayan sinir ağları aldıkları girdiyle ilgili önemli şeyleri hatırlayabilir ve bu da onların bir sonraki adımın ne olacağını tahmin etmede çok hassas olmalarını sağlar.\n",
        "* Zaman serileri, konuşma, metin, finansal veriler, ses, video ve hava durumu gibi sıralı veriler için tercih edilen algoritmalardır, çünkü diğer derin öğrenme algoritmalarına kıyasla bir dizi ve bağlam hakkında çok daha derin bir anlayış oluşturabilirler.\n",
        "* Tekrarlayan sinir ağlarının dahili hafızası olduğundan, çıktıyı beslemekle kalmaz, aynı zamanda kendi içine de geri besleme verir.\n",
        "* ![image.png](attachment:66dbeb35-0bec-40af-8fd1-3bf49ba47fdf.png)\n",
        "* Belleğe sahip oldukları için kısa süreli geçmişi bir önceki nöronda olanları hatırlarlar yani eskiyi hatırlar.\n",
        "* Mesela geçmişi hatırlamak neden önemli? Biz yaptıklarımızdan bir şeyler öğreniriz ve yeni öğrenilen şeyleri de eski öğrendiklerimizi üzerine kurarız. Tekrarlayan sinir ağlarıda aynı mantıkta düşünebilirsiniz.\n",
        "* ![image.png](attachment:afd0cd51-b208-4d50-8902-dd75f842906f.png)\n",
        "* Örnek Tekrarlayan sinir ağları yapılarına bakalım\n",
        "* Birden çoğa\n",
        "    * Girdi bir resim çıktı ise o resimde yapılan cümle yani \"Adam surf yapıyor.\"\n",
        "    * ![image.png](attachment:7fb6bb41-ee0f-4237-af7a-7df5fd10de79.png)\n",
        "* Çoktan bire\n",
        "    * Girdi bir cümle çıktı bir duygu mesela iyimser, neşeli gibi.\n",
        "    * ![image.png](attachment:b3934bc0-a7dc-4ff7-a854-4f753fcfd0fc.png)\n",
        "* Çoktan to çoğa\n",
        "    * Mesela google çeviri kullanarak İngilizce'den bir cümleyi Türkçe'ye çevirmek\n",
        "    * ![image.png](attachment:382099e4-edc2-463f-b379-a822ba4d7df3.png)"
      ]
    },
    {
      "cell_type": "markdown",
      "metadata": {
        "id": "NCsvN6cppNPc"
      },
      "source": [
        "<a id=\"1123\"></a>\n",
        "### Keras ile Tekrarlayan Sinir Ağları\n"
      ]
    },
    {
      "cell_type": "markdown",
      "metadata": {
        "id": "Wk7_CN4QpNPc"
      },
      "source": [
        "<a id=\"11231\"></a>\n",
        "#### Veri Setini Tanıma"
      ]
    },
    {
      "cell_type": "code",
      "execution_count": null,
      "metadata": {
        "id": "dLWG9KFwpNPc"
      },
      "outputs": [],
      "source": [
        "# veri setlerini yükleyelim\n",
        "import numpy as np\n",
        "import matplotlib.pyplot as plt\n",
        "import pandas as pd\n",
        "import warnings\n",
        "warnings.filterwarnings('ignore')"
      ]
    },
    {
      "cell_type": "code",
      "execution_count": null,
      "metadata": {
        "id": "gnkJCmaMpNPc",
        "outputId": "95629e4c-5c79-411c-d442-899c5c185e30"
      },
      "outputs": [
        {
          "data": {
            "text/html": [
              "<div>\n",
              "<style scoped>\n",
              "    .dataframe tbody tr th:only-of-type {\n",
              "        vertical-align: middle;\n",
              "    }\n",
              "\n",
              "    .dataframe tbody tr th {\n",
              "        vertical-align: top;\n",
              "    }\n",
              "\n",
              "    .dataframe thead th {\n",
              "        text-align: right;\n",
              "    }\n",
              "</style>\n",
              "<table border=\"1\" class=\"dataframe\">\n",
              "  <thead>\n",
              "    <tr style=\"text-align: right;\">\n",
              "      <th></th>\n",
              "      <th>Month</th>\n",
              "      <th>International airline passengers: monthly totals in thousands. Jan 49 ? Dec 60</th>\n",
              "    </tr>\n",
              "  </thead>\n",
              "  <tbody>\n",
              "    <tr>\n",
              "      <th>0</th>\n",
              "      <td>1949-01</td>\n",
              "      <td>112.0</td>\n",
              "    </tr>\n",
              "    <tr>\n",
              "      <th>1</th>\n",
              "      <td>1949-02</td>\n",
              "      <td>118.0</td>\n",
              "    </tr>\n",
              "    <tr>\n",
              "      <th>2</th>\n",
              "      <td>1949-03</td>\n",
              "      <td>132.0</td>\n",
              "    </tr>\n",
              "    <tr>\n",
              "      <th>3</th>\n",
              "      <td>1949-04</td>\n",
              "      <td>129.0</td>\n",
              "    </tr>\n",
              "    <tr>\n",
              "      <th>4</th>\n",
              "      <td>1949-05</td>\n",
              "      <td>121.0</td>\n",
              "    </tr>\n",
              "  </tbody>\n",
              "</table>\n",
              "</div>"
            ],
            "text/plain": [
              "     Month  \\\n",
              "0  1949-01   \n",
              "1  1949-02   \n",
              "2  1949-03   \n",
              "3  1949-04   \n",
              "4  1949-05   \n",
              "\n",
              "   International airline passengers: monthly totals in thousands. Jan 49 ? Dec 60  \n",
              "0                                              112.0                               \n",
              "1                                              118.0                               \n",
              "2                                              132.0                               \n",
              "3                                              129.0                               \n",
              "4                                              121.0                               "
            ]
          },
          "execution_count": 40,
          "metadata": {},
          "output_type": "execute_result"
        }
      ],
      "source": [
        "# veriyi içe aktar\n",
        "veri = pd.read_csv('uluslararası_havayolu_yolcuları.csv')\n",
        "veri.head()"
      ]
    },
    {
      "cell_type": "code",
      "execution_count": null,
      "metadata": {
        "id": "q8GSVEk2pNPc",
        "outputId": "05686537-2e11-4f00-c665-6628afd10c37"
      },
      "outputs": [
        {
          "data": {
            "image/png": "[encoded data removed]",
            "text/plain": [
              "<Figure size 432x288 with 1 Axes>"
            ]
          },
          "metadata": {
            "needs_background": "light"
          },
          "output_type": "display_data"
        }
      ],
      "source": [
        "# veriyi görselleştirelim\n",
        "veri = veri.iloc[:,1].values\n",
        "plt.plot(veri)\n",
        "plt.xlabel(\"zaman\")\n",
        "plt.ylabel(\"Yolcu Sayısı\")\n",
        "plt.title(\"Uluslararası Havayolu Yolcuları\")\n",
        "plt.show()"
      ]
    },
    {
      "cell_type": "code",
      "execution_count": null,
      "metadata": {
        "id": "dE0RDrIlpNPc",
        "outputId": "c95f8e84-e862-4bb9-fae1-978248981484"
      },
      "outputs": [
        {
          "data": {
            "text/plain": [
              "(145, 1)"
            ]
          },
          "execution_count": 42,
          "metadata": {},
          "output_type": "execute_result"
        }
      ],
      "source": [
        "# verinin şeklini ve veri tipini değiştir\n",
        "veri = veri.reshape(-1,1)\n",
        "veri = veri.astype(\"float32\")\n",
        "veri.shape"
      ]
    },
    {
      "cell_type": "code",
      "execution_count": null,
      "metadata": {
        "id": "sPWlBU30pNPc",
        "outputId": "182d68d9-0b3a-4772-f01a-e3b730c46130"
      },
      "outputs": [
        {
          "data": {
            "text/plain": [
              "array([[0.01544401],\n",
              "       [0.02702703],\n",
              "       [0.05405405],\n",
              "       [0.04826255]], dtype=float32)"
            ]
          },
          "execution_count": 43,
          "metadata": {},
          "output_type": "execute_result"
        }
      ],
      "source": [
        "# normalize edelim\n",
        "from sklearn.preprocessing import MinMaxScaler\n",
        "scaler = MinMaxScaler(feature_range = (0, 1))\n",
        "veri_scaled = scaler.fit_transform(veri)\n",
        "veri_scaled[:4]"
      ]
    },
    {
      "cell_type": "code",
      "execution_count": null,
      "metadata": {
        "id": "SutTvds-pNPc",
        "outputId": "d8ab4831-5209-4550-b427-69cf0f306590"
      },
      "outputs": [
        {
          "name": "stdout",
          "output_type": "stream",
          "text": [
            "Egitim boyu: 87, Test boyu: 58 \n"
          ]
        }
      ],
      "source": [
        "# veriyi eğitim ve test olarak bölelim,\n",
        "# verinin %60'lık ilk kısmı eğitim geri kalanı da test olsun\n",
        "egitim_boyu = int(len(veri) * 0.60)\n",
        "test_boyu = len(veri) - egitim_boyu\n",
        "egitim =veri_scaled[0:egitim_boyu,:]\n",
        "test = veri_scaled[egitim_boyu:len(veri),:]\n",
        "print(\"Egitim boyu: {}, Test boyu: {} \".format(len(egitim), len(test)))"
      ]
    },
    {
      "cell_type": "code",
      "execution_count": null,
      "metadata": {
        "id": "kqu_1J4VpNPc"
      },
      "outputs": [],
      "source": [
        "# Eğitim verisini 10'ar lı olarak yeniden şekillendirelim\n",
        "time_stemp = 10\n",
        "dataX = []\n",
        "dataY = []\n",
        "for i in range(len(egitim)-time_stemp-1):\n",
        "    a = egitim[i:(i+time_stemp), 0]\n",
        "    dataX.append(a)\n",
        "    dataY.append(egitim[i + time_stemp, 0])\n",
        "egitimX = np.array(dataX)\n",
        "egitimY = np.array(dataY)"
      ]
    },
    {
      "cell_type": "code",
      "execution_count": null,
      "metadata": {
        "id": "7sF5EZN7pNPc"
      },
      "outputs": [],
      "source": [
        "# test verisini 10'ar lı olarak yeniden şekillendirelim\n",
        "dataX = []\n",
        "dataY = []\n",
        "for i in range(len(test)-time_stemp-1):\n",
        "    a = test[i:(i+time_stemp), 0]\n",
        "    dataX.append(a)\n",
        "    dataY.append(test[i + time_stemp, 0])\n",
        "testX = np.array(dataX)\n",
        "testY = np.array(dataY)"
      ]
    },
    {
      "cell_type": "code",
      "execution_count": null,
      "metadata": {
        "id": "dDx2KBhwpNPc",
        "outputId": "aeeca71d-2601-4223-a93b-0aaffcf7b52a"
      },
      "outputs": [
        {
          "name": "stdout",
          "output_type": "stream",
          "text": [
            "Eğitim X şekli:  (76, 10, 1)\n",
            "Test X şekli:  (47, 10, 1)\n"
          ]
        }
      ],
      "source": [
        "# verinin şeklini keras için uygun hale getirelim\n",
        "egitimX = np.reshape(egitimX, (egitimX.shape[0], egitimX.shape[1], 1))\n",
        "testX = np.reshape(testX, (testX.shape[0], testX.shape[1], 1))\n",
        "print('Eğitim X şekli: ', egitimX.shape)\n",
        "print('Test X şekli: ', testX.shape)"
      ]
    },
    {
      "cell_type": "markdown",
      "metadata": {
        "id": "5vS788gCpNPc"
      },
      "source": [
        "<a id=\"11232\"></a>\n",
        "#### Create RNN Model"
      ]
    },
    {
      "cell_type": "code",
      "execution_count": null,
      "metadata": {
        "id": "n4AE9G7GpNPc",
        "outputId": "d386c2ba-3903-4a9f-e983-53ed92822a16"
      },
      "outputs": [
        {
          "data": {
            "text/plain": [
              "<keras.callbacks.callbacks.History at 0x1ab1feed988>"
            ]
          },
          "execution_count": 48,
          "metadata": {},
          "output_type": "execute_result"
        }
      ],
      "source": [
        "# keras kütüphanemizde gerekli metotları içe aktaralım\n",
        "from keras.models import Sequential\n",
        "from keras.layers import Dense\n",
        "from keras.layers import SimpleRNN\n",
        "from keras.layers import Dropout\n",
        "\n",
        "# tekrarlanan sinir ağlarının temelini oluşturur.\n",
        "regressor = Sequential()\n",
        "\n",
        "# ilk katman ve drop out katmanı\n",
        "regressor.add(SimpleRNN(units = 120,activation='relu',\n",
        "                        return_sequences = True,\n",
        "                        input_shape = (egitimX.shape[1], 1)))\n",
        "regressor.add(Dropout(0.2))\n",
        "\n",
        "# ikinci katman ve drop out katmanı\n",
        "regressor.add(SimpleRNN(units = 80,activation='relu',\n",
        "                        return_sequences = True))\n",
        "regressor.add(Dropout(0.2))\n",
        "\n",
        "# üçüncü katman ve drop out katmanı\n",
        "regressor.add(SimpleRNN(units = 40,activation='relu',\n",
        "                        return_sequences = True))\n",
        "regressor.add(Dropout(0.2))\n",
        "\n",
        "# dördüncü katman ve drop out katmanı\n",
        "regressor.add(SimpleRNN(units = 20,activation='relu',\n",
        "                        return_sequences = True))\n",
        "regressor.add(Dropout(0.2))\n",
        "\n",
        "# beşinci katman ve drop out katmanı\n",
        "regressor.add(SimpleRNN(units = 10))\n",
        "regressor.add(Dropout(0.2))\n",
        "\n",
        "# tek bir çıktı olacak\n",
        "regressor.add(Dense(units = 1))\n",
        "\n",
        "# derleyelim\n",
        "regressor.compile(optimizer = 'adam', loss = 'mean_squared_error')\n",
        "\n",
        "# eğitim başlasın\n",
        "regressor.fit(egitimX, egitimY, epochs = 250, batch_size = 50, verbose = 0)"
      ]
    },
    {
      "cell_type": "markdown",
      "metadata": {
        "id": "HfwSuMRzpNPc"
      },
      "source": [
        "<a id=\"11233\"></a>\n",
        "#### Tahminleme ve Modelin Değerlendirilmesi\n",
        "* Modelin değerlendirilmesinide kök-ortalama-kare hatası yöntemini kullanacağız.\n",
        "* ![image.png](attachment:1a313cb0-d716-4cac-a076-2becfbbd5d43.png)"
      ]
    },
    {
      "cell_type": "code",
      "execution_count": null,
      "metadata": {
        "id": "T9bwErJRpNPc"
      },
      "outputs": [],
      "source": [
        "# gerekli kütüphaneleri ekleyelim.\n",
        "import math\n",
        "from sklearn.metrics import mean_squared_error\n",
        "\n",
        "egitimTahmin = regressor.predict(egitimX)\n",
        "testTahmin = regressor.predict(testX)\n",
        "\n",
        "# normalize etmiştik normale çevirelim\n",
        "egitimTahmin = scaler.inverse_transform(egitimTahmin)\n",
        "egitimY = scaler.inverse_transform([egitimY])\n",
        "testTahmin = scaler.inverse_transform(testTahmin)\n",
        "testY = scaler.inverse_transform([testY])"
      ]
    },
    {
      "cell_type": "code",
      "execution_count": null,
      "metadata": {
        "id": "hkxblUbMpNPc",
        "outputId": "fa060d3c-d762-420a-c21c-caab9d39bd33"
      },
      "outputs": [
        {
          "name": "stdout",
          "output_type": "stream",
          "text": [
            "Eğitim Skoru: 19.68 RMSE\n",
            "Test Skoru: 75.58 RMSE\n"
          ]
        }
      ],
      "source": [
        "# kök ortalama kare hatası\n",
        "trainScore = math.sqrt(mean_squared_error(egitimY[0], egitimTahmin[:,0]))\n",
        "print('Eğitim Skoru: %.2f RMSE' % (trainScore))\n",
        "testScore = math.sqrt(mean_squared_error(testY[0], testTahmin[:,0]))\n",
        "print('Test Skoru: %.2f RMSE' % (testScore))"
      ]
    },
    {
      "cell_type": "code",
      "execution_count": null,
      "metadata": {
        "id": "XcQeXBPApNPc",
        "outputId": "b931a550-c8a0-44cf-8b2a-8a0ded639152"
      },
      "outputs": [
        {
          "data": {
            "image/png": "[encoded data removed]",
            "text/plain": [
              "<Figure size 432x288 with 1 Axes>"
            ]
          },
          "metadata": {
            "needs_background": "light"
          },
          "output_type": "display_data"
        }
      ],
      "source": [
        "# eğitim verisini kaydır\n",
        "trainPredictPlot = np.empty_like(veri)\n",
        "trainPredictPlot[:, :] = np.nan\n",
        "trainPredictPlot[time_stemp:len(egitimTahmin)+time_stemp, :] = egitimTahmin\n",
        "# test verisini kaydır\n",
        "testPredictPlot = np.empty_like(veri)\n",
        "testPredictPlot[:, :] = np.nan\n",
        "testPredictPlot[len(egitimTahmin)+(time_stemp*2)+1:len(veri)-1, :] =\n",
        "                    testTahmin\n",
        "# görselleştir\n",
        "plt.plot(scaler.inverse_transform(veri_scaled), color='b', label = \"Gerçek\")\n",
        "plt.plot(trainPredictPlot, color='r', label = \"Eğitim\")\n",
        "plt.plot(testPredictPlot, color='g', label = \"test\")\n",
        "plt.legend()\n",
        "plt.show()"
      ]
    }
  ],
  "metadata": {
    "kernelspec": {
      "display_name": "Python 3",
      "language": "python",
      "name": "python3"
    },
    "language_info": {
      "codemirror_mode": {
        "name": "ipython",
        "version": 3
      },
      "file_extension": ".py",
      "mimetype": "text/x-python",
      "name": "python",
      "nbconvert_exporter": "python",
      "pygments_lexer": "ipython3",
      "version": "3.8.5"
    },
    "colab": {
      "provenance": [],
      "include_colab_link": true
    }
  },
  "nbformat": 4,
  "nbformat_minor": 0
}